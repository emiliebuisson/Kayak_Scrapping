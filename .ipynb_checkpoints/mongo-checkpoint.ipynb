{
 "cells": [
  {
   "cell_type": "code",
   "execution_count": 9,
   "metadata": {},
   "outputs": [],
   "source": [
    "from pymongo import MongoClient\n",
    "\n",
    "# création de l'instance du client MongoClient + spécification de l'adresse IP / port du serveur de la BDD\n",
    "client = MongoClient('mongodb://mongo')\n",
    "\n",
    "# Accès à la BDD en spécifiant nom + infos d'identification si besoin\n",
    "db = client['Kayak']\n",
    "# db.authenticate('nom_d_utilisateur', 'mot_de_passe')\n",
    "\n",
    "# # Accès à la collection contenant les données que l'on souhaite traiter\n",
    "# collection = db['nom_de_la_collection']\n"
   ]
  },
  {
   "cell_type": "code",
   "execution_count": 10,
   "metadata": {},
   "outputs": [
    {
     "data": {
      "text/plain": [
       "<pymongo.results.InsertManyResult at 0x7f67444672e0>"
      ]
     },
     "execution_count": 10,
     "metadata": {},
     "output_type": "execute_result"
    }
   ],
   "source": [
    "db.tunis_coll.insert_many([{'_id': '63f88fb38da44c3aeb386b82',\n",
    "  'price': '72',\n",
    "  'date': '3/22',\n",
    "  'day': 'Wed',\n",
    "  'departure': '6:25 am',\n",
    "  'arrival': '8:55 am',\n",
    "  'duration': '2h 30m',\n",
    "  'company': 'Transavia France'},\n",
    " {'_id': '63f88fb48da44c3aeb386b83',\n",
    "  'price': '83',\n",
    "  'date': '3/22',\n",
    "  'day': 'Wed',\n",
    "  'departure': '8:50 pm',\n",
    "  'arrival': '11:15 pm',\n",
    "  'duration': '2h 25m',\n",
    "  'company': 'Tunisair'},\n",
    " {'_id': '63f88fb58da44c3aeb386b84',\n",
    "  'price': '72',\n",
    "  'date': '3/22',\n",
    "  'day': 'Wed',\n",
    "  'departure': '6:25 am',\n",
    "  'arrival': '8:55 am',\n",
    "  'duration': '2h 30m',\n",
    "  'company': 'Transavia France'},\n",
    " {'_id': '63f88fb78da44c3aeb386b85',\n",
    "  'price': '88',\n",
    "  'date': '3/21',\n",
    "  'day': 'Tue',\n",
    "  'departure': '8:50 pm',\n",
    "  'arrival': '11:15 pm',\n",
    "  'duration': '2h 25m',\n",
    "  'company': 'Tunisair'},\n",
    " {'_id': '63f88fb88da44c3aeb386b86',\n",
    "  'price': '88',\n",
    "  'date': '3/24',\n",
    "  'day': 'Fri',\n",
    "  'departure': '8:50 pm',\n",
    "  'arrival': '11:15 pm',\n",
    "  'duration': '2h 25m',\n",
    "  'company': 'Tunisair'}])"
   ]
  },
  {
   "cell_type": "code",
   "execution_count": 11,
   "metadata": {},
   "outputs": [],
   "source": [
    "# Récupération des documents correspondants\n",
    "result = db.ma_collection.find({\"company\": \"Tunisair\"})\n",
    "\n",
    "# Parcours des documents et affichage de leur contenu\n",
    "for document in result:\n",
    "    print(document)"
   ]
  },
  {
   "cell_type": "code",
   "execution_count": null,
   "metadata": {},
   "outputs": [],
   "source": []
  }
 ],
 "metadata": {
  "kernelspec": {
   "display_name": "Python 3 (ipykernel)",
   "language": "python",
   "name": "python3"
  },
  "language_info": {
   "codemirror_mode": {
    "name": "ipython",
    "version": 3
   },
   "file_extension": ".py",
   "mimetype": "text/x-python",
   "name": "python",
   "nbconvert_exporter": "python",
   "pygments_lexer": "ipython3",
   "version": "3.8.16"
  }
 },
 "nbformat": 4,
 "nbformat_minor": 2
}
