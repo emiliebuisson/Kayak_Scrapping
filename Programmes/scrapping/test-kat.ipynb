{
 "cells": [
  {
   "cell_type": "code",
   "execution_count": 1,
   "id": "28a05821",
   "metadata": {},
   "outputs": [
    {
     "name": "stdout",
     "output_type": "stream",
     "text": [
      "Requirement already satisfied: selenium in /root/.local/share/virtualenvs/code-AFz48Hjb/lib/python3.8/site-packages (4.8.2)\n",
      "Requirement already satisfied: certifi>=2021.10.8 in /root/.local/share/virtualenvs/code-AFz48Hjb/lib/python3.8/site-packages (from selenium) (2022.12.7)\n",
      "Requirement already satisfied: urllib3[socks]~=1.26 in /root/.local/share/virtualenvs/code-AFz48Hjb/lib/python3.8/site-packages (from selenium) (1.26.14)\n",
      "Requirement already satisfied: trio~=0.17 in /root/.local/share/virtualenvs/code-AFz48Hjb/lib/python3.8/site-packages (from selenium) (0.22.0)\n",
      "Requirement already satisfied: trio-websocket~=0.9 in /root/.local/share/virtualenvs/code-AFz48Hjb/lib/python3.8/site-packages (from selenium) (0.9.2)\n",
      "Requirement already satisfied: idna in /root/.local/share/virtualenvs/code-AFz48Hjb/lib/python3.8/site-packages (from trio~=0.17->selenium) (3.4)\n",
      "Requirement already satisfied: sortedcontainers in /root/.local/share/virtualenvs/code-AFz48Hjb/lib/python3.8/site-packages (from trio~=0.17->selenium) (2.4.0)\n",
      "Requirement already satisfied: async-generator>=1.9 in /root/.local/share/virtualenvs/code-AFz48Hjb/lib/python3.8/site-packages (from trio~=0.17->selenium) (1.10)\n",
      "Requirement already satisfied: exceptiongroup>=1.0.0rc9 in /root/.local/share/virtualenvs/code-AFz48Hjb/lib/python3.8/site-packages (from trio~=0.17->selenium) (1.1.0)\n",
      "Requirement already satisfied: attrs>=19.2.0 in /root/.local/share/virtualenvs/code-AFz48Hjb/lib/python3.8/site-packages (from trio~=0.17->selenium) (22.2.0)\n",
      "Requirement already satisfied: outcome in /root/.local/share/virtualenvs/code-AFz48Hjb/lib/python3.8/site-packages (from trio~=0.17->selenium) (1.2.0)\n",
      "Requirement already satisfied: sniffio in /root/.local/share/virtualenvs/code-AFz48Hjb/lib/python3.8/site-packages (from trio~=0.17->selenium) (1.3.0)\n",
      "Requirement already satisfied: wsproto>=0.14 in /root/.local/share/virtualenvs/code-AFz48Hjb/lib/python3.8/site-packages (from trio-websocket~=0.9->selenium) (1.2.0)\n",
      "Requirement already satisfied: PySocks!=1.5.7,<2.0,>=1.5.6 in /root/.local/share/virtualenvs/code-AFz48Hjb/lib/python3.8/site-packages (from urllib3[socks]~=1.26->selenium) (1.7.1)\n",
      "Requirement already satisfied: h11<1,>=0.9.0 in /root/.local/share/virtualenvs/code-AFz48Hjb/lib/python3.8/site-packages (from wsproto>=0.14->trio-websocket~=0.9->selenium) (0.14.0)\n"
     ]
    }
   ],
   "source": [
    "!pip install selenium"
   ]
  },
  {
   "cell_type": "code",
   "execution_count": 2,
   "id": "45dde620",
   "metadata": {},
   "outputs": [
    {
     "name": "stdout",
     "output_type": "stream",
     "text": [
      "Requirement already satisfied: pyyaml in /root/.local/share/virtualenvs/code-AFz48Hjb/lib/python3.8/site-packages (6.0)\r\n"
     ]
    }
   ],
   "source": [
    "!pip install pyyaml"
   ]
  },
  {
   "cell_type": "code",
   "execution_count": 3,
   "id": "b94a01d1",
   "metadata": {},
   "outputs": [],
   "source": [
    "import os\n",
    "import time\n",
    "import yaml\n",
    "from datetime import datetime\n",
    "\n",
    "import pandas as pd\n",
    "from pymongo import MongoClient\n",
    "\n",
    "\n",
    "from selenium import webdriver\n",
    "from selenium.webdriver.support.ui import WebDriverWait\n",
    "from selenium.webdriver.common.by import By\n",
    "from selenium.webdriver.support import expected_conditions as EC\n",
    "# from selenium.webdriver.common.keys import Keys\n",
    "# from selenium.webdriver.support.ui import Select\n",
    "# from selenium.webdriver.common.action_chains import ActionChains\n",
    "from selenium.webdriver.firefox.options import Options\n",
    "\n",
    "from selenium.common.exceptions import TimeoutException\n",
    "from selenium.common.exceptions import NoSuchElementException\n",
    "from selenium.common.exceptions import StaleElementReferenceException"
   ]
  },
  {
   "cell_type": "code",
   "execution_count": 4,
   "id": "dcf6af95",
   "metadata": {},
   "outputs": [
    {
     "name": "stdout",
     "output_type": "stream",
     "text": [
      "webdriver ok\n"
     ]
    }
   ],
   "source": [
    "options = webdriver.FirefoxOptions()\n",
    "options.add_argument('--ignore-ssl-errors=yes')\n",
    "options.add_argument('--ignore-certificate-errors')\n",
    "options.add_argument('start-maximized')\n",
    "browser = webdriver.Remote(command_executor='http://192.168.65.4:4444', options=options)\n",
    "print(\"webdriver ok\")"
   ]
  },
  {
   "cell_type": "code",
   "execution_count": 5,
   "id": "d353832c",
   "metadata": {},
   "outputs": [],
   "source": [
    "mc = MongoClient('mongodb://mongo')\n",
    "db = mc['Kayak']"
   ]
  },
  {
   "cell_type": "code",
   "execution_count": 8,
   "id": "1bf4739a",
   "metadata": {},
   "outputs": [],
   "source": [
    "# fonction qui retourne l'url du site 'kayak.com' selon le pays de départ, d'arrivée, la date de départ (vol simple) et la flexibilité,\n",
    "# le site classera les options selon l'option 'best'\n",
    "\n",
    "def get_url_kayak(departure, arrival, departure_date, flexibility_option):\n",
    "    url = f\"https://www.kayak.com/flights/{departure}-{arrival}/{departure_date}-{flexibility_option}?sort=bestflight_a\"\n",
    "    print(f\"url for '{arrival}' created successfully!\")\n",
    "    return url"
   ]
  },
  {
   "cell_type": "code",
   "execution_count": 9,
   "id": "350624cd",
   "metadata": {},
   "outputs": [],
   "source": [
    "def create_coll(name):\n",
    "    coll = db.create_collection(name)\n",
    "    print(f\"Collection '{name}' created successfully!\")\n",
    "    return coll"
   ]
  },
  {
   "cell_type": "code",
   "execution_count": 10,
   "id": "dd6b7e8a",
   "metadata": {},
   "outputs": [],
   "source": [
    "def close_alert():\n",
    "    # Close cookies pop-up\n",
    "    accept_cookies_xpath = '//*[@id=\"m88x\"]/div[10]/div/div[1]'\n",
    "\n",
    "    try:\n",
    "       browser.find_element(By.XPATH, accept_cookies_xpath).click()\n",
    "       time.sleep(1)\n",
    "    except NoSuchElementException:\n",
    "       pass"
   ]
  },
  {
   "cell_type": "code",
   "execution_count": 11,
   "id": "54a2166c",
   "metadata": {},
   "outputs": [],
   "source": [
    "def bloc_scraping(inner_id):\n",
    "    \n",
    "    close_alert()\n",
    "    time.sleep(1)\n",
    "    \n",
    "    try:\n",
    "        browser.find_element(By.XPATH, f'//div[@data-resultid=\"{inner_id}\"]')\n",
    "    except NoSuchElementException:\n",
    "        print(f\"I didn't find the element at id={inner_id}, refresh of the page\")\n",
    "        browser.refresh()\n",
    "    except StaleElementReferenceException:\n",
    "        print(\"Stale element id, refresh of the page\")\n",
    "        browser.refresh()\n",
    "    try:\n",
    "\n",
    "        price = browser.find_element(By.XPATH, f'//div[@data-resultid=\"{inner_id}\"]//div[@class=\"f8F1-price-text\"]').text[1:]\n",
    "\n",
    "        date = browser.find_element(By.XPATH, f'//div[@data-resultid=\"{inner_id}\"]//div[@class=\"c9L-i\"]/div[1]').text\n",
    "        day = browser.find_element(By.XPATH, f'//div[@data-resultid=\"{inner_id}\"]//div[@class=\"c9L-i\"]/div[2]').text\n",
    "\n",
    "        departure_time = browser.find_element(By.XPATH, f'//div[@data-resultid=\"{inner_id}\"]//div[@class=\"VY2U\"]/div[1]/span[1]').text\n",
    "        arrival_time = browser.find_element(By.XPATH, f'//div[@data-resultid=\"{inner_id}\"]//div[@class=\"VY2U\"]/div[1]/span[3]').text\n",
    "\n",
    "        duration = browser.find_element(By.XPATH, f'//div[@data-resultid=\"{inner_id}\"]//div[@class=\"xdW8\"]/div[1]').text\n",
    "\n",
    "        company = browser.find_element(By.XPATH, f'//div[@data-resultid=\"{inner_id}\"]//div[@class=\"VY2U\"]/div[2]').text\n",
    "        \n",
    "    except NoSuchElementException:\n",
    "        print(\"I didn't find some element, refresh of the page\")\n",
    "        browser.refresh()\n",
    "        \n",
    "    return price, date, day, departure_time, arrival_time, duration, company"
   ]
  },
  {
   "cell_type": "code",
   "execution_count": 12,
   "id": "d79ed973",
   "metadata": {},
   "outputs": [],
   "source": [
    "def page_scraping(url, coll):\n",
    "    browser.get(url)\n",
    "    print(f\"We are loading the page at : {url} \")\n",
    "    time.sleep(5)\n",
    "#     wait = WebDriverWait(browser, 10)\n",
    "#     element = wait.until(EC.presence_of_element_located((By.ID, 'nrc6')))\n",
    "\n",
    "    browser.find_element(By.XPATH, '//div[@class=\"resultsPaginator\"]').click()\n",
    "    print(\"Loading more...\")\n",
    "    time.sleep(3)\n",
    "\n",
    "    close_alert()\n",
    "\n",
    "    flights = browser.find_elements(By.XPATH, '//div[@class=\"nrc6\"]')  #resultInner\n",
    "    print(f'We loaded info for {len(flights)} flights')\n",
    "\n",
    "    for flight in flights:\n",
    "        try:\n",
    "            time.sleep(0.5)\n",
    "            inner_id = flight.get_attribute(\"data-resultid\")  #id\n",
    "        except:\n",
    "            print (\"I didn't find the result id\")\n",
    "            browser.refresh()\n",
    "             \n",
    "        price, date, day, departure_time, arrival_time, duration, company = bloc_scraping(inner_id)\n",
    "        coll.insert_one({\n",
    "            'price'     : price,\n",
    "            'date'      : date,\n",
    "            'day'       : day,\n",
    "            'departure' : departure_time,\n",
    "            'arrival'   : arrival_time,\n",
    "            'duration'  : duration,\n",
    "            'company'   : company\n",
    "        })\n",
    "    print(\"We scraped info for the flights and put it in the new collection of 'Kayak' database\")\n",
    "    \n",
    "    return (\"Scraping done\")"
   ]
  },
  {
   "cell_type": "code",
   "execution_count": 18,
   "id": "18687f91",
   "metadata": {},
   "outputs": [
    {
     "name": "stdout",
     "output_type": "stream",
     "text": [
      "url for 'TUN' created successfully!\n",
      "Collection 'tunis' created successfully!\n",
      "We are loading the page at : https://www.kayak.com/flights/PAR-TUN/2023-03-22-flexible?sort=bestflight_a \n",
      "Loading more...\n",
      "We loaded info for 31 flights\n",
      "We scraped info for the flights and put it in the new collection of 'Kayak' database\n"
     ]
    },
    {
     "data": {
      "text/plain": [
       "'Scraping done'"
      ]
     },
     "execution_count": 18,
     "metadata": {},
     "output_type": "execute_result"
    }
   ],
   "source": [
    "# TUNIS\n",
    "\n",
    "tunis = get_url_kayak('PAR', 'TUN', '2023-03-22', 'flexible')\n",
    "tunis_coll = create_coll('tunis')\n",
    "page_scraping(tunis, tunis_coll)"
   ]
  },
  {
   "cell_type": "code",
   "execution_count": 19,
   "id": "46daef08",
   "metadata": {},
   "outputs": [
    {
     "name": "stdout",
     "output_type": "stream",
     "text": [
      "tunis_coll = 31 documents\n"
     ]
    }
   ],
   "source": [
    "print(f\"tunis_coll = {tunis_coll.count_documents({})} documents\")"
   ]
  },
  {
   "cell_type": "code",
   "execution_count": 22,
   "id": "3771f653",
   "metadata": {},
   "outputs": [
    {
     "name": "stdout",
     "output_type": "stream",
     "text": [
      "url for 'YMQ' created successfully!\n",
      "Collection 'montreal' created successfully!\n",
      "We are loading the page at : https://www.kayak.com/flights/PAR-YMQ/2023-03-22-flexible?sort=bestflight_a \n",
      "Loading more...\n",
      "We loaded info for 32 flights\n",
      "We scraped info for the flights and put it in the new collection of 'Kayak' database\n"
     ]
    },
    {
     "data": {
      "text/plain": [
       "'Scraping done'"
      ]
     },
     "execution_count": 22,
     "metadata": {},
     "output_type": "execute_result"
    }
   ],
   "source": [
    "# MONTREAL\n",
    "\n",
    "montreal = get_url_kayak('PAR', 'YMQ', '2023-03-22', 'flexible')\n",
    "montreal_coll  = create_coll('montreal')\n",
    "page_scraping(montreal, montreal_coll)"
   ]
  },
  {
   "cell_type": "code",
   "execution_count": 23,
   "id": "561b00cb",
   "metadata": {},
   "outputs": [
    {
     "name": "stdout",
     "output_type": "stream",
     "text": [
      "montreal_coll = 32 documents\n"
     ]
    }
   ],
   "source": [
    "print(f\"montreal_coll = {montreal_coll.count_documents({})} documents\")"
   ]
  },
  {
   "cell_type": "code",
   "execution_count": 26,
   "id": "3d1dd534",
   "metadata": {},
   "outputs": [
    {
     "name": "stdout",
     "output_type": "stream",
     "text": [
      "url for 'BKK' created successfully!\n",
      "Collection 'bangkok' created successfully!\n",
      "We are loading the page at : https://www.kayak.com/flights/PAR-BKK/2023-03-22-flexible?sort=bestflight_a \n",
      "Loading more...\n",
      "We loaded info for 31 flights\n",
      "We scraped info for the flights and put it in the new collection of 'Kayak' database\n"
     ]
    },
    {
     "data": {
      "text/plain": [
       "'Scraping done'"
      ]
     },
     "execution_count": 26,
     "metadata": {},
     "output_type": "execute_result"
    }
   ],
   "source": [
    "# BANGKOK\n",
    "\n",
    "bangkok = get_url_kayak('PAR', 'BKK', '2023-03-22', 'flexible')\n",
    "bangkok_coll = create_coll('bangkok')\n",
    "page_scraping(bangkok, bangkok_coll)"
   ]
  },
  {
   "cell_type": "code",
   "execution_count": 27,
   "id": "778849ba",
   "metadata": {},
   "outputs": [
    {
     "name": "stdout",
     "output_type": "stream",
     "text": [
      "bangkok_coll = 31 documents\n"
     ]
    }
   ],
   "source": [
    "print(f\"bangkok_coll = {bangkok_coll.count_documents({})} documents\")"
   ]
  },
  {
   "cell_type": "code",
   "execution_count": 30,
   "id": "d3cce189",
   "metadata": {},
   "outputs": [
    {
     "name": "stdout",
     "output_type": "stream",
     "text": [
      "url for 'NYC' created successfully!\n",
      "Collection 'newyork' created successfully!\n",
      "We are loading the page at : https://www.kayak.com/flights/PAR-NYC/2023-03-22-flexible?sort=bestflight_a \n",
      "Loading more...\n",
      "We loaded info for 31 flights\n",
      "We scraped info for the flights and put it in the new collection of 'Kayak' database\n"
     ]
    },
    {
     "data": {
      "text/plain": [
       "'Scraping done'"
      ]
     },
     "execution_count": 30,
     "metadata": {},
     "output_type": "execute_result"
    }
   ],
   "source": [
    "# NEW YORK\n",
    "\n",
    "newyork = get_url_kayak('PAR', 'NYC', '2023-03-22', 'flexible')\n",
    "newyork_coll = create_coll('newyork')\n",
    "page_scraping(newyork, newyork_coll)"
   ]
  },
  {
   "cell_type": "code",
   "execution_count": 31,
   "id": "c89e7c47",
   "metadata": {},
   "outputs": [
    {
     "name": "stdout",
     "output_type": "stream",
     "text": [
      "newyork_coll = 31 documents\n"
     ]
    }
   ],
   "source": [
    "print(f\"newyork_coll = {newyork_coll.count_documents({})} documents\")"
   ]
  },
  {
   "cell_type": "code",
   "execution_count": 34,
   "id": "51f89409",
   "metadata": {},
   "outputs": [
    {
     "name": "stdout",
     "output_type": "stream",
     "text": [
      "url for 'RAK' created successfully!\n",
      "Collection 'marrakech' created successfully!\n",
      "We are loading the page at : https://www.kayak.com/flights/PAR-RAK/2023-03-22-flexible?sort=bestflight_a \n",
      "Loading more...\n",
      "We loaded info for 30 flights\n",
      "We scraped info for the flights and put it in the new collection of 'Kayak' database\n"
     ]
    },
    {
     "data": {
      "text/plain": [
       "'Scraping done'"
      ]
     },
     "execution_count": 34,
     "metadata": {},
     "output_type": "execute_result"
    }
   ],
   "source": [
    "# MARRAKECH\n",
    "\n",
    "marrakech = get_url_kayak('PAR', 'RAK', '2023-03-22', 'flexible')\n",
    "marrakech_coll = create_coll('marrakech')\n",
    "page_scraping(marrakech, marrakech_coll)"
   ]
  },
  {
   "cell_type": "code",
   "execution_count": 35,
   "id": "1a905f50",
   "metadata": {},
   "outputs": [
    {
     "name": "stdout",
     "output_type": "stream",
     "text": [
      "marrakech_coll = 30 documents\n"
     ]
    }
   ],
   "source": [
    "print(f\"marrakech_coll = {marrakech_coll.count_documents({})} documents\")"
   ]
  },
  {
   "cell_type": "code",
   "execution_count": 38,
   "id": "874d2c3e",
   "metadata": {},
   "outputs": [
    {
     "name": "stdout",
     "output_type": "stream",
     "text": [
      "url for 'VCE' created successfully!\n",
      "Collection 'venice' created successfully!\n",
      "We are loading the page at : https://www.kayak.com/flights/PAR-VCE/2023-03-22-flexible?sort=bestflight_a \n",
      "Loading more...\n",
      "We loaded info for 30 flights\n",
      "We scraped info for the flights and put it in the new collection of 'Kayak' database\n"
     ]
    },
    {
     "data": {
      "text/plain": [
       "'Scraping done'"
      ]
     },
     "execution_count": 38,
     "metadata": {},
     "output_type": "execute_result"
    }
   ],
   "source": [
    "# VENICE\n",
    "\n",
    "venice = get_url_kayak('PAR', 'VCE', '2023-03-22', 'flexible')\n",
    "venice_coll = create_coll('venice')\n",
    "page_scraping(venice, venice_coll)"
   ]
  },
  {
   "cell_type": "code",
   "execution_count": 39,
   "id": "87e2bdb3",
   "metadata": {},
   "outputs": [
    {
     "name": "stdout",
     "output_type": "stream",
     "text": [
      "venice_coll = 30 documents\n"
     ]
    }
   ],
   "source": [
    "print(f\"venice_coll = {venice_coll.count_documents({})} documents\")"
   ]
  },
  {
   "cell_type": "code",
   "execution_count": 42,
   "id": "8642c00c",
   "metadata": {},
   "outputs": [
    {
     "name": "stdout",
     "output_type": "stream",
     "text": [
      "url for 'MAD' created successfully!\n",
      "Collection 'madrid' created successfully!\n",
      "We are loading the page at : https://www.kayak.com/flights/PAR-MAD/2023-03-22-flexible?sort=bestflight_a \n",
      "Loading more...\n",
      "We loaded info for 31 flights\n",
      "We scraped info for the flights and put it in the new collection of 'Kayak' database\n"
     ]
    },
    {
     "data": {
      "text/plain": [
       "'Scraping done'"
      ]
     },
     "execution_count": 42,
     "metadata": {},
     "output_type": "execute_result"
    }
   ],
   "source": [
    "# MADRID\n",
    "\n",
    "madrid = get_url_kayak('PAR', 'MAD', '2023-03-22', 'flexible')\n",
    "madrid_coll = create_coll('madrid')\n",
    "page_scraping(madrid, madrid_coll)"
   ]
  },
  {
   "cell_type": "code",
   "execution_count": 43,
   "id": "68a799e2",
   "metadata": {},
   "outputs": [
    {
     "name": "stdout",
     "output_type": "stream",
     "text": [
      "madrid_coll = 31 documents\n"
     ]
    }
   ],
   "source": [
    "print(f\"madrid_coll = {madrid_coll.count_documents({})} documents\")"
   ]
  },
  {
   "cell_type": "code",
   "execution_count": 46,
   "id": "2c16d3a7",
   "metadata": {},
   "outputs": [
    {
     "name": "stdout",
     "output_type": "stream",
     "text": [
      "url for 'LON' created successfully!\n",
      "Collection 'london' created successfully!\n",
      "We are loading the page at : https://www.kayak.com/flights/PAR-LON/2023-03-22-flexible?sort=bestflight_a \n",
      "Loading more...\n",
      "We loaded info for 30 flights\n",
      "We scraped info for the flights and put it in the new collection of 'Kayak' database\n"
     ]
    },
    {
     "data": {
      "text/plain": [
       "'Scraping done'"
      ]
     },
     "execution_count": 46,
     "metadata": {},
     "output_type": "execute_result"
    }
   ],
   "source": [
    "# LONDON\n",
    "\n",
    "london = get_url_kayak('PAR', 'LON', '2023-03-22', 'flexible')\n",
    "london_coll = create_coll('london')\n",
    "page_scraping(london, london_coll)"
   ]
  },
  {
   "cell_type": "code",
   "execution_count": 47,
   "id": "8e3cee0d",
   "metadata": {},
   "outputs": [
    {
     "name": "stdout",
     "output_type": "stream",
     "text": [
      "london_coll = 30 documents\n"
     ]
    }
   ],
   "source": [
    "print(f\"london_coll = {london_coll.count_documents({})} documents\")"
   ]
  },
  {
   "cell_type": "code",
   "execution_count": 50,
   "id": "bddcd6a0",
   "metadata": {},
   "outputs": [
    {
     "name": "stdout",
     "output_type": "stream",
     "text": [
      "url for 'BER' created successfully!\n",
      "Collection 'berlin' created successfully!\n",
      "We are loading the page at : https://www.kayak.com/flights/PAR-BER/2023-03-22-flexible?sort=bestflight_a \n",
      "Loading more...\n",
      "We loaded info for 30 flights\n",
      "We scraped info for the flights and put it in the new collection of 'Kayak' database\n"
     ]
    },
    {
     "data": {
      "text/plain": [
       "'Scraping done'"
      ]
     },
     "execution_count": 50,
     "metadata": {},
     "output_type": "execute_result"
    }
   ],
   "source": [
    "# BERLIN\n",
    "\n",
    "berlin = get_url_kayak('PAR', 'BER', '2023-03-22', 'flexible')\n",
    "berlin_coll = create_coll('berlin')\n",
    "page_scraping(berlin, berlin_coll)"
   ]
  },
  {
   "cell_type": "code",
   "execution_count": 51,
   "id": "27eab5d3",
   "metadata": {},
   "outputs": [
    {
     "name": "stdout",
     "output_type": "stream",
     "text": [
      "berlin_coll = 30 documents\n"
     ]
    }
   ],
   "source": [
    "print(f\"berlin_coll = {berlin_coll.count_documents({})} documents\")"
   ]
  },
  {
   "cell_type": "code",
   "execution_count": 54,
   "id": "4ea0140a",
   "metadata": {},
   "outputs": [
    {
     "name": "stdout",
     "output_type": "stream",
     "text": [
      "url for 'OSL' created successfully!\n",
      "Collection 'oslo' created successfully!\n",
      "We are loading the page at : https://www.kayak.com/flights/PAR-OSL/2023-03-22-flexible?sort=bestflight_a \n",
      "Loading more...\n",
      "We loaded info for 32 flights\n",
      "We scraped info for the flights and put it in the new collection of 'Kayak' database\n"
     ]
    },
    {
     "data": {
      "text/plain": [
       "'Scraping done'"
      ]
     },
     "execution_count": 54,
     "metadata": {},
     "output_type": "execute_result"
    }
   ],
   "source": [
    "# OSLO\n",
    "\n",
    "oslo = get_url_kayak('PAR', 'OSL', '2023-03-22', 'flexible')\n",
    "oslo_coll = create_coll('oslo')\n",
    "page_scraping(oslo, oslo_coll)"
   ]
  },
  {
   "cell_type": "code",
   "execution_count": 55,
   "id": "51ba8334",
   "metadata": {},
   "outputs": [
    {
     "name": "stdout",
     "output_type": "stream",
     "text": [
      "oslo_coll = 32 documents\n"
     ]
    }
   ],
   "source": [
    "print(f\"oslo_coll = {oslo_coll.count_documents({})} documents\")"
   ]
  },
  {
   "cell_type": "code",
   "execution_count": 56,
   "id": "278e51c6",
   "metadata": {},
   "outputs": [
    {
     "name": "stdout",
     "output_type": "stream",
     "text": [
      "['venice', 'london', 'montreal', 'oslo', 'berlin', 'newyork', 'marrakech', 'madrid', 'tunis', 'bangkok']\n"
     ]
    }
   ],
   "source": [
    "# mc.drop_database('Kayak')\n",
    "# db.drop_collection('oslo')\n",
    "print(db.list_collection_names())\n"
   ]
  },
  {
   "cell_type": "code",
   "execution_count": 60,
   "id": "c80bb4fb",
   "metadata": {
    "scrolled": true
   },
   "outputs": [
    {
     "data": {
      "text/plain": [
       "[{'_id': ObjectId('63f94ae653f4a4115483321f'),\n",
       "  'price': '37',\n",
       "  'date': '3/21',\n",
       "  'day': 'Tue',\n",
       "  'departure': '7:05 pm',\n",
       "  'arrival': '9:20 pm',\n",
       "  'duration': '3h 15m',\n",
       "  'company': 'Ryanair'},\n",
       " {'_id': ObjectId('63f94ae853f4a41154833220'),\n",
       "  'price': '41',\n",
       "  'date': '3/25',\n",
       "  'day': 'Sat',\n",
       "  'departure': '8:45 pm',\n",
       "  'arrival': '11:00 pm',\n",
       "  'duration': '3h 15m',\n",
       "  'company': 'Ryanair'},\n",
       " {'_id': ObjectId('63f94aea53f4a41154833221'),\n",
       "  'price': '42',\n",
       "  'date': '3/19',\n",
       "  'day': 'Sun',\n",
       "  'departure': '8:20 pm',\n",
       "  'arrival': '10:35 pm',\n",
       "  'duration': '3h 15m',\n",
       "  'company': 'Ryanair'},\n",
       " {'_id': ObjectId('63f94aec53f4a41154833222'),\n",
       "  'price': '44',\n",
       "  'date': '3/24',\n",
       "  'day': 'Fri',\n",
       "  'departure': '11:05 am',\n",
       "  'arrival': '1:20 pm',\n",
       "  'duration': '3h 15m',\n",
       "  'company': 'Ryanair'},\n",
       " {'_id': ObjectId('63f94aed53f4a41154833223'),\n",
       "  'price': '47',\n",
       "  'date': '3/20',\n",
       "  'day': 'Mon',\n",
       "  'departure': '10:40 am',\n",
       "  'arrival': '12:55 pm',\n",
       "  'duration': '3h 15m',\n",
       "  'company': 'Ryanair'}]"
      ]
     },
     "execution_count": 60,
     "metadata": {},
     "output_type": "execute_result"
    }
   ],
   "source": [
    "cursor = marrakech_coll.find()\n",
    "entries = list(cursor)\n",
    "entries[:5]"
   ]
  }
 ],
 "metadata": {
  "kernelspec": {
   "display_name": "Python 3 (ipykernel)",
   "language": "python",
   "name": "python3"
  },
  "language_info": {
   "codemirror_mode": {
    "name": "ipython",
    "version": 3
   },
   "file_extension": ".py",
   "mimetype": "text/x-python",
   "name": "python",
   "nbconvert_exporter": "python",
   "pygments_lexer": "ipython3",
   "version": "3.8.16"
  }
 },
 "nbformat": 4,
 "nbformat_minor": 5
}
