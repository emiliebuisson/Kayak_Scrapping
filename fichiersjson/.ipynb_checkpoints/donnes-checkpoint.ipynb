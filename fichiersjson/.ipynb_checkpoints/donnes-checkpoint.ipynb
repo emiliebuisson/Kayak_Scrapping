{
 "cells": [
  {
   "cell_type": "code",
   "execution_count": 10,
   "metadata": {},
   "outputs": [
    {
     "name": "stdout",
     "output_type": "stream",
     "text": [
      "Requirement already satisfied: plotly.express in /root/.local/share/virtualenvs/code-AFz48Hjb/lib/python3.8/site-packages (0.4.1)\n",
      "Requirement already satisfied: statsmodels>=0.9.0 in /root/.local/share/virtualenvs/code-AFz48Hjb/lib/python3.8/site-packages (from plotly.express) (0.13.5)\n",
      "Requirement already satisfied: patsy>=0.5 in /root/.local/share/virtualenvs/code-AFz48Hjb/lib/python3.8/site-packages (from plotly.express) (0.5.3)\n",
      "Requirement already satisfied: pandas>=0.20.0 in /root/.local/share/virtualenvs/code-AFz48Hjb/lib/python3.8/site-packages (from plotly.express) (1.5.3)\n",
      "Requirement already satisfied: plotly>=4.1.0 in /root/.local/share/virtualenvs/code-AFz48Hjb/lib/python3.8/site-packages (from plotly.express) (5.13.1)\n",
      "Requirement already satisfied: scipy>=0.18 in /root/.local/share/virtualenvs/code-AFz48Hjb/lib/python3.8/site-packages (from plotly.express) (1.10.1)\n",
      "Requirement already satisfied: numpy>=1.11 in /root/.local/share/virtualenvs/code-AFz48Hjb/lib/python3.8/site-packages (from plotly.express) (1.24.2)\n",
      "Requirement already satisfied: pytz>=2020.1 in /root/.local/share/virtualenvs/code-AFz48Hjb/lib/python3.8/site-packages (from pandas>=0.20.0->plotly.express) (2022.7.1)\n",
      "Requirement already satisfied: python-dateutil>=2.8.1 in /root/.local/share/virtualenvs/code-AFz48Hjb/lib/python3.8/site-packages (from pandas>=0.20.0->plotly.express) (2.8.2)\n",
      "Requirement already satisfied: six in /root/.local/share/virtualenvs/code-AFz48Hjb/lib/python3.8/site-packages (from patsy>=0.5->plotly.express) (1.16.0)\n",
      "Requirement already satisfied: tenacity>=6.2.0 in /root/.local/share/virtualenvs/code-AFz48Hjb/lib/python3.8/site-packages (from plotly>=4.1.0->plotly.express) (8.2.1)\n",
      "Requirement already satisfied: packaging>=21.3 in /root/.local/share/virtualenvs/code-AFz48Hjb/lib/python3.8/site-packages (from statsmodels>=0.9.0->plotly.express) (23.0)\n"
     ]
    }
   ],
   "source": [
    "%matplotlib inline\n",
    "!pip install plotly.express"
   ]
  },
  {
   "cell_type": "code",
   "execution_count": 11,
   "metadata": {},
   "outputs": [],
   "source": [
    "import pandas as pd\n",
    "import os\n",
    "from pymongo import MongoClient\n",
    "import plotly.express as px\n",
    "import pymongo\n",
    "import collections\n",
    "from collections import Counter"
   ]
  },
  {
   "cell_type": "code",
   "execution_count": 3,
   "metadata": {},
   "outputs": [],
   "source": [
    "# création de l'instance du client MongoClient + spécification de l'adresse IP / port du serveur de la BDD\n",
    "client = MongoClient('mongodb://mongo')\n",
    "\n",
    "# Accès à la BDD en spécifiant nom + infos d'identification si besoin\n",
    "db = client['Kayak']"
   ]
  },
  {
   "cell_type": "code",
   "execution_count": 4,
   "metadata": {
    "scrolled": true
   },
   "outputs": [],
   "source": [
    "# # nom_dossier = ['scrap_bangkok']\n",
    "# json_files = [f for f in os.listdir() if f.endswith('.json')]\n",
    "# for fichier in json_files:\n",
    "#     coll =(pd.read_json(fichier, lines = True))\n",
    "#     coll = coll.drop('_id', axis = 1)\n",
    "#     collection = db[fichier[6:-5]]\n",
    "#     for doc in range(coll.shape[0]):\n",
    "# #         print(coll['price'][doc])\n",
    "        \n",
    "#         collection.insert_one({\"price\": float(coll['price'][doc]),\n",
    "#                                \"date\":coll['date'][doc],\n",
    "#                                \"day\": coll['day'][doc],\n",
    "#                                \"departure\":coll['departure'][doc],\n",
    "#                                \"arrival\":coll['arrival'][doc],\n",
    "#                                \"duration\":coll['duration'][doc],\n",
    "#                                \"company\":coll['company'][doc]})\n",
    "#     print(f'collection {fichier[6:-5]} créée')\n",
    "# # pd.read_json('scrap_tunis.json', lines = True)"
   ]
  },
  {
   "cell_type": "code",
   "execution_count": 9,
   "metadata": {},
   "outputs": [
    {
     "name": "stdout",
     "output_type": "stream",
     "text": [
      "collection bangkok créée\n",
      "collection berlin créée\n",
      "collection london créée\n",
      "collection madrid créée\n",
      "collection marrakech créée\n",
      "collection montreal créée\n",
      "collection newyork créée\n",
      "collection oslo créée\n",
      "collection tunis créée\n",
      "collection venice créée\n"
     ]
    }
   ],
   "source": [
    "json_files = [f for f in os.listdir() if f.endswith('.json')]\n",
    "for fichier in json_files:\n",
    "    coll = pd.read_json(fichier, lines=True)\n",
    "    coll = coll.drop('_id', axis=1)\n",
    "    coll = coll.drop_duplicates(ignore_index=True)\n",
    "    collection = db[fichier[6:-5]]\n",
    "    for doc in range(coll.shape[0]):\n",
    "        if all(field in coll.columns for field in ['price', 'date', 'day', 'departure', 'arrival', 'duration', 'company']):\n",
    "            collection.insert_one({\n",
    "                \"price\": float(coll['price'][doc]),\n",
    "                \"date\": coll['date'][doc],\n",
    "                \"day\": coll['day'][doc],\n",
    "                \"departure\": coll['departure'][doc],\n",
    "                \"arrival\": coll['arrival'][doc],\n",
    "                \"duration\": coll['duration'][doc],\n",
    "                \"company\": coll['company'][doc]\n",
    "            })\n",
    "    print(f'collection {fichier[6:-5]} créée')\n"
   ]
  },
  {
   "cell_type": "code",
   "execution_count": 4,
   "metadata": {},
   "outputs": [],
   "source": [
    "# def insert_json_files(db):\n",
    "#     json_files = [f for f in os.listdir() if f.endswith('.json')]\n",
    "#     for fichier in json_files:\n",
    "#         coll = pd.read_json(fichier, lines=True)\n",
    "#         coll = coll.drop('_id', axis=1)\n",
    "#         collection = db[fichier[6:-5]]\n",
    "#         first_doc = coll.iloc[0]\n",
    "#         docs = coll.iloc[1:].to_dict(orient='records')\n",
    "#         if (first_doc == coll.iloc[1:]).all().all():\n",
    "#             docs.insert(0, first_doc.to_dict())\n",
    "#         else:\n",
    "#             print(f'Le premier document de {fichier} est différent des autres et ne sera pas inséré.')\n",
    "#         collection.insert_many(docs)\n",
    "#         print(f'collection {fichier[6:-5]} créée')\n",
    "\n",
    "\n",
    "def insert_json_files(db):\n",
    "    json_files = [f for f in os.listdir() if f.endswith('.json')]\n",
    "    for fichier in json_files:\n",
    "        coll = pd.read_json(fichier, lines=True)\n",
    "        coll = coll.drop('_id', axis=1)\n",
    "        collection = db[fichier[6:-5]]\n",
    "        first_doc = coll.iloc[0]\n",
    "        docs = coll.iloc[1:].to_dict(orient='records')\n",
    "        if (first_doc == coll.iloc[1:]).all().all():\n",
    "            docs.insert(0, first_doc.to_dict())\n",
    "            collection.delete_one({'price': first_doc['price']})\n",
    "        else:\n",
    "            print(f'Le premier document de {fichier} est différent des autres et ne sera pas inséré.')\n",
    "        collection.insert_many(docs)\n",
    "        print(f'collection {fichier[6:-5]} créée')\n"
   ]
  },
  {
   "cell_type": "code",
   "execution_count": 5,
   "metadata": {},
   "outputs": [
    {
     "name": "stdout",
     "output_type": "stream",
     "text": [
      "Le premier document de scrap_bangkok.json est différent des autres et ne sera pas inséré.\n",
      "collection bangkok créée\n",
      "Le premier document de scrap_berlin.json est différent des autres et ne sera pas inséré.\n",
      "collection berlin créée\n",
      "Le premier document de scrap_london.json est différent des autres et ne sera pas inséré.\n",
      "collection london créée\n",
      "Le premier document de scrap_madrid.json est différent des autres et ne sera pas inséré.\n",
      "collection madrid créée\n",
      "Le premier document de scrap_marrakech.json est différent des autres et ne sera pas inséré.\n",
      "collection marrakech créée\n",
      "Le premier document de scrap_montreal.json est différent des autres et ne sera pas inséré.\n",
      "collection montreal créée\n",
      "Le premier document de scrap_newyork.json est différent des autres et ne sera pas inséré.\n",
      "collection newyork créée\n",
      "Le premier document de scrap_oslo.json est différent des autres et ne sera pas inséré.\n",
      "collection oslo créée\n",
      "Le premier document de scrap_tunis.json est différent des autres et ne sera pas inséré.\n",
      "collection tunis créée\n",
      "Le premier document de scrap_venice.json est différent des autres et ne sera pas inséré.\n",
      "collection venice créée\n"
     ]
    }
   ],
   "source": [
    "insert_json_files(db)"
   ]
  },
  {
   "cell_type": "code",
   "execution_count": 6,
   "metadata": {},
   "outputs": [
    {
     "data": {
      "text/plain": [
       "['bangkok',\n",
       " 'london',\n",
       " 'montreal',\n",
       " 'newyork',\n",
       " 'venice',\n",
       " 'madrid',\n",
       " 'berlin',\n",
       " 'tunis',\n",
       " 'oslo',\n",
       " 'marrakech']"
      ]
     },
     "execution_count": 6,
     "metadata": {},
     "output_type": "execute_result"
    }
   ],
   "source": [
    "db.list_collection_names()"
   ]
  },
  {
   "cell_type": "code",
   "execution_count": 7,
   "metadata": {
    "scrolled": false
   },
   "outputs": [
    {
     "name": "stdout",
     "output_type": "stream",
     "text": [
      "{'_id': ObjectId('63fa080e7e4113b83ec9dbfa'), 'price': 73, 'date': '3/19', 'day': 'Sun', 'departure': '6:15 am', 'arrival': '8:45 am', 'duration': '2h 30m', 'company': 'Transavia France'}\n",
      "{'_id': ObjectId('63fa080e7e4113b83ec9dbfb'), 'price': 83, 'date': '3/22', 'day': 'Wed', 'departure': '8:50 pm', 'arrival': '11:15 pm', 'duration': '2h 25m', 'company': 'Tunisair'}\n",
      "{'_id': ObjectId('63fa080e7e4113b83ec9dbfc'), 'price': 73, 'date': '3/21', 'day': 'Tue', 'departure': '6:25 am', 'arrival': '8:55 am', 'duration': '2h 30m', 'company': 'Transavia France'}\n",
      "{'_id': ObjectId('63fa080e7e4113b83ec9dbfd'), 'price': 83, 'date': '3/22', 'day': 'Wed', 'departure': '9:45 am', 'arrival': '12:10 pm', 'duration': '2h 25m', 'company': 'Tunisair'}\n",
      "{'_id': ObjectId('63fa080e7e4113b83ec9dbfe'), 'price': 73, 'date': '3/20', 'day': 'Mon', 'departure': '6:25 am', 'arrival': '8:55 am', 'duration': '2h 30m', 'company': 'Transavia France'}\n",
      "{'_id': ObjectId('63fa080e7e4113b83ec9dbff'), 'price': 77, 'date': '3/21', 'day': 'Tue', 'departure': '4:15 pm', 'arrival': '6:45 pm', 'duration': '2h 30m', 'company': 'Transavia France'}\n",
      "{'_id': ObjectId('63fa080e7e4113b83ec9dc00'), 'price': 77, 'date': '3/21', 'day': 'Tue', 'departure': '9:40 am', 'arrival': '12:10 pm', 'duration': '2h 30m', 'company': 'Transavia France'}\n",
      "{'_id': ObjectId('63fa080e7e4113b83ec9dc01'), 'price': 73, 'date': '3/22', 'day': 'Wed', 'departure': '6:25 am', 'arrival': '8:55 am', 'duration': '2h 30m', 'company': 'Transavia France'}\n",
      "{'_id': ObjectId('63fa080e7e4113b83ec9dc02'), 'price': 88, 'date': '3/25', 'day': 'Sat', 'departure': '8:50 pm', 'arrival': '11:15 pm', 'duration': '2h 25m', 'company': 'Tunisair'}\n",
      "{'_id': ObjectId('63fa080e7e4113b83ec9dc03'), 'price': 93, 'date': '3/22', 'day': 'Wed', 'departure': '2:00 pm', 'arrival': '4:30 pm', 'duration': '2h 30m', 'company': 'Tunisair'}\n",
      "{'_id': ObjectId('63fa080e7e4113b83ec9dc04'), 'price': 88, 'date': '3/21', 'day': 'Tue', 'departure': '8:50 pm', 'arrival': '11:15 pm', 'duration': '2h 25m', 'company': 'Tunisair'}\n",
      "{'_id': ObjectId('63fa080e7e4113b83ec9dc05'), 'price': 80, 'date': '3/22', 'day': 'Wed', 'departure': '9:25 am', 'arrival': '11:55 am', 'duration': '2h 30m', 'company': 'Transavia France'}\n",
      "{'_id': ObjectId('63fa080e7e4113b83ec9dc06'), 'price': 80, 'date': '3/22', 'day': 'Wed', 'departure': '4:15 pm', 'arrival': '6:45 pm', 'duration': '2h 30m', 'company': 'Transavia France'}\n",
      "{'_id': ObjectId('63fa080e7e4113b83ec9dc07'), 'price': 88, 'date': '3/21', 'day': 'Tue', 'departure': '9:45 am', 'arrival': '12:10 pm', 'duration': '2h 25m', 'company': 'Tunisair'}\n",
      "{'_id': ObjectId('63fa080e7e4113b83ec9dc08'), 'price': 84, 'date': '3/20', 'day': 'Mon', 'departure': '10:15 am', 'arrival': '12:45 pm', 'duration': '2h 30m', 'company': 'Transavia France'}\n",
      "{'_id': ObjectId('63fa080e7e4113b83ec9dc09'), 'price': 89, 'date': '3/24', 'day': 'Fri', 'departure': '8:50 pm', 'arrival': '11:15 pm', 'duration': '2h 25m', 'company': 'Tunisair'}\n",
      "{'_id': ObjectId('63fa080e7e4113b83ec9dc0a'), 'price': 89, 'date': '3/23', 'day': 'Thu', 'departure': '8:50 pm', 'arrival': '11:15 pm', 'duration': '2h 25m', 'company': 'Tunisair'}\n",
      "{'_id': ObjectId('63fa080e7e4113b83ec9dc0b'), 'price': 93, 'date': '3/19', 'day': 'Sun', 'departure': '8:45 am', 'arrival': '11:15 am', 'duration': '2h 30m', 'company': 'Transavia France'}\n",
      "{'_id': ObjectId('63fa080e7e4113b83ec9dc0c'), 'price': 94, 'date': '3/21', 'day': 'Tue', 'departure': '2:00 pm', 'arrival': '4:30 pm', 'duration': '2h 30m', 'company': 'Tunisair'}\n",
      "{'_id': ObjectId('63fa080e7e4113b83ec9dc0d'), 'price': 93, 'date': '3/22', 'day': 'Wed', 'departure': '6:30 pm', 'arrival': '8:55 pm', 'duration': '2h 25m', 'company': 'Tunisair'}\n",
      "{'_id': ObjectId('63fa080e7e4113b83ec9dc0e'), 'price': 93, 'date': '3/22', 'day': 'Wed', 'departure': '11:30 am', 'arrival': '1:55 pm', 'duration': '2h 25m', 'company': 'Nouvelair'}\n",
      "{'_id': ObjectId('63fa080e7e4113b83ec9dc0f'), 'price': 94, 'date': '3/21', 'day': 'Tue', 'departure': '6:30 pm', 'arrival': '8:55 pm', 'duration': '2h 25m', 'company': 'Tunisair'}\n",
      "{'_id': ObjectId('63fa080e7e4113b83ec9dc10'), 'price': 95, 'date': '3/20', 'day': 'Mon', 'departure': '11:30 am', 'arrival': '1:55 pm', 'duration': '2h 25m', 'company': 'Nouvelair'}\n",
      "{'_id': ObjectId('63fa080e7e4113b83ec9dc11'), 'price': 94, 'date': '3/20', 'day': 'Mon', 'departure': '8:50 pm', 'arrival': '11:15 pm', 'duration': '2h 25m', 'company': 'Tunisair'}\n",
      "{'_id': ObjectId('63fa080e7e4113b83ec9dc12'), 'price': 120, 'date': '3/19', 'day': 'Sun', 'departure': '7:05 pm', 'arrival': '9:35 pm', 'duration': '2h 30m', 'company': 'Tunisair'}\n",
      "{'_id': ObjectId('63fa080e7e4113b83ec9dc13'), 'price': 99, 'date': '3/23', 'day': 'Thu', 'departure': '6:30 pm', 'arrival': '9:00 pm', 'duration': '2h 30m', 'company': 'Tunisair'}\n",
      "{'_id': ObjectId('63fa080e7e4113b83ec9dc14'), 'price': 93, 'date': '3/20', 'day': 'Mon', 'departure': '4:15 pm', 'arrival': '6:45 pm', 'duration': '2h 30m', 'company': 'Transavia France'}\n",
      "{'_id': ObjectId('63fa080e7e4113b83ec9dc15'), 'price': 98, 'date': '3/24', 'day': 'Fri', 'departure': '6:30 pm', 'arrival': '8:55 pm', 'duration': '2h 25m', 'company': 'Nouvelair'}\n",
      "{'_id': ObjectId('63fa080e7e4113b83ec9dc16'), 'price': 93, 'date': '3/24', 'day': 'Fri', 'departure': '4:15 pm', 'arrival': '6:45 pm', 'duration': '2h 30m', 'company': 'Transavia France'}\n",
      "{'_id': ObjectId('63fa080e7e4113b83ec9dc17'), 'price': 99, 'date': '3/23', 'day': 'Thu', 'departure': '9:45 am', 'arrival': '12:10 pm', 'duration': '2h 25m', 'company': 'Tunisair'}\n"
     ]
    }
   ],
   "source": [
    "# Accès à la collection\n",
    "tunis = db['tunis']\n",
    "\n",
    "# Récupération de tous les documents de la collection\n",
    "results = tunis.find()\n",
    "\n",
    "# Parcourt les résultats et affiche chaque document\n",
    "for result in results:\n",
    "    print(result)"
   ]
  },
  {
   "cell_type": "code",
   "execution_count": 12,
   "metadata": {},
   "outputs": [],
   "source": [
    "import matplotlib.pyplot as plt\n",
    "import pymongo\n",
    "\n",
    "# fonction pour récupérer les données de la collection et calculer les statistiques nécessaires\n",
    "def get_stats(collection_name):\n",
    "    # connexion à la base de données et à la collection\n",
    "    client = pymongo.MongoClient(\"mongodb://mongo\")\n",
    "    db = client[\"Kayak\"]\n",
    "    collection = db[collection_name]\n",
    "\n",
    "    # récupération des données de la collection\n",
    "    cursor = collection.find()\n",
    "    prices = []\n",
    "    days = []\n",
    "    companies = []\n",
    "    durations = []\n",
    "    for document in cursor:\n",
    "        prices.append(int(document[\"price\"]))\n",
    "        days.append(document[\"day\"])\n",
    "        companies.append(document[\"company\"])\n",
    "        duration = document[\"duration\"]\n",
    "        hours, minutes = duration.split(\"h \")\n",
    "        duration_minutes = int(hours)*60 + int(minutes[:-1])\n",
    "        durations.append(duration_minutes)\n",
    "\n",
    "    # calcul des statistiques nécessaires pour les graphiques\n",
    "    avg_price = sum(prices) / len(prices)\n",
    "    min_price = min(prices)\n",
    "    max_price = max(prices)\n",
    "    price_stats = (avg_price, min_price, max_price)\n",
    "\n",
    "    companies_data = {}\n",
    "    for company in set(companies):\n",
    "        company_prices = [price for i, price in enumerate(prices) if companies[i] == company]\n",
    "        company_duration = [duration for i, duration in enumerate(durations) if companies[i] == company]\n",
    "        companies_data[company] = (sum(company_duration)/len(company_duration), sum(company_prices)/len(company_prices))\n",
    "\n",
    "    return days, prices, price_stats, companies_data, companies\n",
    "\n",
    "\n",
    "\n",
    "def plot_prices(days, prices):\n",
    "    # création d'un dictionnaire pour stocker la somme des prix par jour\n",
    "    prices_per_day = {}\n",
    "    # création d'un dictionnaire pour stocker le nombre de billets par jour\n",
    "    tickets_per_day = {}\n",
    "\n",
    "    # parcours de toutes les données de la liste de prix\n",
    "    for day, price in zip(days, prices):\n",
    "        # si le jour n'est pas dans le dictionnaire, on l'ajoute\n",
    "        if day not in prices_per_day:\n",
    "            prices_per_day[day] = 0\n",
    "            tickets_per_day[day] = 0\n",
    "        # on ajoute le prix du billet au total pour le jour en question\n",
    "        prices_per_day[day] += price\n",
    "        # on incrémente le nombre de billets pour le jour en question\n",
    "        tickets_per_day[day] += 1\n",
    "\n",
    "    # création d'une liste de tuples contenant la moyenne des prix pour chaque jour\n",
    "    avg_prices = [(day, prices_per_day[day] / tickets_per_day[day]) for day in sorted(prices_per_day.keys(), reverse=True)]\n",
    "\n",
    "    # création du graphique\n",
    "    fig1 = px.bar(x=[x[0] for x in avg_prices], y=[x[1] for x in avg_prices], \n",
    "                 labels={\"x\": \"Jours de la semaine\", \"y\": \"Prix moyens\"}, \n",
    "                 title=\"Prix des billets en fonction des jours de la semaine\")\n",
    "    fig1.show()\n",
    "\n",
    "\n",
    "\n",
    "def plot_company_prices(companies_data):\n",
    "    # récupération des données pour le graphique\n",
    "    companies = list(companies_data.keys())\n",
    "    durations = [data[0] for data in companies_data.values()]\n",
    "    prices = [data[1] for data in companies_data.values()]\n",
    "\n",
    "    # création du graphique\n",
    "    df = pd.DataFrame({'Compagnies aériennes': companies,\n",
    "                       'Durée moyenne (min)': durations,\n",
    "                       'Prix moyen (€)': prices})\n",
    "    fig2 = px.bar(df, x='Compagnies aériennes', y=['Durée moyenne (min)', 'Prix moyen (€)'], \n",
    "                 barmode='group', title='Statistiques par compagnie aérienne')\n",
    "    fig2.show()\n",
    "\n",
    "    \n",
    "\n",
    "def pie_chart(companies):\n",
    "    # Calcul de la part de marché de chaque compagnie\n",
    "    counter = Counter(companies)\n",
    "    market_share = [counter[company] for company in counter]\n",
    "    total = sum(market_share)\n",
    "    market_share_percentage = [round(100 * share / total, 2) for share in market_share]\n",
    "\n",
    "    # Création du graphique\n",
    "    data = {\"labels\": list(counter.keys()), \"values\": market_share_percentage}\n",
    "    fig3 = px.pie(data_frame=data, values=\"values\", names=\"labels\")\n",
    "    fig3.update_traces(textposition=\"inside\", textinfo=\"percent+label\")\n",
    "    fig3.update_layout(title=\"Part de marché des compagnies aériennes\")\n",
    "    fig3.show()\n",
    "\n",
    "    \n",
    "\n",
    "# fonction pour afficher les deux graphiques\n",
    "def show_stats(collection_name):\n",
    "    # récupération des données\n",
    "    days, prices, price_stats, companies_data, companies = get_stats(collection_name)\n",
    "\n",
    "    # création des graphiques\n",
    "    fig1 = plot_prices(days, prices)\n",
    "    fig2 = plot_company_prices(companies_data)\n",
    "    fig3 = pie_chart(companies)\n",
    "\n",
    "    # retour des graphiques\n",
    "    return fig1, fig2, fig3\n"
   ]
  },
  {
   "cell_type": "code",
   "execution_count": 13,
   "metadata": {},
   "outputs": [
    {
     "data": {
      "application/vnd.plotly.v1+json": {
       "config": {
        "plotlyServerURL": "https://plot.ly"
       },
       "data": [
        {
         "alignmentgroup": "True",
         "hovertemplate": "Jours de la semaine=%{x}<br>Prix moyens=%{y}<extra></extra>",
         "legendgroup": "",
         "marker": {
          "color": "#636efa",
          "pattern": {
           "shape": ""
          }
         },
         "name": "",
         "offsetgroup": "",
         "orientation": "v",
         "showlegend": false,
         "textposition": "auto",
         "type": "bar",
         "x": [
          "Wed",
          "Tue",
          "Thu",
          "Sun",
          "Sat",
          "Mon",
          "Fri"
         ],
         "xaxis": "x",
         "y": [
          84.75,
          84.42857142857143,
          95.66666666666667,
          95.33333333333333,
          88,
          87.8,
          93.33333333333333
         ],
         "yaxis": "y"
        }
       ],
       "layout": {
        "barmode": "relative",
        "legend": {
         "tracegroupgap": 0
        },
        "template": {
         "data": {
          "bar": [
           {
            "error_x": {
             "color": "#2a3f5f"
            },
            "error_y": {
             "color": "#2a3f5f"
            },
            "marker": {
             "line": {
              "color": "#E5ECF6",
              "width": 0.5
             },
             "pattern": {
              "fillmode": "overlay",
              "size": 10,
              "solidity": 0.2
             }
            },
            "type": "bar"
           }
          ],
          "barpolar": [
           {
            "marker": {
             "line": {
              "color": "#E5ECF6",
              "width": 0.5
             },
             "pattern": {
              "fillmode": "overlay",
              "size": 10,
              "solidity": 0.2
             }
            },
            "type": "barpolar"
           }
          ],
          "carpet": [
           {
            "aaxis": {
             "endlinecolor": "#2a3f5f",
             "gridcolor": "white",
             "linecolor": "white",
             "minorgridcolor": "white",
             "startlinecolor": "#2a3f5f"
            },
            "baxis": {
             "endlinecolor": "#2a3f5f",
             "gridcolor": "white",
             "linecolor": "white",
             "minorgridcolor": "white",
             "startlinecolor": "#2a3f5f"
            },
            "type": "carpet"
           }
          ],
          "choropleth": [
           {
            "colorbar": {
             "outlinewidth": 0,
             "ticks": ""
            },
            "type": "choropleth"
           }
          ],
          "contour": [
           {
            "colorbar": {
             "outlinewidth": 0,
             "ticks": ""
            },
            "colorscale": [
             [
              0,
              "#0d0887"
             ],
             [
              0.1111111111111111,
              "#46039f"
             ],
             [
              0.2222222222222222,
              "#7201a8"
             ],
             [
              0.3333333333333333,
              "#9c179e"
             ],
             [
              0.4444444444444444,
              "#bd3786"
             ],
             [
              0.5555555555555556,
              "#d8576b"
             ],
             [
              0.6666666666666666,
              "#ed7953"
             ],
             [
              0.7777777777777778,
              "#fb9f3a"
             ],
             [
              0.8888888888888888,
              "#fdca26"
             ],
             [
              1,
              "#f0f921"
             ]
            ],
            "type": "contour"
           }
          ],
          "contourcarpet": [
           {
            "colorbar": {
             "outlinewidth": 0,
             "ticks": ""
            },
            "type": "contourcarpet"
           }
          ],
          "heatmap": [
           {
            "colorbar": {
             "outlinewidth": 0,
             "ticks": ""
            },
            "colorscale": [
             [
              0,
              "#0d0887"
             ],
             [
              0.1111111111111111,
              "#46039f"
             ],
             [
              0.2222222222222222,
              "#7201a8"
             ],
             [
              0.3333333333333333,
              "#9c179e"
             ],
             [
              0.4444444444444444,
              "#bd3786"
             ],
             [
              0.5555555555555556,
              "#d8576b"
             ],
             [
              0.6666666666666666,
              "#ed7953"
             ],
             [
              0.7777777777777778,
              "#fb9f3a"
             ],
             [
              0.8888888888888888,
              "#fdca26"
             ],
             [
              1,
              "#f0f921"
             ]
            ],
            "type": "heatmap"
           }
          ],
          "heatmapgl": [
           {
            "colorbar": {
             "outlinewidth": 0,
             "ticks": ""
            },
            "colorscale": [
             [
              0,
              "#0d0887"
             ],
             [
              0.1111111111111111,
              "#46039f"
             ],
             [
              0.2222222222222222,
              "#7201a8"
             ],
             [
              0.3333333333333333,
              "#9c179e"
             ],
             [
              0.4444444444444444,
              "#bd3786"
             ],
             [
              0.5555555555555556,
              "#d8576b"
             ],
             [
              0.6666666666666666,
              "#ed7953"
             ],
             [
              0.7777777777777778,
              "#fb9f3a"
             ],
             [
              0.8888888888888888,
              "#fdca26"
             ],
             [
              1,
              "#f0f921"
             ]
            ],
            "type": "heatmapgl"
           }
          ],
          "histogram": [
           {
            "marker": {
             "pattern": {
              "fillmode": "overlay",
              "size": 10,
              "solidity": 0.2
             }
            },
            "type": "histogram"
           }
          ],
          "histogram2d": [
           {
            "colorbar": {
             "outlinewidth": 0,
             "ticks": ""
            },
            "colorscale": [
             [
              0,
              "#0d0887"
             ],
             [
              0.1111111111111111,
              "#46039f"
             ],
             [
              0.2222222222222222,
              "#7201a8"
             ],
             [
              0.3333333333333333,
              "#9c179e"
             ],
             [
              0.4444444444444444,
              "#bd3786"
             ],
             [
              0.5555555555555556,
              "#d8576b"
             ],
             [
              0.6666666666666666,
              "#ed7953"
             ],
             [
              0.7777777777777778,
              "#fb9f3a"
             ],
             [
              0.8888888888888888,
              "#fdca26"
             ],
             [
              1,
              "#f0f921"
             ]
            ],
            "type": "histogram2d"
           }
          ],
          "histogram2dcontour": [
           {
            "colorbar": {
             "outlinewidth": 0,
             "ticks": ""
            },
            "colorscale": [
             [
              0,
              "#0d0887"
             ],
             [
              0.1111111111111111,
              "#46039f"
             ],
             [
              0.2222222222222222,
              "#7201a8"
             ],
             [
              0.3333333333333333,
              "#9c179e"
             ],
             [
              0.4444444444444444,
              "#bd3786"
             ],
             [
              0.5555555555555556,
              "#d8576b"
             ],
             [
              0.6666666666666666,
              "#ed7953"
             ],
             [
              0.7777777777777778,
              "#fb9f3a"
             ],
             [
              0.8888888888888888,
              "#fdca26"
             ],
             [
              1,
              "#f0f921"
             ]
            ],
            "type": "histogram2dcontour"
           }
          ],
          "mesh3d": [
           {
            "colorbar": {
             "outlinewidth": 0,
             "ticks": ""
            },
            "type": "mesh3d"
           }
          ],
          "parcoords": [
           {
            "line": {
             "colorbar": {
              "outlinewidth": 0,
              "ticks": ""
             }
            },
            "type": "parcoords"
           }
          ],
          "pie": [
           {
            "automargin": true,
            "type": "pie"
           }
          ],
          "scatter": [
           {
            "fillpattern": {
             "fillmode": "overlay",
             "size": 10,
             "solidity": 0.2
            },
            "type": "scatter"
           }
          ],
          "scatter3d": [
           {
            "line": {
             "colorbar": {
              "outlinewidth": 0,
              "ticks": ""
             }
            },
            "marker": {
             "colorbar": {
              "outlinewidth": 0,
              "ticks": ""
             }
            },
            "type": "scatter3d"
           }
          ],
          "scattercarpet": [
           {
            "marker": {
             "colorbar": {
              "outlinewidth": 0,
              "ticks": ""
             }
            },
            "type": "scattercarpet"
           }
          ],
          "scattergeo": [
           {
            "marker": {
             "colorbar": {
              "outlinewidth": 0,
              "ticks": ""
             }
            },
            "type": "scattergeo"
           }
          ],
          "scattergl": [
           {
            "marker": {
             "colorbar": {
              "outlinewidth": 0,
              "ticks": ""
             }
            },
            "type": "scattergl"
           }
          ],
          "scattermapbox": [
           {
            "marker": {
             "colorbar": {
              "outlinewidth": 0,
              "ticks": ""
             }
            },
            "type": "scattermapbox"
           }
          ],
          "scatterpolar": [
           {
            "marker": {
             "colorbar": {
              "outlinewidth": 0,
              "ticks": ""
             }
            },
            "type": "scatterpolar"
           }
          ],
          "scatterpolargl": [
           {
            "marker": {
             "colorbar": {
              "outlinewidth": 0,
              "ticks": ""
             }
            },
            "type": "scatterpolargl"
           }
          ],
          "scatterternary": [
           {
            "marker": {
             "colorbar": {
              "outlinewidth": 0,
              "ticks": ""
             }
            },
            "type": "scatterternary"
           }
          ],
          "surface": [
           {
            "colorbar": {
             "outlinewidth": 0,
             "ticks": ""
            },
            "colorscale": [
             [
              0,
              "#0d0887"
             ],
             [
              0.1111111111111111,
              "#46039f"
             ],
             [
              0.2222222222222222,
              "#7201a8"
             ],
             [
              0.3333333333333333,
              "#9c179e"
             ],
             [
              0.4444444444444444,
              "#bd3786"
             ],
             [
              0.5555555555555556,
              "#d8576b"
             ],
             [
              0.6666666666666666,
              "#ed7953"
             ],
             [
              0.7777777777777778,
              "#fb9f3a"
             ],
             [
              0.8888888888888888,
              "#fdca26"
             ],
             [
              1,
              "#f0f921"
             ]
            ],
            "type": "surface"
           }
          ],
          "table": [
           {
            "cells": {
             "fill": {
              "color": "#EBF0F8"
             },
             "line": {
              "color": "white"
             }
            },
            "header": {
             "fill": {
              "color": "#C8D4E3"
             },
             "line": {
              "color": "white"
             }
            },
            "type": "table"
           }
          ]
         },
         "layout": {
          "annotationdefaults": {
           "arrowcolor": "#2a3f5f",
           "arrowhead": 0,
           "arrowwidth": 1
          },
          "autotypenumbers": "strict",
          "coloraxis": {
           "colorbar": {
            "outlinewidth": 0,
            "ticks": ""
           }
          },
          "colorscale": {
           "diverging": [
            [
             0,
             "#8e0152"
            ],
            [
             0.1,
             "#c51b7d"
            ],
            [
             0.2,
             "#de77ae"
            ],
            [
             0.3,
             "#f1b6da"
            ],
            [
             0.4,
             "#fde0ef"
            ],
            [
             0.5,
             "#f7f7f7"
            ],
            [
             0.6,
             "#e6f5d0"
            ],
            [
             0.7,
             "#b8e186"
            ],
            [
             0.8,
             "#7fbc41"
            ],
            [
             0.9,
             "#4d9221"
            ],
            [
             1,
             "#276419"
            ]
           ],
           "sequential": [
            [
             0,
             "#0d0887"
            ],
            [
             0.1111111111111111,
             "#46039f"
            ],
            [
             0.2222222222222222,
             "#7201a8"
            ],
            [
             0.3333333333333333,
             "#9c179e"
            ],
            [
             0.4444444444444444,
             "#bd3786"
            ],
            [
             0.5555555555555556,
             "#d8576b"
            ],
            [
             0.6666666666666666,
             "#ed7953"
            ],
            [
             0.7777777777777778,
             "#fb9f3a"
            ],
            [
             0.8888888888888888,
             "#fdca26"
            ],
            [
             1,
             "#f0f921"
            ]
           ],
           "sequentialminus": [
            [
             0,
             "#0d0887"
            ],
            [
             0.1111111111111111,
             "#46039f"
            ],
            [
             0.2222222222222222,
             "#7201a8"
            ],
            [
             0.3333333333333333,
             "#9c179e"
            ],
            [
             0.4444444444444444,
             "#bd3786"
            ],
            [
             0.5555555555555556,
             "#d8576b"
            ],
            [
             0.6666666666666666,
             "#ed7953"
            ],
            [
             0.7777777777777778,
             "#fb9f3a"
            ],
            [
             0.8888888888888888,
             "#fdca26"
            ],
            [
             1,
             "#f0f921"
            ]
           ]
          },
          "colorway": [
           "#636efa",
           "#EF553B",
           "#00cc96",
           "#ab63fa",
           "#FFA15A",
           "#19d3f3",
           "#FF6692",
           "#B6E880",
           "#FF97FF",
           "#FECB52"
          ],
          "font": {
           "color": "#2a3f5f"
          },
          "geo": {
           "bgcolor": "white",
           "lakecolor": "white",
           "landcolor": "#E5ECF6",
           "showlakes": true,
           "showland": true,
           "subunitcolor": "white"
          },
          "hoverlabel": {
           "align": "left"
          },
          "hovermode": "closest",
          "mapbox": {
           "style": "light"
          },
          "paper_bgcolor": "white",
          "plot_bgcolor": "#E5ECF6",
          "polar": {
           "angularaxis": {
            "gridcolor": "white",
            "linecolor": "white",
            "ticks": ""
           },
           "bgcolor": "#E5ECF6",
           "radialaxis": {
            "gridcolor": "white",
            "linecolor": "white",
            "ticks": ""
           }
          },
          "scene": {
           "xaxis": {
            "backgroundcolor": "#E5ECF6",
            "gridcolor": "white",
            "gridwidth": 2,
            "linecolor": "white",
            "showbackground": true,
            "ticks": "",
            "zerolinecolor": "white"
           },
           "yaxis": {
            "backgroundcolor": "#E5ECF6",
            "gridcolor": "white",
            "gridwidth": 2,
            "linecolor": "white",
            "showbackground": true,
            "ticks": "",
            "zerolinecolor": "white"
           },
           "zaxis": {
            "backgroundcolor": "#E5ECF6",
            "gridcolor": "white",
            "gridwidth": 2,
            "linecolor": "white",
            "showbackground": true,
            "ticks": "",
            "zerolinecolor": "white"
           }
          },
          "shapedefaults": {
           "line": {
            "color": "#2a3f5f"
           }
          },
          "ternary": {
           "aaxis": {
            "gridcolor": "white",
            "linecolor": "white",
            "ticks": ""
           },
           "baxis": {
            "gridcolor": "white",
            "linecolor": "white",
            "ticks": ""
           },
           "bgcolor": "#E5ECF6",
           "caxis": {
            "gridcolor": "white",
            "linecolor": "white",
            "ticks": ""
           }
          },
          "title": {
           "x": 0.05
          },
          "xaxis": {
           "automargin": true,
           "gridcolor": "white",
           "linecolor": "white",
           "ticks": "",
           "title": {
            "standoff": 15
           },
           "zerolinecolor": "white",
           "zerolinewidth": 2
          },
          "yaxis": {
           "automargin": true,
           "gridcolor": "white",
           "linecolor": "white",
           "ticks": "",
           "title": {
            "standoff": 15
           },
           "zerolinecolor": "white",
           "zerolinewidth": 2
          }
         }
        },
        "title": {
         "text": "Prix des billets en fonction des jours de la semaine"
        },
        "xaxis": {
         "anchor": "y",
         "domain": [
          0,
          1
         ],
         "title": {
          "text": "Jours de la semaine"
         }
        },
        "yaxis": {
         "anchor": "x",
         "domain": [
          0,
          1
         ],
         "title": {
          "text": "Prix moyens"
         }
        }
       }
      },
      "text/html": [
       "<div>                            <div id=\"20829b94-2c93-4b16-8f09-eca2ce71acec\" class=\"plotly-graph-div\" style=\"height:525px; width:100%;\"></div>            <script type=\"text/javascript\">                require([\"plotly\"], function(Plotly) {                    window.PLOTLYENV=window.PLOTLYENV || {};                                    if (document.getElementById(\"20829b94-2c93-4b16-8f09-eca2ce71acec\")) {                    Plotly.newPlot(                        \"20829b94-2c93-4b16-8f09-eca2ce71acec\",                        [{\"alignmentgroup\":\"True\",\"hovertemplate\":\"Jours de la semaine=%{x}<br>Prix moyens=%{y}<extra></extra>\",\"legendgroup\":\"\",\"marker\":{\"color\":\"#636efa\",\"pattern\":{\"shape\":\"\"}},\"name\":\"\",\"offsetgroup\":\"\",\"orientation\":\"v\",\"showlegend\":false,\"textposition\":\"auto\",\"x\":[\"Wed\",\"Tue\",\"Thu\",\"Sun\",\"Sat\",\"Mon\",\"Fri\"],\"xaxis\":\"x\",\"y\":[84.75,84.42857142857143,95.66666666666667,95.33333333333333,88.0,87.8,93.33333333333333],\"yaxis\":\"y\",\"type\":\"bar\"}],                        {\"template\":{\"data\":{\"histogram2dcontour\":[{\"type\":\"histogram2dcontour\",\"colorbar\":{\"outlinewidth\":0,\"ticks\":\"\"},\"colorscale\":[[0.0,\"#0d0887\"],[0.1111111111111111,\"#46039f\"],[0.2222222222222222,\"#7201a8\"],[0.3333333333333333,\"#9c179e\"],[0.4444444444444444,\"#bd3786\"],[0.5555555555555556,\"#d8576b\"],[0.6666666666666666,\"#ed7953\"],[0.7777777777777778,\"#fb9f3a\"],[0.8888888888888888,\"#fdca26\"],[1.0,\"#f0f921\"]]}],\"choropleth\":[{\"type\":\"choropleth\",\"colorbar\":{\"outlinewidth\":0,\"ticks\":\"\"}}],\"histogram2d\":[{\"type\":\"histogram2d\",\"colorbar\":{\"outlinewidth\":0,\"ticks\":\"\"},\"colorscale\":[[0.0,\"#0d0887\"],[0.1111111111111111,\"#46039f\"],[0.2222222222222222,\"#7201a8\"],[0.3333333333333333,\"#9c179e\"],[0.4444444444444444,\"#bd3786\"],[0.5555555555555556,\"#d8576b\"],[0.6666666666666666,\"#ed7953\"],[0.7777777777777778,\"#fb9f3a\"],[0.8888888888888888,\"#fdca26\"],[1.0,\"#f0f921\"]]}],\"heatmap\":[{\"type\":\"heatmap\",\"colorbar\":{\"outlinewidth\":0,\"ticks\":\"\"},\"colorscale\":[[0.0,\"#0d0887\"],[0.1111111111111111,\"#46039f\"],[0.2222222222222222,\"#7201a8\"],[0.3333333333333333,\"#9c179e\"],[0.4444444444444444,\"#bd3786\"],[0.5555555555555556,\"#d8576b\"],[0.6666666666666666,\"#ed7953\"],[0.7777777777777778,\"#fb9f3a\"],[0.8888888888888888,\"#fdca26\"],[1.0,\"#f0f921\"]]}],\"heatmapgl\":[{\"type\":\"heatmapgl\",\"colorbar\":{\"outlinewidth\":0,\"ticks\":\"\"},\"colorscale\":[[0.0,\"#0d0887\"],[0.1111111111111111,\"#46039f\"],[0.2222222222222222,\"#7201a8\"],[0.3333333333333333,\"#9c179e\"],[0.4444444444444444,\"#bd3786\"],[0.5555555555555556,\"#d8576b\"],[0.6666666666666666,\"#ed7953\"],[0.7777777777777778,\"#fb9f3a\"],[0.8888888888888888,\"#fdca26\"],[1.0,\"#f0f921\"]]}],\"contourcarpet\":[{\"type\":\"contourcarpet\",\"colorbar\":{\"outlinewidth\":0,\"ticks\":\"\"}}],\"contour\":[{\"type\":\"contour\",\"colorbar\":{\"outlinewidth\":0,\"ticks\":\"\"},\"colorscale\":[[0.0,\"#0d0887\"],[0.1111111111111111,\"#46039f\"],[0.2222222222222222,\"#7201a8\"],[0.3333333333333333,\"#9c179e\"],[0.4444444444444444,\"#bd3786\"],[0.5555555555555556,\"#d8576b\"],[0.6666666666666666,\"#ed7953\"],[0.7777777777777778,\"#fb9f3a\"],[0.8888888888888888,\"#fdca26\"],[1.0,\"#f0f921\"]]}],\"surface\":[{\"type\":\"surface\",\"colorbar\":{\"outlinewidth\":0,\"ticks\":\"\"},\"colorscale\":[[0.0,\"#0d0887\"],[0.1111111111111111,\"#46039f\"],[0.2222222222222222,\"#7201a8\"],[0.3333333333333333,\"#9c179e\"],[0.4444444444444444,\"#bd3786\"],[0.5555555555555556,\"#d8576b\"],[0.6666666666666666,\"#ed7953\"],[0.7777777777777778,\"#fb9f3a\"],[0.8888888888888888,\"#fdca26\"],[1.0,\"#f0f921\"]]}],\"mesh3d\":[{\"type\":\"mesh3d\",\"colorbar\":{\"outlinewidth\":0,\"ticks\":\"\"}}],\"scatter\":[{\"fillpattern\":{\"fillmode\":\"overlay\",\"size\":10,\"solidity\":0.2},\"type\":\"scatter\"}],\"parcoords\":[{\"type\":\"parcoords\",\"line\":{\"colorbar\":{\"outlinewidth\":0,\"ticks\":\"\"}}}],\"scatterpolargl\":[{\"type\":\"scatterpolargl\",\"marker\":{\"colorbar\":{\"outlinewidth\":0,\"ticks\":\"\"}}}],\"bar\":[{\"error_x\":{\"color\":\"#2a3f5f\"},\"error_y\":{\"color\":\"#2a3f5f\"},\"marker\":{\"line\":{\"color\":\"#E5ECF6\",\"width\":0.5},\"pattern\":{\"fillmode\":\"overlay\",\"size\":10,\"solidity\":0.2}},\"type\":\"bar\"}],\"scattergeo\":[{\"type\":\"scattergeo\",\"marker\":{\"colorbar\":{\"outlinewidth\":0,\"ticks\":\"\"}}}],\"scatterpolar\":[{\"type\":\"scatterpolar\",\"marker\":{\"colorbar\":{\"outlinewidth\":0,\"ticks\":\"\"}}}],\"histogram\":[{\"marker\":{\"pattern\":{\"fillmode\":\"overlay\",\"size\":10,\"solidity\":0.2}},\"type\":\"histogram\"}],\"scattergl\":[{\"type\":\"scattergl\",\"marker\":{\"colorbar\":{\"outlinewidth\":0,\"ticks\":\"\"}}}],\"scatter3d\":[{\"type\":\"scatter3d\",\"line\":{\"colorbar\":{\"outlinewidth\":0,\"ticks\":\"\"}},\"marker\":{\"colorbar\":{\"outlinewidth\":0,\"ticks\":\"\"}}}],\"scattermapbox\":[{\"type\":\"scattermapbox\",\"marker\":{\"colorbar\":{\"outlinewidth\":0,\"ticks\":\"\"}}}],\"scatterternary\":[{\"type\":\"scatterternary\",\"marker\":{\"colorbar\":{\"outlinewidth\":0,\"ticks\":\"\"}}}],\"scattercarpet\":[{\"type\":\"scattercarpet\",\"marker\":{\"colorbar\":{\"outlinewidth\":0,\"ticks\":\"\"}}}],\"carpet\":[{\"aaxis\":{\"endlinecolor\":\"#2a3f5f\",\"gridcolor\":\"white\",\"linecolor\":\"white\",\"minorgridcolor\":\"white\",\"startlinecolor\":\"#2a3f5f\"},\"baxis\":{\"endlinecolor\":\"#2a3f5f\",\"gridcolor\":\"white\",\"linecolor\":\"white\",\"minorgridcolor\":\"white\",\"startlinecolor\":\"#2a3f5f\"},\"type\":\"carpet\"}],\"table\":[{\"cells\":{\"fill\":{\"color\":\"#EBF0F8\"},\"line\":{\"color\":\"white\"}},\"header\":{\"fill\":{\"color\":\"#C8D4E3\"},\"line\":{\"color\":\"white\"}},\"type\":\"table\"}],\"barpolar\":[{\"marker\":{\"line\":{\"color\":\"#E5ECF6\",\"width\":0.5},\"pattern\":{\"fillmode\":\"overlay\",\"size\":10,\"solidity\":0.2}},\"type\":\"barpolar\"}],\"pie\":[{\"automargin\":true,\"type\":\"pie\"}]},\"layout\":{\"autotypenumbers\":\"strict\",\"colorway\":[\"#636efa\",\"#EF553B\",\"#00cc96\",\"#ab63fa\",\"#FFA15A\",\"#19d3f3\",\"#FF6692\",\"#B6E880\",\"#FF97FF\",\"#FECB52\"],\"font\":{\"color\":\"#2a3f5f\"},\"hovermode\":\"closest\",\"hoverlabel\":{\"align\":\"left\"},\"paper_bgcolor\":\"white\",\"plot_bgcolor\":\"#E5ECF6\",\"polar\":{\"bgcolor\":\"#E5ECF6\",\"angularaxis\":{\"gridcolor\":\"white\",\"linecolor\":\"white\",\"ticks\":\"\"},\"radialaxis\":{\"gridcolor\":\"white\",\"linecolor\":\"white\",\"ticks\":\"\"}},\"ternary\":{\"bgcolor\":\"#E5ECF6\",\"aaxis\":{\"gridcolor\":\"white\",\"linecolor\":\"white\",\"ticks\":\"\"},\"baxis\":{\"gridcolor\":\"white\",\"linecolor\":\"white\",\"ticks\":\"\"},\"caxis\":{\"gridcolor\":\"white\",\"linecolor\":\"white\",\"ticks\":\"\"}},\"coloraxis\":{\"colorbar\":{\"outlinewidth\":0,\"ticks\":\"\"}},\"colorscale\":{\"sequential\":[[0.0,\"#0d0887\"],[0.1111111111111111,\"#46039f\"],[0.2222222222222222,\"#7201a8\"],[0.3333333333333333,\"#9c179e\"],[0.4444444444444444,\"#bd3786\"],[0.5555555555555556,\"#d8576b\"],[0.6666666666666666,\"#ed7953\"],[0.7777777777777778,\"#fb9f3a\"],[0.8888888888888888,\"#fdca26\"],[1.0,\"#f0f921\"]],\"sequentialminus\":[[0.0,\"#0d0887\"],[0.1111111111111111,\"#46039f\"],[0.2222222222222222,\"#7201a8\"],[0.3333333333333333,\"#9c179e\"],[0.4444444444444444,\"#bd3786\"],[0.5555555555555556,\"#d8576b\"],[0.6666666666666666,\"#ed7953\"],[0.7777777777777778,\"#fb9f3a\"],[0.8888888888888888,\"#fdca26\"],[1.0,\"#f0f921\"]],\"diverging\":[[0,\"#8e0152\"],[0.1,\"#c51b7d\"],[0.2,\"#de77ae\"],[0.3,\"#f1b6da\"],[0.4,\"#fde0ef\"],[0.5,\"#f7f7f7\"],[0.6,\"#e6f5d0\"],[0.7,\"#b8e186\"],[0.8,\"#7fbc41\"],[0.9,\"#4d9221\"],[1,\"#276419\"]]},\"xaxis\":{\"gridcolor\":\"white\",\"linecolor\":\"white\",\"ticks\":\"\",\"title\":{\"standoff\":15},\"zerolinecolor\":\"white\",\"automargin\":true,\"zerolinewidth\":2},\"yaxis\":{\"gridcolor\":\"white\",\"linecolor\":\"white\",\"ticks\":\"\",\"title\":{\"standoff\":15},\"zerolinecolor\":\"white\",\"automargin\":true,\"zerolinewidth\":2},\"scene\":{\"xaxis\":{\"backgroundcolor\":\"#E5ECF6\",\"gridcolor\":\"white\",\"linecolor\":\"white\",\"showbackground\":true,\"ticks\":\"\",\"zerolinecolor\":\"white\",\"gridwidth\":2},\"yaxis\":{\"backgroundcolor\":\"#E5ECF6\",\"gridcolor\":\"white\",\"linecolor\":\"white\",\"showbackground\":true,\"ticks\":\"\",\"zerolinecolor\":\"white\",\"gridwidth\":2},\"zaxis\":{\"backgroundcolor\":\"#E5ECF6\",\"gridcolor\":\"white\",\"linecolor\":\"white\",\"showbackground\":true,\"ticks\":\"\",\"zerolinecolor\":\"white\",\"gridwidth\":2}},\"shapedefaults\":{\"line\":{\"color\":\"#2a3f5f\"}},\"annotationdefaults\":{\"arrowcolor\":\"#2a3f5f\",\"arrowhead\":0,\"arrowwidth\":1},\"geo\":{\"bgcolor\":\"white\",\"landcolor\":\"#E5ECF6\",\"subunitcolor\":\"white\",\"showland\":true,\"showlakes\":true,\"lakecolor\":\"white\"},\"title\":{\"x\":0.05},\"mapbox\":{\"style\":\"light\"}}},\"xaxis\":{\"anchor\":\"y\",\"domain\":[0.0,1.0],\"title\":{\"text\":\"Jours de la semaine\"}},\"yaxis\":{\"anchor\":\"x\",\"domain\":[0.0,1.0],\"title\":{\"text\":\"Prix moyens\"}},\"legend\":{\"tracegroupgap\":0},\"title\":{\"text\":\"Prix des billets en fonction des jours de la semaine\"},\"barmode\":\"relative\"},                        {\"responsive\": true}                    ).then(function(){\n",
       "                            \n",
       "var gd = document.getElementById('20829b94-2c93-4b16-8f09-eca2ce71acec');\n",
       "var x = new MutationObserver(function (mutations, observer) {{\n",
       "        var display = window.getComputedStyle(gd).display;\n",
       "        if (!display || display === 'none') {{\n",
       "            console.log([gd, 'removed!']);\n",
       "            Plotly.purge(gd);\n",
       "            observer.disconnect();\n",
       "        }}\n",
       "}});\n",
       "\n",
       "// Listen for the removal of the full notebook cells\n",
       "var notebookContainer = gd.closest('#notebook-container');\n",
       "if (notebookContainer) {{\n",
       "    x.observe(notebookContainer, {childList: true});\n",
       "}}\n",
       "\n",
       "// Listen for the clearing of the current output cell\n",
       "var outputEl = gd.closest('.output');\n",
       "if (outputEl) {{\n",
       "    x.observe(outputEl, {childList: true});\n",
       "}}\n",
       "\n",
       "                        })                };                });            </script>        </div>"
      ]
     },
     "metadata": {},
     "output_type": "display_data"
    },
    {
     "data": {
      "application/vnd.plotly.v1+json": {
       "config": {
        "plotlyServerURL": "https://plot.ly"
       },
       "data": [
        {
         "alignmentgroup": "True",
         "hovertemplate": "variable=Durée moyenne (min)<br>Compagnies aériennes=%{x}<br>value=%{y}<extra></extra>",
         "legendgroup": "Durée moyenne (min)",
         "marker": {
          "color": "#636efa",
          "pattern": {
           "shape": ""
          }
         },
         "name": "Durée moyenne (min)",
         "offsetgroup": "Durée moyenne (min)",
         "orientation": "v",
         "showlegend": true,
         "textposition": "auto",
         "type": "bar",
         "x": [
          "Nouvelair",
          "Transavia France",
          "Tunisair"
         ],
         "xaxis": "x",
         "y": [
          145,
          150,
          146.33333333333334
         ],
         "yaxis": "y"
        },
        {
         "alignmentgroup": "True",
         "hovertemplate": "variable=Prix moyen (€)<br>Compagnies aériennes=%{x}<br>value=%{y}<extra></extra>",
         "legendgroup": "Prix moyen (€)",
         "marker": {
          "color": "#EF553B",
          "pattern": {
           "shape": ""
          }
         },
         "name": "Prix moyen (€)",
         "offsetgroup": "Prix moyen (€)",
         "orientation": "v",
         "showlegend": true,
         "textposition": "auto",
         "type": "bar",
         "x": [
          "Nouvelair",
          "Transavia France",
          "Tunisair"
         ],
         "xaxis": "x",
         "y": [
          95.33333333333333,
          80.75,
          92.93333333333334
         ],
         "yaxis": "y"
        }
       ],
       "layout": {
        "barmode": "group",
        "legend": {
         "title": {
          "text": "variable"
         },
         "tracegroupgap": 0
        },
        "template": {
         "data": {
          "bar": [
           {
            "error_x": {
             "color": "#2a3f5f"
            },
            "error_y": {
             "color": "#2a3f5f"
            },
            "marker": {
             "line": {
              "color": "#E5ECF6",
              "width": 0.5
             },
             "pattern": {
              "fillmode": "overlay",
              "size": 10,
              "solidity": 0.2
             }
            },
            "type": "bar"
           }
          ],
          "barpolar": [
           {
            "marker": {
             "line": {
              "color": "#E5ECF6",
              "width": 0.5
             },
             "pattern": {
              "fillmode": "overlay",
              "size": 10,
              "solidity": 0.2
             }
            },
            "type": "barpolar"
           }
          ],
          "carpet": [
           {
            "aaxis": {
             "endlinecolor": "#2a3f5f",
             "gridcolor": "white",
             "linecolor": "white",
             "minorgridcolor": "white",
             "startlinecolor": "#2a3f5f"
            },
            "baxis": {
             "endlinecolor": "#2a3f5f",
             "gridcolor": "white",
             "linecolor": "white",
             "minorgridcolor": "white",
             "startlinecolor": "#2a3f5f"
            },
            "type": "carpet"
           }
          ],
          "choropleth": [
           {
            "colorbar": {
             "outlinewidth": 0,
             "ticks": ""
            },
            "type": "choropleth"
           }
          ],
          "contour": [
           {
            "colorbar": {
             "outlinewidth": 0,
             "ticks": ""
            },
            "colorscale": [
             [
              0,
              "#0d0887"
             ],
             [
              0.1111111111111111,
              "#46039f"
             ],
             [
              0.2222222222222222,
              "#7201a8"
             ],
             [
              0.3333333333333333,
              "#9c179e"
             ],
             [
              0.4444444444444444,
              "#bd3786"
             ],
             [
              0.5555555555555556,
              "#d8576b"
             ],
             [
              0.6666666666666666,
              "#ed7953"
             ],
             [
              0.7777777777777778,
              "#fb9f3a"
             ],
             [
              0.8888888888888888,
              "#fdca26"
             ],
             [
              1,
              "#f0f921"
             ]
            ],
            "type": "contour"
           }
          ],
          "contourcarpet": [
           {
            "colorbar": {
             "outlinewidth": 0,
             "ticks": ""
            },
            "type": "contourcarpet"
           }
          ],
          "heatmap": [
           {
            "colorbar": {
             "outlinewidth": 0,
             "ticks": ""
            },
            "colorscale": [
             [
              0,
              "#0d0887"
             ],
             [
              0.1111111111111111,
              "#46039f"
             ],
             [
              0.2222222222222222,
              "#7201a8"
             ],
             [
              0.3333333333333333,
              "#9c179e"
             ],
             [
              0.4444444444444444,
              "#bd3786"
             ],
             [
              0.5555555555555556,
              "#d8576b"
             ],
             [
              0.6666666666666666,
              "#ed7953"
             ],
             [
              0.7777777777777778,
              "#fb9f3a"
             ],
             [
              0.8888888888888888,
              "#fdca26"
             ],
             [
              1,
              "#f0f921"
             ]
            ],
            "type": "heatmap"
           }
          ],
          "heatmapgl": [
           {
            "colorbar": {
             "outlinewidth": 0,
             "ticks": ""
            },
            "colorscale": [
             [
              0,
              "#0d0887"
             ],
             [
              0.1111111111111111,
              "#46039f"
             ],
             [
              0.2222222222222222,
              "#7201a8"
             ],
             [
              0.3333333333333333,
              "#9c179e"
             ],
             [
              0.4444444444444444,
              "#bd3786"
             ],
             [
              0.5555555555555556,
              "#d8576b"
             ],
             [
              0.6666666666666666,
              "#ed7953"
             ],
             [
              0.7777777777777778,
              "#fb9f3a"
             ],
             [
              0.8888888888888888,
              "#fdca26"
             ],
             [
              1,
              "#f0f921"
             ]
            ],
            "type": "heatmapgl"
           }
          ],
          "histogram": [
           {
            "marker": {
             "pattern": {
              "fillmode": "overlay",
              "size": 10,
              "solidity": 0.2
             }
            },
            "type": "histogram"
           }
          ],
          "histogram2d": [
           {
            "colorbar": {
             "outlinewidth": 0,
             "ticks": ""
            },
            "colorscale": [
             [
              0,
              "#0d0887"
             ],
             [
              0.1111111111111111,
              "#46039f"
             ],
             [
              0.2222222222222222,
              "#7201a8"
             ],
             [
              0.3333333333333333,
              "#9c179e"
             ],
             [
              0.4444444444444444,
              "#bd3786"
             ],
             [
              0.5555555555555556,
              "#d8576b"
             ],
             [
              0.6666666666666666,
              "#ed7953"
             ],
             [
              0.7777777777777778,
              "#fb9f3a"
             ],
             [
              0.8888888888888888,
              "#fdca26"
             ],
             [
              1,
              "#f0f921"
             ]
            ],
            "type": "histogram2d"
           }
          ],
          "histogram2dcontour": [
           {
            "colorbar": {
             "outlinewidth": 0,
             "ticks": ""
            },
            "colorscale": [
             [
              0,
              "#0d0887"
             ],
             [
              0.1111111111111111,
              "#46039f"
             ],
             [
              0.2222222222222222,
              "#7201a8"
             ],
             [
              0.3333333333333333,
              "#9c179e"
             ],
             [
              0.4444444444444444,
              "#bd3786"
             ],
             [
              0.5555555555555556,
              "#d8576b"
             ],
             [
              0.6666666666666666,
              "#ed7953"
             ],
             [
              0.7777777777777778,
              "#fb9f3a"
             ],
             [
              0.8888888888888888,
              "#fdca26"
             ],
             [
              1,
              "#f0f921"
             ]
            ],
            "type": "histogram2dcontour"
           }
          ],
          "mesh3d": [
           {
            "colorbar": {
             "outlinewidth": 0,
             "ticks": ""
            },
            "type": "mesh3d"
           }
          ],
          "parcoords": [
           {
            "line": {
             "colorbar": {
              "outlinewidth": 0,
              "ticks": ""
             }
            },
            "type": "parcoords"
           }
          ],
          "pie": [
           {
            "automargin": true,
            "type": "pie"
           }
          ],
          "scatter": [
           {
            "fillpattern": {
             "fillmode": "overlay",
             "size": 10,
             "solidity": 0.2
            },
            "type": "scatter"
           }
          ],
          "scatter3d": [
           {
            "line": {
             "colorbar": {
              "outlinewidth": 0,
              "ticks": ""
             }
            },
            "marker": {
             "colorbar": {
              "outlinewidth": 0,
              "ticks": ""
             }
            },
            "type": "scatter3d"
           }
          ],
          "scattercarpet": [
           {
            "marker": {
             "colorbar": {
              "outlinewidth": 0,
              "ticks": ""
             }
            },
            "type": "scattercarpet"
           }
          ],
          "scattergeo": [
           {
            "marker": {
             "colorbar": {
              "outlinewidth": 0,
              "ticks": ""
             }
            },
            "type": "scattergeo"
           }
          ],
          "scattergl": [
           {
            "marker": {
             "colorbar": {
              "outlinewidth": 0,
              "ticks": ""
             }
            },
            "type": "scattergl"
           }
          ],
          "scattermapbox": [
           {
            "marker": {
             "colorbar": {
              "outlinewidth": 0,
              "ticks": ""
             }
            },
            "type": "scattermapbox"
           }
          ],
          "scatterpolar": [
           {
            "marker": {
             "colorbar": {
              "outlinewidth": 0,
              "ticks": ""
             }
            },
            "type": "scatterpolar"
           }
          ],
          "scatterpolargl": [
           {
            "marker": {
             "colorbar": {
              "outlinewidth": 0,
              "ticks": ""
             }
            },
            "type": "scatterpolargl"
           }
          ],
          "scatterternary": [
           {
            "marker": {
             "colorbar": {
              "outlinewidth": 0,
              "ticks": ""
             }
            },
            "type": "scatterternary"
           }
          ],
          "surface": [
           {
            "colorbar": {
             "outlinewidth": 0,
             "ticks": ""
            },
            "colorscale": [
             [
              0,
              "#0d0887"
             ],
             [
              0.1111111111111111,
              "#46039f"
             ],
             [
              0.2222222222222222,
              "#7201a8"
             ],
             [
              0.3333333333333333,
              "#9c179e"
             ],
             [
              0.4444444444444444,
              "#bd3786"
             ],
             [
              0.5555555555555556,
              "#d8576b"
             ],
             [
              0.6666666666666666,
              "#ed7953"
             ],
             [
              0.7777777777777778,
              "#fb9f3a"
             ],
             [
              0.8888888888888888,
              "#fdca26"
             ],
             [
              1,
              "#f0f921"
             ]
            ],
            "type": "surface"
           }
          ],
          "table": [
           {
            "cells": {
             "fill": {
              "color": "#EBF0F8"
             },
             "line": {
              "color": "white"
             }
            },
            "header": {
             "fill": {
              "color": "#C8D4E3"
             },
             "line": {
              "color": "white"
             }
            },
            "type": "table"
           }
          ]
         },
         "layout": {
          "annotationdefaults": {
           "arrowcolor": "#2a3f5f",
           "arrowhead": 0,
           "arrowwidth": 1
          },
          "autotypenumbers": "strict",
          "coloraxis": {
           "colorbar": {
            "outlinewidth": 0,
            "ticks": ""
           }
          },
          "colorscale": {
           "diverging": [
            [
             0,
             "#8e0152"
            ],
            [
             0.1,
             "#c51b7d"
            ],
            [
             0.2,
             "#de77ae"
            ],
            [
             0.3,
             "#f1b6da"
            ],
            [
             0.4,
             "#fde0ef"
            ],
            [
             0.5,
             "#f7f7f7"
            ],
            [
             0.6,
             "#e6f5d0"
            ],
            [
             0.7,
             "#b8e186"
            ],
            [
             0.8,
             "#7fbc41"
            ],
            [
             0.9,
             "#4d9221"
            ],
            [
             1,
             "#276419"
            ]
           ],
           "sequential": [
            [
             0,
             "#0d0887"
            ],
            [
             0.1111111111111111,
             "#46039f"
            ],
            [
             0.2222222222222222,
             "#7201a8"
            ],
            [
             0.3333333333333333,
             "#9c179e"
            ],
            [
             0.4444444444444444,
             "#bd3786"
            ],
            [
             0.5555555555555556,
             "#d8576b"
            ],
            [
             0.6666666666666666,
             "#ed7953"
            ],
            [
             0.7777777777777778,
             "#fb9f3a"
            ],
            [
             0.8888888888888888,
             "#fdca26"
            ],
            [
             1,
             "#f0f921"
            ]
           ],
           "sequentialminus": [
            [
             0,
             "#0d0887"
            ],
            [
             0.1111111111111111,
             "#46039f"
            ],
            [
             0.2222222222222222,
             "#7201a8"
            ],
            [
             0.3333333333333333,
             "#9c179e"
            ],
            [
             0.4444444444444444,
             "#bd3786"
            ],
            [
             0.5555555555555556,
             "#d8576b"
            ],
            [
             0.6666666666666666,
             "#ed7953"
            ],
            [
             0.7777777777777778,
             "#fb9f3a"
            ],
            [
             0.8888888888888888,
             "#fdca26"
            ],
            [
             1,
             "#f0f921"
            ]
           ]
          },
          "colorway": [
           "#636efa",
           "#EF553B",
           "#00cc96",
           "#ab63fa",
           "#FFA15A",
           "#19d3f3",
           "#FF6692",
           "#B6E880",
           "#FF97FF",
           "#FECB52"
          ],
          "font": {
           "color": "#2a3f5f"
          },
          "geo": {
           "bgcolor": "white",
           "lakecolor": "white",
           "landcolor": "#E5ECF6",
           "showlakes": true,
           "showland": true,
           "subunitcolor": "white"
          },
          "hoverlabel": {
           "align": "left"
          },
          "hovermode": "closest",
          "mapbox": {
           "style": "light"
          },
          "paper_bgcolor": "white",
          "plot_bgcolor": "#E5ECF6",
          "polar": {
           "angularaxis": {
            "gridcolor": "white",
            "linecolor": "white",
            "ticks": ""
           },
           "bgcolor": "#E5ECF6",
           "radialaxis": {
            "gridcolor": "white",
            "linecolor": "white",
            "ticks": ""
           }
          },
          "scene": {
           "xaxis": {
            "backgroundcolor": "#E5ECF6",
            "gridcolor": "white",
            "gridwidth": 2,
            "linecolor": "white",
            "showbackground": true,
            "ticks": "",
            "zerolinecolor": "white"
           },
           "yaxis": {
            "backgroundcolor": "#E5ECF6",
            "gridcolor": "white",
            "gridwidth": 2,
            "linecolor": "white",
            "showbackground": true,
            "ticks": "",
            "zerolinecolor": "white"
           },
           "zaxis": {
            "backgroundcolor": "#E5ECF6",
            "gridcolor": "white",
            "gridwidth": 2,
            "linecolor": "white",
            "showbackground": true,
            "ticks": "",
            "zerolinecolor": "white"
           }
          },
          "shapedefaults": {
           "line": {
            "color": "#2a3f5f"
           }
          },
          "ternary": {
           "aaxis": {
            "gridcolor": "white",
            "linecolor": "white",
            "ticks": ""
           },
           "baxis": {
            "gridcolor": "white",
            "linecolor": "white",
            "ticks": ""
           },
           "bgcolor": "#E5ECF6",
           "caxis": {
            "gridcolor": "white",
            "linecolor": "white",
            "ticks": ""
           }
          },
          "title": {
           "x": 0.05
          },
          "xaxis": {
           "automargin": true,
           "gridcolor": "white",
           "linecolor": "white",
           "ticks": "",
           "title": {
            "standoff": 15
           },
           "zerolinecolor": "white",
           "zerolinewidth": 2
          },
          "yaxis": {
           "automargin": true,
           "gridcolor": "white",
           "linecolor": "white",
           "ticks": "",
           "title": {
            "standoff": 15
           },
           "zerolinecolor": "white",
           "zerolinewidth": 2
          }
         }
        },
        "title": {
         "text": "Statistiques par compagnie aérienne"
        },
        "xaxis": {
         "anchor": "y",
         "domain": [
          0,
          1
         ],
         "title": {
          "text": "Compagnies aériennes"
         }
        },
        "yaxis": {
         "anchor": "x",
         "domain": [
          0,
          1
         ],
         "title": {
          "text": "value"
         }
        }
       }
      },
      "text/html": [
       "<div>                            <div id=\"be1fd110-f663-4ef3-a2af-94131236cbc8\" class=\"plotly-graph-div\" style=\"height:525px; width:100%;\"></div>            <script type=\"text/javascript\">                require([\"plotly\"], function(Plotly) {                    window.PLOTLYENV=window.PLOTLYENV || {};                                    if (document.getElementById(\"be1fd110-f663-4ef3-a2af-94131236cbc8\")) {                    Plotly.newPlot(                        \"be1fd110-f663-4ef3-a2af-94131236cbc8\",                        [{\"alignmentgroup\":\"True\",\"hovertemplate\":\"variable=Dur\\u00e9e moyenne (min)<br>Compagnies a\\u00e9riennes=%{x}<br>value=%{y}<extra></extra>\",\"legendgroup\":\"Dur\\u00e9e moyenne (min)\",\"marker\":{\"color\":\"#636efa\",\"pattern\":{\"shape\":\"\"}},\"name\":\"Dur\\u00e9e moyenne (min)\",\"offsetgroup\":\"Dur\\u00e9e moyenne (min)\",\"orientation\":\"v\",\"showlegend\":true,\"textposition\":\"auto\",\"x\":[\"Nouvelair\",\"Transavia France\",\"Tunisair\"],\"xaxis\":\"x\",\"y\":[145.0,150.0,146.33333333333334],\"yaxis\":\"y\",\"type\":\"bar\"},{\"alignmentgroup\":\"True\",\"hovertemplate\":\"variable=Prix moyen (\\u20ac)<br>Compagnies a\\u00e9riennes=%{x}<br>value=%{y}<extra></extra>\",\"legendgroup\":\"Prix moyen (\\u20ac)\",\"marker\":{\"color\":\"#EF553B\",\"pattern\":{\"shape\":\"\"}},\"name\":\"Prix moyen (\\u20ac)\",\"offsetgroup\":\"Prix moyen (\\u20ac)\",\"orientation\":\"v\",\"showlegend\":true,\"textposition\":\"auto\",\"x\":[\"Nouvelair\",\"Transavia France\",\"Tunisair\"],\"xaxis\":\"x\",\"y\":[95.33333333333333,80.75,92.93333333333334],\"yaxis\":\"y\",\"type\":\"bar\"}],                        {\"template\":{\"data\":{\"histogram2dcontour\":[{\"type\":\"histogram2dcontour\",\"colorbar\":{\"outlinewidth\":0,\"ticks\":\"\"},\"colorscale\":[[0.0,\"#0d0887\"],[0.1111111111111111,\"#46039f\"],[0.2222222222222222,\"#7201a8\"],[0.3333333333333333,\"#9c179e\"],[0.4444444444444444,\"#bd3786\"],[0.5555555555555556,\"#d8576b\"],[0.6666666666666666,\"#ed7953\"],[0.7777777777777778,\"#fb9f3a\"],[0.8888888888888888,\"#fdca26\"],[1.0,\"#f0f921\"]]}],\"choropleth\":[{\"type\":\"choropleth\",\"colorbar\":{\"outlinewidth\":0,\"ticks\":\"\"}}],\"histogram2d\":[{\"type\":\"histogram2d\",\"colorbar\":{\"outlinewidth\":0,\"ticks\":\"\"},\"colorscale\":[[0.0,\"#0d0887\"],[0.1111111111111111,\"#46039f\"],[0.2222222222222222,\"#7201a8\"],[0.3333333333333333,\"#9c179e\"],[0.4444444444444444,\"#bd3786\"],[0.5555555555555556,\"#d8576b\"],[0.6666666666666666,\"#ed7953\"],[0.7777777777777778,\"#fb9f3a\"],[0.8888888888888888,\"#fdca26\"],[1.0,\"#f0f921\"]]}],\"heatmap\":[{\"type\":\"heatmap\",\"colorbar\":{\"outlinewidth\":0,\"ticks\":\"\"},\"colorscale\":[[0.0,\"#0d0887\"],[0.1111111111111111,\"#46039f\"],[0.2222222222222222,\"#7201a8\"],[0.3333333333333333,\"#9c179e\"],[0.4444444444444444,\"#bd3786\"],[0.5555555555555556,\"#d8576b\"],[0.6666666666666666,\"#ed7953\"],[0.7777777777777778,\"#fb9f3a\"],[0.8888888888888888,\"#fdca26\"],[1.0,\"#f0f921\"]]}],\"heatmapgl\":[{\"type\":\"heatmapgl\",\"colorbar\":{\"outlinewidth\":0,\"ticks\":\"\"},\"colorscale\":[[0.0,\"#0d0887\"],[0.1111111111111111,\"#46039f\"],[0.2222222222222222,\"#7201a8\"],[0.3333333333333333,\"#9c179e\"],[0.4444444444444444,\"#bd3786\"],[0.5555555555555556,\"#d8576b\"],[0.6666666666666666,\"#ed7953\"],[0.7777777777777778,\"#fb9f3a\"],[0.8888888888888888,\"#fdca26\"],[1.0,\"#f0f921\"]]}],\"contourcarpet\":[{\"type\":\"contourcarpet\",\"colorbar\":{\"outlinewidth\":0,\"ticks\":\"\"}}],\"contour\":[{\"type\":\"contour\",\"colorbar\":{\"outlinewidth\":0,\"ticks\":\"\"},\"colorscale\":[[0.0,\"#0d0887\"],[0.1111111111111111,\"#46039f\"],[0.2222222222222222,\"#7201a8\"],[0.3333333333333333,\"#9c179e\"],[0.4444444444444444,\"#bd3786\"],[0.5555555555555556,\"#d8576b\"],[0.6666666666666666,\"#ed7953\"],[0.7777777777777778,\"#fb9f3a\"],[0.8888888888888888,\"#fdca26\"],[1.0,\"#f0f921\"]]}],\"surface\":[{\"type\":\"surface\",\"colorbar\":{\"outlinewidth\":0,\"ticks\":\"\"},\"colorscale\":[[0.0,\"#0d0887\"],[0.1111111111111111,\"#46039f\"],[0.2222222222222222,\"#7201a8\"],[0.3333333333333333,\"#9c179e\"],[0.4444444444444444,\"#bd3786\"],[0.5555555555555556,\"#d8576b\"],[0.6666666666666666,\"#ed7953\"],[0.7777777777777778,\"#fb9f3a\"],[0.8888888888888888,\"#fdca26\"],[1.0,\"#f0f921\"]]}],\"mesh3d\":[{\"type\":\"mesh3d\",\"colorbar\":{\"outlinewidth\":0,\"ticks\":\"\"}}],\"scatter\":[{\"fillpattern\":{\"fillmode\":\"overlay\",\"size\":10,\"solidity\":0.2},\"type\":\"scatter\"}],\"parcoords\":[{\"type\":\"parcoords\",\"line\":{\"colorbar\":{\"outlinewidth\":0,\"ticks\":\"\"}}}],\"scatterpolargl\":[{\"type\":\"scatterpolargl\",\"marker\":{\"colorbar\":{\"outlinewidth\":0,\"ticks\":\"\"}}}],\"bar\":[{\"error_x\":{\"color\":\"#2a3f5f\"},\"error_y\":{\"color\":\"#2a3f5f\"},\"marker\":{\"line\":{\"color\":\"#E5ECF6\",\"width\":0.5},\"pattern\":{\"fillmode\":\"overlay\",\"size\":10,\"solidity\":0.2}},\"type\":\"bar\"}],\"scattergeo\":[{\"type\":\"scattergeo\",\"marker\":{\"colorbar\":{\"outlinewidth\":0,\"ticks\":\"\"}}}],\"scatterpolar\":[{\"type\":\"scatterpolar\",\"marker\":{\"colorbar\":{\"outlinewidth\":0,\"ticks\":\"\"}}}],\"histogram\":[{\"marker\":{\"pattern\":{\"fillmode\":\"overlay\",\"size\":10,\"solidity\":0.2}},\"type\":\"histogram\"}],\"scattergl\":[{\"type\":\"scattergl\",\"marker\":{\"colorbar\":{\"outlinewidth\":0,\"ticks\":\"\"}}}],\"scatter3d\":[{\"type\":\"scatter3d\",\"line\":{\"colorbar\":{\"outlinewidth\":0,\"ticks\":\"\"}},\"marker\":{\"colorbar\":{\"outlinewidth\":0,\"ticks\":\"\"}}}],\"scattermapbox\":[{\"type\":\"scattermapbox\",\"marker\":{\"colorbar\":{\"outlinewidth\":0,\"ticks\":\"\"}}}],\"scatterternary\":[{\"type\":\"scatterternary\",\"marker\":{\"colorbar\":{\"outlinewidth\":0,\"ticks\":\"\"}}}],\"scattercarpet\":[{\"type\":\"scattercarpet\",\"marker\":{\"colorbar\":{\"outlinewidth\":0,\"ticks\":\"\"}}}],\"carpet\":[{\"aaxis\":{\"endlinecolor\":\"#2a3f5f\",\"gridcolor\":\"white\",\"linecolor\":\"white\",\"minorgridcolor\":\"white\",\"startlinecolor\":\"#2a3f5f\"},\"baxis\":{\"endlinecolor\":\"#2a3f5f\",\"gridcolor\":\"white\",\"linecolor\":\"white\",\"minorgridcolor\":\"white\",\"startlinecolor\":\"#2a3f5f\"},\"type\":\"carpet\"}],\"table\":[{\"cells\":{\"fill\":{\"color\":\"#EBF0F8\"},\"line\":{\"color\":\"white\"}},\"header\":{\"fill\":{\"color\":\"#C8D4E3\"},\"line\":{\"color\":\"white\"}},\"type\":\"table\"}],\"barpolar\":[{\"marker\":{\"line\":{\"color\":\"#E5ECF6\",\"width\":0.5},\"pattern\":{\"fillmode\":\"overlay\",\"size\":10,\"solidity\":0.2}},\"type\":\"barpolar\"}],\"pie\":[{\"automargin\":true,\"type\":\"pie\"}]},\"layout\":{\"autotypenumbers\":\"strict\",\"colorway\":[\"#636efa\",\"#EF553B\",\"#00cc96\",\"#ab63fa\",\"#FFA15A\",\"#19d3f3\",\"#FF6692\",\"#B6E880\",\"#FF97FF\",\"#FECB52\"],\"font\":{\"color\":\"#2a3f5f\"},\"hovermode\":\"closest\",\"hoverlabel\":{\"align\":\"left\"},\"paper_bgcolor\":\"white\",\"plot_bgcolor\":\"#E5ECF6\",\"polar\":{\"bgcolor\":\"#E5ECF6\",\"angularaxis\":{\"gridcolor\":\"white\",\"linecolor\":\"white\",\"ticks\":\"\"},\"radialaxis\":{\"gridcolor\":\"white\",\"linecolor\":\"white\",\"ticks\":\"\"}},\"ternary\":{\"bgcolor\":\"#E5ECF6\",\"aaxis\":{\"gridcolor\":\"white\",\"linecolor\":\"white\",\"ticks\":\"\"},\"baxis\":{\"gridcolor\":\"white\",\"linecolor\":\"white\",\"ticks\":\"\"},\"caxis\":{\"gridcolor\":\"white\",\"linecolor\":\"white\",\"ticks\":\"\"}},\"coloraxis\":{\"colorbar\":{\"outlinewidth\":0,\"ticks\":\"\"}},\"colorscale\":{\"sequential\":[[0.0,\"#0d0887\"],[0.1111111111111111,\"#46039f\"],[0.2222222222222222,\"#7201a8\"],[0.3333333333333333,\"#9c179e\"],[0.4444444444444444,\"#bd3786\"],[0.5555555555555556,\"#d8576b\"],[0.6666666666666666,\"#ed7953\"],[0.7777777777777778,\"#fb9f3a\"],[0.8888888888888888,\"#fdca26\"],[1.0,\"#f0f921\"]],\"sequentialminus\":[[0.0,\"#0d0887\"],[0.1111111111111111,\"#46039f\"],[0.2222222222222222,\"#7201a8\"],[0.3333333333333333,\"#9c179e\"],[0.4444444444444444,\"#bd3786\"],[0.5555555555555556,\"#d8576b\"],[0.6666666666666666,\"#ed7953\"],[0.7777777777777778,\"#fb9f3a\"],[0.8888888888888888,\"#fdca26\"],[1.0,\"#f0f921\"]],\"diverging\":[[0,\"#8e0152\"],[0.1,\"#c51b7d\"],[0.2,\"#de77ae\"],[0.3,\"#f1b6da\"],[0.4,\"#fde0ef\"],[0.5,\"#f7f7f7\"],[0.6,\"#e6f5d0\"],[0.7,\"#b8e186\"],[0.8,\"#7fbc41\"],[0.9,\"#4d9221\"],[1,\"#276419\"]]},\"xaxis\":{\"gridcolor\":\"white\",\"linecolor\":\"white\",\"ticks\":\"\",\"title\":{\"standoff\":15},\"zerolinecolor\":\"white\",\"automargin\":true,\"zerolinewidth\":2},\"yaxis\":{\"gridcolor\":\"white\",\"linecolor\":\"white\",\"ticks\":\"\",\"title\":{\"standoff\":15},\"zerolinecolor\":\"white\",\"automargin\":true,\"zerolinewidth\":2},\"scene\":{\"xaxis\":{\"backgroundcolor\":\"#E5ECF6\",\"gridcolor\":\"white\",\"linecolor\":\"white\",\"showbackground\":true,\"ticks\":\"\",\"zerolinecolor\":\"white\",\"gridwidth\":2},\"yaxis\":{\"backgroundcolor\":\"#E5ECF6\",\"gridcolor\":\"white\",\"linecolor\":\"white\",\"showbackground\":true,\"ticks\":\"\",\"zerolinecolor\":\"white\",\"gridwidth\":2},\"zaxis\":{\"backgroundcolor\":\"#E5ECF6\",\"gridcolor\":\"white\",\"linecolor\":\"white\",\"showbackground\":true,\"ticks\":\"\",\"zerolinecolor\":\"white\",\"gridwidth\":2}},\"shapedefaults\":{\"line\":{\"color\":\"#2a3f5f\"}},\"annotationdefaults\":{\"arrowcolor\":\"#2a3f5f\",\"arrowhead\":0,\"arrowwidth\":1},\"geo\":{\"bgcolor\":\"white\",\"landcolor\":\"#E5ECF6\",\"subunitcolor\":\"white\",\"showland\":true,\"showlakes\":true,\"lakecolor\":\"white\"},\"title\":{\"x\":0.05},\"mapbox\":{\"style\":\"light\"}}},\"xaxis\":{\"anchor\":\"y\",\"domain\":[0.0,1.0],\"title\":{\"text\":\"Compagnies a\\u00e9riennes\"}},\"yaxis\":{\"anchor\":\"x\",\"domain\":[0.0,1.0],\"title\":{\"text\":\"value\"}},\"legend\":{\"title\":{\"text\":\"variable\"},\"tracegroupgap\":0},\"title\":{\"text\":\"Statistiques par compagnie a\\u00e9rienne\"},\"barmode\":\"group\"},                        {\"responsive\": true}                    ).then(function(){\n",
       "                            \n",
       "var gd = document.getElementById('be1fd110-f663-4ef3-a2af-94131236cbc8');\n",
       "var x = new MutationObserver(function (mutations, observer) {{\n",
       "        var display = window.getComputedStyle(gd).display;\n",
       "        if (!display || display === 'none') {{\n",
       "            console.log([gd, 'removed!']);\n",
       "            Plotly.purge(gd);\n",
       "            observer.disconnect();\n",
       "        }}\n",
       "}});\n",
       "\n",
       "// Listen for the removal of the full notebook cells\n",
       "var notebookContainer = gd.closest('#notebook-container');\n",
       "if (notebookContainer) {{\n",
       "    x.observe(notebookContainer, {childList: true});\n",
       "}}\n",
       "\n",
       "// Listen for the clearing of the current output cell\n",
       "var outputEl = gd.closest('.output');\n",
       "if (outputEl) {{\n",
       "    x.observe(outputEl, {childList: true});\n",
       "}}\n",
       "\n",
       "                        })                };                });            </script>        </div>"
      ]
     },
     "metadata": {},
     "output_type": "display_data"
    },
    {
     "data": {
      "application/vnd.plotly.v1+json": {
       "config": {
        "plotlyServerURL": "https://plot.ly"
       },
       "data": [
        {
         "domain": {
          "x": [
           0,
           1
          ],
          "y": [
           0,
           1
          ]
         },
         "hovertemplate": "labels=%{label}<br>value=%{value}<extra></extra>",
         "labels": [
          "Transavia France",
          "Tunisair",
          "Nouvelair"
         ],
         "legendgroup": "",
         "name": "",
         "showlegend": true,
         "textinfo": "percent+label",
         "textposition": "inside",
         "type": "pie",
         "values": [
          40,
          50,
          10
         ]
        }
       ],
       "layout": {
        "legend": {
         "tracegroupgap": 0
        },
        "margin": {
         "t": 60
        },
        "template": {
         "data": {
          "bar": [
           {
            "error_x": {
             "color": "#2a3f5f"
            },
            "error_y": {
             "color": "#2a3f5f"
            },
            "marker": {
             "line": {
              "color": "#E5ECF6",
              "width": 0.5
             },
             "pattern": {
              "fillmode": "overlay",
              "size": 10,
              "solidity": 0.2
             }
            },
            "type": "bar"
           }
          ],
          "barpolar": [
           {
            "marker": {
             "line": {
              "color": "#E5ECF6",
              "width": 0.5
             },
             "pattern": {
              "fillmode": "overlay",
              "size": 10,
              "solidity": 0.2
             }
            },
            "type": "barpolar"
           }
          ],
          "carpet": [
           {
            "aaxis": {
             "endlinecolor": "#2a3f5f",
             "gridcolor": "white",
             "linecolor": "white",
             "minorgridcolor": "white",
             "startlinecolor": "#2a3f5f"
            },
            "baxis": {
             "endlinecolor": "#2a3f5f",
             "gridcolor": "white",
             "linecolor": "white",
             "minorgridcolor": "white",
             "startlinecolor": "#2a3f5f"
            },
            "type": "carpet"
           }
          ],
          "choropleth": [
           {
            "colorbar": {
             "outlinewidth": 0,
             "ticks": ""
            },
            "type": "choropleth"
           }
          ],
          "contour": [
           {
            "colorbar": {
             "outlinewidth": 0,
             "ticks": ""
            },
            "colorscale": [
             [
              0,
              "#0d0887"
             ],
             [
              0.1111111111111111,
              "#46039f"
             ],
             [
              0.2222222222222222,
              "#7201a8"
             ],
             [
              0.3333333333333333,
              "#9c179e"
             ],
             [
              0.4444444444444444,
              "#bd3786"
             ],
             [
              0.5555555555555556,
              "#d8576b"
             ],
             [
              0.6666666666666666,
              "#ed7953"
             ],
             [
              0.7777777777777778,
              "#fb9f3a"
             ],
             [
              0.8888888888888888,
              "#fdca26"
             ],
             [
              1,
              "#f0f921"
             ]
            ],
            "type": "contour"
           }
          ],
          "contourcarpet": [
           {
            "colorbar": {
             "outlinewidth": 0,
             "ticks": ""
            },
            "type": "contourcarpet"
           }
          ],
          "heatmap": [
           {
            "colorbar": {
             "outlinewidth": 0,
             "ticks": ""
            },
            "colorscale": [
             [
              0,
              "#0d0887"
             ],
             [
              0.1111111111111111,
              "#46039f"
             ],
             [
              0.2222222222222222,
              "#7201a8"
             ],
             [
              0.3333333333333333,
              "#9c179e"
             ],
             [
              0.4444444444444444,
              "#bd3786"
             ],
             [
              0.5555555555555556,
              "#d8576b"
             ],
             [
              0.6666666666666666,
              "#ed7953"
             ],
             [
              0.7777777777777778,
              "#fb9f3a"
             ],
             [
              0.8888888888888888,
              "#fdca26"
             ],
             [
              1,
              "#f0f921"
             ]
            ],
            "type": "heatmap"
           }
          ],
          "heatmapgl": [
           {
            "colorbar": {
             "outlinewidth": 0,
             "ticks": ""
            },
            "colorscale": [
             [
              0,
              "#0d0887"
             ],
             [
              0.1111111111111111,
              "#46039f"
             ],
             [
              0.2222222222222222,
              "#7201a8"
             ],
             [
              0.3333333333333333,
              "#9c179e"
             ],
             [
              0.4444444444444444,
              "#bd3786"
             ],
             [
              0.5555555555555556,
              "#d8576b"
             ],
             [
              0.6666666666666666,
              "#ed7953"
             ],
             [
              0.7777777777777778,
              "#fb9f3a"
             ],
             [
              0.8888888888888888,
              "#fdca26"
             ],
             [
              1,
              "#f0f921"
             ]
            ],
            "type": "heatmapgl"
           }
          ],
          "histogram": [
           {
            "marker": {
             "pattern": {
              "fillmode": "overlay",
              "size": 10,
              "solidity": 0.2
             }
            },
            "type": "histogram"
           }
          ],
          "histogram2d": [
           {
            "colorbar": {
             "outlinewidth": 0,
             "ticks": ""
            },
            "colorscale": [
             [
              0,
              "#0d0887"
             ],
             [
              0.1111111111111111,
              "#46039f"
             ],
             [
              0.2222222222222222,
              "#7201a8"
             ],
             [
              0.3333333333333333,
              "#9c179e"
             ],
             [
              0.4444444444444444,
              "#bd3786"
             ],
             [
              0.5555555555555556,
              "#d8576b"
             ],
             [
              0.6666666666666666,
              "#ed7953"
             ],
             [
              0.7777777777777778,
              "#fb9f3a"
             ],
             [
              0.8888888888888888,
              "#fdca26"
             ],
             [
              1,
              "#f0f921"
             ]
            ],
            "type": "histogram2d"
           }
          ],
          "histogram2dcontour": [
           {
            "colorbar": {
             "outlinewidth": 0,
             "ticks": ""
            },
            "colorscale": [
             [
              0,
              "#0d0887"
             ],
             [
              0.1111111111111111,
              "#46039f"
             ],
             [
              0.2222222222222222,
              "#7201a8"
             ],
             [
              0.3333333333333333,
              "#9c179e"
             ],
             [
              0.4444444444444444,
              "#bd3786"
             ],
             [
              0.5555555555555556,
              "#d8576b"
             ],
             [
              0.6666666666666666,
              "#ed7953"
             ],
             [
              0.7777777777777778,
              "#fb9f3a"
             ],
             [
              0.8888888888888888,
              "#fdca26"
             ],
             [
              1,
              "#f0f921"
             ]
            ],
            "type": "histogram2dcontour"
           }
          ],
          "mesh3d": [
           {
            "colorbar": {
             "outlinewidth": 0,
             "ticks": ""
            },
            "type": "mesh3d"
           }
          ],
          "parcoords": [
           {
            "line": {
             "colorbar": {
              "outlinewidth": 0,
              "ticks": ""
             }
            },
            "type": "parcoords"
           }
          ],
          "pie": [
           {
            "automargin": true,
            "type": "pie"
           }
          ],
          "scatter": [
           {
            "fillpattern": {
             "fillmode": "overlay",
             "size": 10,
             "solidity": 0.2
            },
            "type": "scatter"
           }
          ],
          "scatter3d": [
           {
            "line": {
             "colorbar": {
              "outlinewidth": 0,
              "ticks": ""
             }
            },
            "marker": {
             "colorbar": {
              "outlinewidth": 0,
              "ticks": ""
             }
            },
            "type": "scatter3d"
           }
          ],
          "scattercarpet": [
           {
            "marker": {
             "colorbar": {
              "outlinewidth": 0,
              "ticks": ""
             }
            },
            "type": "scattercarpet"
           }
          ],
          "scattergeo": [
           {
            "marker": {
             "colorbar": {
              "outlinewidth": 0,
              "ticks": ""
             }
            },
            "type": "scattergeo"
           }
          ],
          "scattergl": [
           {
            "marker": {
             "colorbar": {
              "outlinewidth": 0,
              "ticks": ""
             }
            },
            "type": "scattergl"
           }
          ],
          "scattermapbox": [
           {
            "marker": {
             "colorbar": {
              "outlinewidth": 0,
              "ticks": ""
             }
            },
            "type": "scattermapbox"
           }
          ],
          "scatterpolar": [
           {
            "marker": {
             "colorbar": {
              "outlinewidth": 0,
              "ticks": ""
             }
            },
            "type": "scatterpolar"
           }
          ],
          "scatterpolargl": [
           {
            "marker": {
             "colorbar": {
              "outlinewidth": 0,
              "ticks": ""
             }
            },
            "type": "scatterpolargl"
           }
          ],
          "scatterternary": [
           {
            "marker": {
             "colorbar": {
              "outlinewidth": 0,
              "ticks": ""
             }
            },
            "type": "scatterternary"
           }
          ],
          "surface": [
           {
            "colorbar": {
             "outlinewidth": 0,
             "ticks": ""
            },
            "colorscale": [
             [
              0,
              "#0d0887"
             ],
             [
              0.1111111111111111,
              "#46039f"
             ],
             [
              0.2222222222222222,
              "#7201a8"
             ],
             [
              0.3333333333333333,
              "#9c179e"
             ],
             [
              0.4444444444444444,
              "#bd3786"
             ],
             [
              0.5555555555555556,
              "#d8576b"
             ],
             [
              0.6666666666666666,
              "#ed7953"
             ],
             [
              0.7777777777777778,
              "#fb9f3a"
             ],
             [
              0.8888888888888888,
              "#fdca26"
             ],
             [
              1,
              "#f0f921"
             ]
            ],
            "type": "surface"
           }
          ],
          "table": [
           {
            "cells": {
             "fill": {
              "color": "#EBF0F8"
             },
             "line": {
              "color": "white"
             }
            },
            "header": {
             "fill": {
              "color": "#C8D4E3"
             },
             "line": {
              "color": "white"
             }
            },
            "type": "table"
           }
          ]
         },
         "layout": {
          "annotationdefaults": {
           "arrowcolor": "#2a3f5f",
           "arrowhead": 0,
           "arrowwidth": 1
          },
          "autotypenumbers": "strict",
          "coloraxis": {
           "colorbar": {
            "outlinewidth": 0,
            "ticks": ""
           }
          },
          "colorscale": {
           "diverging": [
            [
             0,
             "#8e0152"
            ],
            [
             0.1,
             "#c51b7d"
            ],
            [
             0.2,
             "#de77ae"
            ],
            [
             0.3,
             "#f1b6da"
            ],
            [
             0.4,
             "#fde0ef"
            ],
            [
             0.5,
             "#f7f7f7"
            ],
            [
             0.6,
             "#e6f5d0"
            ],
            [
             0.7,
             "#b8e186"
            ],
            [
             0.8,
             "#7fbc41"
            ],
            [
             0.9,
             "#4d9221"
            ],
            [
             1,
             "#276419"
            ]
           ],
           "sequential": [
            [
             0,
             "#0d0887"
            ],
            [
             0.1111111111111111,
             "#46039f"
            ],
            [
             0.2222222222222222,
             "#7201a8"
            ],
            [
             0.3333333333333333,
             "#9c179e"
            ],
            [
             0.4444444444444444,
             "#bd3786"
            ],
            [
             0.5555555555555556,
             "#d8576b"
            ],
            [
             0.6666666666666666,
             "#ed7953"
            ],
            [
             0.7777777777777778,
             "#fb9f3a"
            ],
            [
             0.8888888888888888,
             "#fdca26"
            ],
            [
             1,
             "#f0f921"
            ]
           ],
           "sequentialminus": [
            [
             0,
             "#0d0887"
            ],
            [
             0.1111111111111111,
             "#46039f"
            ],
            [
             0.2222222222222222,
             "#7201a8"
            ],
            [
             0.3333333333333333,
             "#9c179e"
            ],
            [
             0.4444444444444444,
             "#bd3786"
            ],
            [
             0.5555555555555556,
             "#d8576b"
            ],
            [
             0.6666666666666666,
             "#ed7953"
            ],
            [
             0.7777777777777778,
             "#fb9f3a"
            ],
            [
             0.8888888888888888,
             "#fdca26"
            ],
            [
             1,
             "#f0f921"
            ]
           ]
          },
          "colorway": [
           "#636efa",
           "#EF553B",
           "#00cc96",
           "#ab63fa",
           "#FFA15A",
           "#19d3f3",
           "#FF6692",
           "#B6E880",
           "#FF97FF",
           "#FECB52"
          ],
          "font": {
           "color": "#2a3f5f"
          },
          "geo": {
           "bgcolor": "white",
           "lakecolor": "white",
           "landcolor": "#E5ECF6",
           "showlakes": true,
           "showland": true,
           "subunitcolor": "white"
          },
          "hoverlabel": {
           "align": "left"
          },
          "hovermode": "closest",
          "mapbox": {
           "style": "light"
          },
          "paper_bgcolor": "white",
          "plot_bgcolor": "#E5ECF6",
          "polar": {
           "angularaxis": {
            "gridcolor": "white",
            "linecolor": "white",
            "ticks": ""
           },
           "bgcolor": "#E5ECF6",
           "radialaxis": {
            "gridcolor": "white",
            "linecolor": "white",
            "ticks": ""
           }
          },
          "scene": {
           "xaxis": {
            "backgroundcolor": "#E5ECF6",
            "gridcolor": "white",
            "gridwidth": 2,
            "linecolor": "white",
            "showbackground": true,
            "ticks": "",
            "zerolinecolor": "white"
           },
           "yaxis": {
            "backgroundcolor": "#E5ECF6",
            "gridcolor": "white",
            "gridwidth": 2,
            "linecolor": "white",
            "showbackground": true,
            "ticks": "",
            "zerolinecolor": "white"
           },
           "zaxis": {
            "backgroundcolor": "#E5ECF6",
            "gridcolor": "white",
            "gridwidth": 2,
            "linecolor": "white",
            "showbackground": true,
            "ticks": "",
            "zerolinecolor": "white"
           }
          },
          "shapedefaults": {
           "line": {
            "color": "#2a3f5f"
           }
          },
          "ternary": {
           "aaxis": {
            "gridcolor": "white",
            "linecolor": "white",
            "ticks": ""
           },
           "baxis": {
            "gridcolor": "white",
            "linecolor": "white",
            "ticks": ""
           },
           "bgcolor": "#E5ECF6",
           "caxis": {
            "gridcolor": "white",
            "linecolor": "white",
            "ticks": ""
           }
          },
          "title": {
           "x": 0.05
          },
          "xaxis": {
           "automargin": true,
           "gridcolor": "white",
           "linecolor": "white",
           "ticks": "",
           "title": {
            "standoff": 15
           },
           "zerolinecolor": "white",
           "zerolinewidth": 2
          },
          "yaxis": {
           "automargin": true,
           "gridcolor": "white",
           "linecolor": "white",
           "ticks": "",
           "title": {
            "standoff": 15
           },
           "zerolinecolor": "white",
           "zerolinewidth": 2
          }
         }
        },
        "title": {
         "text": "Part de marché des compagnies aériennes"
        }
       }
      },
      "text/html": [
       "<div>                            <div id=\"4e923e9b-5123-48fb-827b-56f5adcbf411\" class=\"plotly-graph-div\" style=\"height:525px; width:100%;\"></div>            <script type=\"text/javascript\">                require([\"plotly\"], function(Plotly) {                    window.PLOTLYENV=window.PLOTLYENV || {};                                    if (document.getElementById(\"4e923e9b-5123-48fb-827b-56f5adcbf411\")) {                    Plotly.newPlot(                        \"4e923e9b-5123-48fb-827b-56f5adcbf411\",                        [{\"domain\":{\"x\":[0.0,1.0],\"y\":[0.0,1.0]},\"hovertemplate\":\"labels=%{label}<br>value=%{value}<extra></extra>\",\"labels\":[\"Transavia France\",\"Tunisair\",\"Nouvelair\"],\"legendgroup\":\"\",\"name\":\"\",\"showlegend\":true,\"values\":[40.0,50.0,10.0],\"type\":\"pie\",\"textinfo\":\"percent+label\",\"textposition\":\"inside\"}],                        {\"template\":{\"data\":{\"histogram2dcontour\":[{\"type\":\"histogram2dcontour\",\"colorbar\":{\"outlinewidth\":0,\"ticks\":\"\"},\"colorscale\":[[0.0,\"#0d0887\"],[0.1111111111111111,\"#46039f\"],[0.2222222222222222,\"#7201a8\"],[0.3333333333333333,\"#9c179e\"],[0.4444444444444444,\"#bd3786\"],[0.5555555555555556,\"#d8576b\"],[0.6666666666666666,\"#ed7953\"],[0.7777777777777778,\"#fb9f3a\"],[0.8888888888888888,\"#fdca26\"],[1.0,\"#f0f921\"]]}],\"choropleth\":[{\"type\":\"choropleth\",\"colorbar\":{\"outlinewidth\":0,\"ticks\":\"\"}}],\"histogram2d\":[{\"type\":\"histogram2d\",\"colorbar\":{\"outlinewidth\":0,\"ticks\":\"\"},\"colorscale\":[[0.0,\"#0d0887\"],[0.1111111111111111,\"#46039f\"],[0.2222222222222222,\"#7201a8\"],[0.3333333333333333,\"#9c179e\"],[0.4444444444444444,\"#bd3786\"],[0.5555555555555556,\"#d8576b\"],[0.6666666666666666,\"#ed7953\"],[0.7777777777777778,\"#fb9f3a\"],[0.8888888888888888,\"#fdca26\"],[1.0,\"#f0f921\"]]}],\"heatmap\":[{\"type\":\"heatmap\",\"colorbar\":{\"outlinewidth\":0,\"ticks\":\"\"},\"colorscale\":[[0.0,\"#0d0887\"],[0.1111111111111111,\"#46039f\"],[0.2222222222222222,\"#7201a8\"],[0.3333333333333333,\"#9c179e\"],[0.4444444444444444,\"#bd3786\"],[0.5555555555555556,\"#d8576b\"],[0.6666666666666666,\"#ed7953\"],[0.7777777777777778,\"#fb9f3a\"],[0.8888888888888888,\"#fdca26\"],[1.0,\"#f0f921\"]]}],\"heatmapgl\":[{\"type\":\"heatmapgl\",\"colorbar\":{\"outlinewidth\":0,\"ticks\":\"\"},\"colorscale\":[[0.0,\"#0d0887\"],[0.1111111111111111,\"#46039f\"],[0.2222222222222222,\"#7201a8\"],[0.3333333333333333,\"#9c179e\"],[0.4444444444444444,\"#bd3786\"],[0.5555555555555556,\"#d8576b\"],[0.6666666666666666,\"#ed7953\"],[0.7777777777777778,\"#fb9f3a\"],[0.8888888888888888,\"#fdca26\"],[1.0,\"#f0f921\"]]}],\"contourcarpet\":[{\"type\":\"contourcarpet\",\"colorbar\":{\"outlinewidth\":0,\"ticks\":\"\"}}],\"contour\":[{\"type\":\"contour\",\"colorbar\":{\"outlinewidth\":0,\"ticks\":\"\"},\"colorscale\":[[0.0,\"#0d0887\"],[0.1111111111111111,\"#46039f\"],[0.2222222222222222,\"#7201a8\"],[0.3333333333333333,\"#9c179e\"],[0.4444444444444444,\"#bd3786\"],[0.5555555555555556,\"#d8576b\"],[0.6666666666666666,\"#ed7953\"],[0.7777777777777778,\"#fb9f3a\"],[0.8888888888888888,\"#fdca26\"],[1.0,\"#f0f921\"]]}],\"surface\":[{\"type\":\"surface\",\"colorbar\":{\"outlinewidth\":0,\"ticks\":\"\"},\"colorscale\":[[0.0,\"#0d0887\"],[0.1111111111111111,\"#46039f\"],[0.2222222222222222,\"#7201a8\"],[0.3333333333333333,\"#9c179e\"],[0.4444444444444444,\"#bd3786\"],[0.5555555555555556,\"#d8576b\"],[0.6666666666666666,\"#ed7953\"],[0.7777777777777778,\"#fb9f3a\"],[0.8888888888888888,\"#fdca26\"],[1.0,\"#f0f921\"]]}],\"mesh3d\":[{\"type\":\"mesh3d\",\"colorbar\":{\"outlinewidth\":0,\"ticks\":\"\"}}],\"scatter\":[{\"fillpattern\":{\"fillmode\":\"overlay\",\"size\":10,\"solidity\":0.2},\"type\":\"scatter\"}],\"parcoords\":[{\"type\":\"parcoords\",\"line\":{\"colorbar\":{\"outlinewidth\":0,\"ticks\":\"\"}}}],\"scatterpolargl\":[{\"type\":\"scatterpolargl\",\"marker\":{\"colorbar\":{\"outlinewidth\":0,\"ticks\":\"\"}}}],\"bar\":[{\"error_x\":{\"color\":\"#2a3f5f\"},\"error_y\":{\"color\":\"#2a3f5f\"},\"marker\":{\"line\":{\"color\":\"#E5ECF6\",\"width\":0.5},\"pattern\":{\"fillmode\":\"overlay\",\"size\":10,\"solidity\":0.2}},\"type\":\"bar\"}],\"scattergeo\":[{\"type\":\"scattergeo\",\"marker\":{\"colorbar\":{\"outlinewidth\":0,\"ticks\":\"\"}}}],\"scatterpolar\":[{\"type\":\"scatterpolar\",\"marker\":{\"colorbar\":{\"outlinewidth\":0,\"ticks\":\"\"}}}],\"histogram\":[{\"marker\":{\"pattern\":{\"fillmode\":\"overlay\",\"size\":10,\"solidity\":0.2}},\"type\":\"histogram\"}],\"scattergl\":[{\"type\":\"scattergl\",\"marker\":{\"colorbar\":{\"outlinewidth\":0,\"ticks\":\"\"}}}],\"scatter3d\":[{\"type\":\"scatter3d\",\"line\":{\"colorbar\":{\"outlinewidth\":0,\"ticks\":\"\"}},\"marker\":{\"colorbar\":{\"outlinewidth\":0,\"ticks\":\"\"}}}],\"scattermapbox\":[{\"type\":\"scattermapbox\",\"marker\":{\"colorbar\":{\"outlinewidth\":0,\"ticks\":\"\"}}}],\"scatterternary\":[{\"type\":\"scatterternary\",\"marker\":{\"colorbar\":{\"outlinewidth\":0,\"ticks\":\"\"}}}],\"scattercarpet\":[{\"type\":\"scattercarpet\",\"marker\":{\"colorbar\":{\"outlinewidth\":0,\"ticks\":\"\"}}}],\"carpet\":[{\"aaxis\":{\"endlinecolor\":\"#2a3f5f\",\"gridcolor\":\"white\",\"linecolor\":\"white\",\"minorgridcolor\":\"white\",\"startlinecolor\":\"#2a3f5f\"},\"baxis\":{\"endlinecolor\":\"#2a3f5f\",\"gridcolor\":\"white\",\"linecolor\":\"white\",\"minorgridcolor\":\"white\",\"startlinecolor\":\"#2a3f5f\"},\"type\":\"carpet\"}],\"table\":[{\"cells\":{\"fill\":{\"color\":\"#EBF0F8\"},\"line\":{\"color\":\"white\"}},\"header\":{\"fill\":{\"color\":\"#C8D4E3\"},\"line\":{\"color\":\"white\"}},\"type\":\"table\"}],\"barpolar\":[{\"marker\":{\"line\":{\"color\":\"#E5ECF6\",\"width\":0.5},\"pattern\":{\"fillmode\":\"overlay\",\"size\":10,\"solidity\":0.2}},\"type\":\"barpolar\"}],\"pie\":[{\"automargin\":true,\"type\":\"pie\"}]},\"layout\":{\"autotypenumbers\":\"strict\",\"colorway\":[\"#636efa\",\"#EF553B\",\"#00cc96\",\"#ab63fa\",\"#FFA15A\",\"#19d3f3\",\"#FF6692\",\"#B6E880\",\"#FF97FF\",\"#FECB52\"],\"font\":{\"color\":\"#2a3f5f\"},\"hovermode\":\"closest\",\"hoverlabel\":{\"align\":\"left\"},\"paper_bgcolor\":\"white\",\"plot_bgcolor\":\"#E5ECF6\",\"polar\":{\"bgcolor\":\"#E5ECF6\",\"angularaxis\":{\"gridcolor\":\"white\",\"linecolor\":\"white\",\"ticks\":\"\"},\"radialaxis\":{\"gridcolor\":\"white\",\"linecolor\":\"white\",\"ticks\":\"\"}},\"ternary\":{\"bgcolor\":\"#E5ECF6\",\"aaxis\":{\"gridcolor\":\"white\",\"linecolor\":\"white\",\"ticks\":\"\"},\"baxis\":{\"gridcolor\":\"white\",\"linecolor\":\"white\",\"ticks\":\"\"},\"caxis\":{\"gridcolor\":\"white\",\"linecolor\":\"white\",\"ticks\":\"\"}},\"coloraxis\":{\"colorbar\":{\"outlinewidth\":0,\"ticks\":\"\"}},\"colorscale\":{\"sequential\":[[0.0,\"#0d0887\"],[0.1111111111111111,\"#46039f\"],[0.2222222222222222,\"#7201a8\"],[0.3333333333333333,\"#9c179e\"],[0.4444444444444444,\"#bd3786\"],[0.5555555555555556,\"#d8576b\"],[0.6666666666666666,\"#ed7953\"],[0.7777777777777778,\"#fb9f3a\"],[0.8888888888888888,\"#fdca26\"],[1.0,\"#f0f921\"]],\"sequentialminus\":[[0.0,\"#0d0887\"],[0.1111111111111111,\"#46039f\"],[0.2222222222222222,\"#7201a8\"],[0.3333333333333333,\"#9c179e\"],[0.4444444444444444,\"#bd3786\"],[0.5555555555555556,\"#d8576b\"],[0.6666666666666666,\"#ed7953\"],[0.7777777777777778,\"#fb9f3a\"],[0.8888888888888888,\"#fdca26\"],[1.0,\"#f0f921\"]],\"diverging\":[[0,\"#8e0152\"],[0.1,\"#c51b7d\"],[0.2,\"#de77ae\"],[0.3,\"#f1b6da\"],[0.4,\"#fde0ef\"],[0.5,\"#f7f7f7\"],[0.6,\"#e6f5d0\"],[0.7,\"#b8e186\"],[0.8,\"#7fbc41\"],[0.9,\"#4d9221\"],[1,\"#276419\"]]},\"xaxis\":{\"gridcolor\":\"white\",\"linecolor\":\"white\",\"ticks\":\"\",\"title\":{\"standoff\":15},\"zerolinecolor\":\"white\",\"automargin\":true,\"zerolinewidth\":2},\"yaxis\":{\"gridcolor\":\"white\",\"linecolor\":\"white\",\"ticks\":\"\",\"title\":{\"standoff\":15},\"zerolinecolor\":\"white\",\"automargin\":true,\"zerolinewidth\":2},\"scene\":{\"xaxis\":{\"backgroundcolor\":\"#E5ECF6\",\"gridcolor\":\"white\",\"linecolor\":\"white\",\"showbackground\":true,\"ticks\":\"\",\"zerolinecolor\":\"white\",\"gridwidth\":2},\"yaxis\":{\"backgroundcolor\":\"#E5ECF6\",\"gridcolor\":\"white\",\"linecolor\":\"white\",\"showbackground\":true,\"ticks\":\"\",\"zerolinecolor\":\"white\",\"gridwidth\":2},\"zaxis\":{\"backgroundcolor\":\"#E5ECF6\",\"gridcolor\":\"white\",\"linecolor\":\"white\",\"showbackground\":true,\"ticks\":\"\",\"zerolinecolor\":\"white\",\"gridwidth\":2}},\"shapedefaults\":{\"line\":{\"color\":\"#2a3f5f\"}},\"annotationdefaults\":{\"arrowcolor\":\"#2a3f5f\",\"arrowhead\":0,\"arrowwidth\":1},\"geo\":{\"bgcolor\":\"white\",\"landcolor\":\"#E5ECF6\",\"subunitcolor\":\"white\",\"showland\":true,\"showlakes\":true,\"lakecolor\":\"white\"},\"title\":{\"x\":0.05},\"mapbox\":{\"style\":\"light\"}}},\"legend\":{\"tracegroupgap\":0},\"margin\":{\"t\":60},\"title\":{\"text\":\"Part de march\\u00e9 des compagnies a\\u00e9riennes\"}},                        {\"responsive\": true}                    ).then(function(){\n",
       "                            \n",
       "var gd = document.getElementById('4e923e9b-5123-48fb-827b-56f5adcbf411');\n",
       "var x = new MutationObserver(function (mutations, observer) {{\n",
       "        var display = window.getComputedStyle(gd).display;\n",
       "        if (!display || display === 'none') {{\n",
       "            console.log([gd, 'removed!']);\n",
       "            Plotly.purge(gd);\n",
       "            observer.disconnect();\n",
       "        }}\n",
       "}});\n",
       "\n",
       "// Listen for the removal of the full notebook cells\n",
       "var notebookContainer = gd.closest('#notebook-container');\n",
       "if (notebookContainer) {{\n",
       "    x.observe(notebookContainer, {childList: true});\n",
       "}}\n",
       "\n",
       "// Listen for the clearing of the current output cell\n",
       "var outputEl = gd.closest('.output');\n",
       "if (outputEl) {{\n",
       "    x.observe(outputEl, {childList: true});\n",
       "}}\n",
       "\n",
       "                        })                };                });            </script>        </div>"
      ]
     },
     "metadata": {},
     "output_type": "display_data"
    },
    {
     "data": {
      "text/plain": [
       "(None, None, None)"
      ]
     },
     "execution_count": 13,
     "metadata": {},
     "output_type": "execute_result"
    }
   ],
   "source": [
    "show_stats('tunis')"
   ]
  },
  {
   "cell_type": "code",
   "execution_count": 19,
   "metadata": {},
   "outputs": [],
   "source": [
    "def find_flights_by_price(db, max_price):\n",
    "    # liste pour stocker tous les vols qui coûtent moins cher que max_price\n",
    "    flights = []\n",
    "\n",
    "    # boucle sur toutes les collections de vols\n",
    "    for collection_name in db.list_collection_names():\n",
    "        collection = db[collection_name]\n",
    "        # récupération de tous les vols qui coûtent moins cher que max_price\n",
    "        result = collection.find({\"price\": {\"$lt\": max_price}})\n",
    "        # ajout des vols à la liste\n",
    "        for doc in result:\n",
    "            flights.append(doc)\n",
    "\n",
    "    return flights\n",
    "\n"
   ]
  },
  {
   "cell_type": "code",
   "execution_count": 20,
   "metadata": {},
   "outputs": [
    {
     "name": "stdout",
     "output_type": "stream",
     "text": [
      "[{'_id': ObjectId('63fa04869409584ee6b79602'), 'price': 41, 'date': '3/25', 'day': 'Sat', 'departure': '8:45 pm', 'arrival': '11:00 pm', 'duration': '3h 15m', 'company': 'Ryanair'}, {'_id': ObjectId('63fa04869409584ee6b79603'), 'price': 42, 'date': '3/19', 'day': 'Sun', 'departure': '8:20 pm', 'arrival': '10:35 pm', 'duration': '3h 15m', 'company': 'Ryanair'}, {'_id': ObjectId('63fa04869409584ee6b79604'), 'price': 44, 'date': '3/24', 'day': 'Fri', 'departure': '11:05 am', 'arrival': '1:20 pm', 'duration': '3h 15m', 'company': 'Ryanair'}, {'_id': ObjectId('63fa04869409584ee6b79605'), 'price': 47, 'date': '3/20', 'day': 'Mon', 'departure': '10:40 am', 'arrival': '12:55 pm', 'duration': '3h 15m', 'company': 'Ryanair'}, {'_id': ObjectId('63fa04869409584ee6b79606'), 'price': 53, 'date': '3/19', 'day': 'Sun', 'departure': '2:35 pm', 'arrival': '5:45 pm', 'duration': '4h 10m', 'company': 'Vueling'}, {'_id': ObjectId('63fa04869409584ee6b79607'), 'price': 56, 'date': '3/20', 'day': 'Mon', 'departure': '3:00 pm', 'arrival': '6:10 pm', 'duration': '4h 10m', 'company': 'Vueling'}, {'_id': ObjectId('63fa04869409584ee6b79608'), 'price': 56, 'date': '3/22', 'day': 'Wed', 'departure': '10:45 am', 'arrival': '1:00 pm', 'duration': '3h 15m', 'company': 'Ryanair'}, {'_id': ObjectId('63fa04869409584ee6b79609'), 'price': 63, 'date': '3/21', 'day': 'Tue', 'departure': '7:35 pm', 'arrival': '10:00 pm', 'duration': '3h 25m', 'company': 'Transavia France'}, {'_id': ObjectId('63fa04869409584ee6b7960a'), 'price': 64, 'date': '3/22', 'day': 'Wed', 'departure': '7:35 pm', 'arrival': '10:00 pm', 'duration': '3h 25m', 'company': 'Transavia France'}, {'_id': ObjectId('63fa04869409584ee6b7960b'), 'price': 69, 'date': '3/21', 'day': 'Tue', 'departure': '3:10 pm', 'arrival': '5:35 pm', 'duration': '3h 25m', 'company': 'Transavia France'}, {'_id': ObjectId('63fa04869409584ee6b7960c'), 'price': 69, 'date': '3/21', 'day': 'Tue', 'departure': '6:00 am', 'arrival': '8:25 am', 'duration': '3h 25m', 'company': 'Transavia France'}, {'_id': ObjectId('63fa04869409584ee6b7960d'), 'price': 72, 'date': '3/19', 'day': 'Sun', 'departure': '7:35 pm', 'arrival': '10:00 pm', 'duration': '3h 25m', 'company': 'Transavia France'}, {'_id': ObjectId('63fa04869409584ee6b7960e'), 'price': 72, 'date': '3/20', 'day': 'Mon', 'departure': '7:35 pm', 'arrival': '10:00 pm', 'duration': '3h 25m', 'company': 'Transavia France'}, {'_id': ObjectId('63fa04869409584ee6b7960f'), 'price': 71, 'date': '3/22', 'day': 'Wed', 'departure': '3:15 pm', 'arrival': '6:40 pm', 'duration': '4h 25m', 'company': 'easyJet'}, {'_id': ObjectId('63fa04869409584ee6b79610'), 'price': 79, 'date': '3/24', 'day': 'Fri', 'departure': '6:55 pm', 'arrival': '9:10 pm', 'duration': '3h 15m', 'company': 'Ryanair'}, {'_id': ObjectId('63fa04869409584ee6b79611'), 'price': 74, 'date': '3/23', 'day': 'Thu', 'departure': '10:40 am', 'arrival': '12:55 pm', 'duration': '3h 15m', 'company': 'Ryanair'}, {'_id': ObjectId('63fa04869409584ee6b79612'), 'price': 70, 'date': '3/21', 'day': 'Tue', 'departure': '3:25 pm', 'arrival': '6:50 pm', 'duration': '4h 25m', 'company': 'easyJet'}, {'_id': ObjectId('63fa04869409584ee6b79614'), 'price': 81, 'date': '3/20', 'day': 'Mon', 'departure': '6:35 am', 'arrival': '9:00 am', 'duration': '3h 25m', 'company': 'Transavia France'}, {'_id': ObjectId('63fa04869409584ee6b79616'), 'price': 78, 'date': '3/20', 'day': 'Mon', 'departure': '3:25 pm', 'arrival': '6:50 pm', 'duration': '4h 25m', 'company': 'easyJet'}, {'_id': ObjectId('63fa04869409584ee6b79618'), 'price': 81, 'date': '3/20', 'day': 'Mon', 'departure': '3:25 pm', 'arrival': '5:50 pm', 'duration': '3h 25m', 'company': 'Transavia France'}, {'_id': ObjectId('63fa04869409584ee6b7961b'), 'price': 83, 'date': '3/22', 'day': 'Wed', 'departure': '6:50 am', 'arrival': '9:15 am', 'duration': '3h 25m', 'company': 'Transavia France'}, {'_id': ObjectId('63fa04869409584ee6b7961d'), 'price': 83, 'date': '3/22', 'day': 'Wed', 'departure': '3:25 pm', 'arrival': '5:50 pm', 'duration': '3h 25m', 'company': 'Transavia France'}, {'_id': ObjectId('63fa058ea7fdc414d28e3301'), 'price': 41, 'date': '3/25', 'day': 'Sat', 'departure': '8:45 pm', 'arrival': '11:00 pm', 'duration': '3h 15m', 'company': 'Ryanair'}, {'_id': ObjectId('63fa058ea7fdc414d28e3302'), 'price': 42, 'date': '3/19', 'day': 'Sun', 'departure': '8:20 pm', 'arrival': '10:35 pm', 'duration': '3h 15m', 'company': 'Ryanair'}, {'_id': ObjectId('63fa058ea7fdc414d28e3303'), 'price': 44, 'date': '3/24', 'day': 'Fri', 'departure': '11:05 am', 'arrival': '1:20 pm', 'duration': '3h 15m', 'company': 'Ryanair'}, {'_id': ObjectId('63fa058ea7fdc414d28e3304'), 'price': 47, 'date': '3/20', 'day': 'Mon', 'departure': '10:40 am', 'arrival': '12:55 pm', 'duration': '3h 15m', 'company': 'Ryanair'}, {'_id': ObjectId('63fa058ea7fdc414d28e3305'), 'price': 53, 'date': '3/19', 'day': 'Sun', 'departure': '2:35 pm', 'arrival': '5:45 pm', 'duration': '4h 10m', 'company': 'Vueling'}, {'_id': ObjectId('63fa058ea7fdc414d28e3306'), 'price': 56, 'date': '3/20', 'day': 'Mon', 'departure': '3:00 pm', 'arrival': '6:10 pm', 'duration': '4h 10m', 'company': 'Vueling'}, {'_id': ObjectId('63fa058ea7fdc414d28e3307'), 'price': 56, 'date': '3/22', 'day': 'Wed', 'departure': '10:45 am', 'arrival': '1:00 pm', 'duration': '3h 15m', 'company': 'Ryanair'}, {'_id': ObjectId('63fa058ea7fdc414d28e3308'), 'price': 63, 'date': '3/21', 'day': 'Tue', 'departure': '7:35 pm', 'arrival': '10:00 pm', 'duration': '3h 25m', 'company': 'Transavia France'}, {'_id': ObjectId('63fa058ea7fdc414d28e3309'), 'price': 64, 'date': '3/22', 'day': 'Wed', 'departure': '7:35 pm', 'arrival': '10:00 pm', 'duration': '3h 25m', 'company': 'Transavia France'}, {'_id': ObjectId('63fa058ea7fdc414d28e330a'), 'price': 69, 'date': '3/21', 'day': 'Tue', 'departure': '3:10 pm', 'arrival': '5:35 pm', 'duration': '3h 25m', 'company': 'Transavia France'}, {'_id': ObjectId('63fa058ea7fdc414d28e330b'), 'price': 69, 'date': '3/21', 'day': 'Tue', 'departure': '6:00 am', 'arrival': '8:25 am', 'duration': '3h 25m', 'company': 'Transavia France'}, {'_id': ObjectId('63fa058ea7fdc414d28e330c'), 'price': 72, 'date': '3/19', 'day': 'Sun', 'departure': '7:35 pm', 'arrival': '10:00 pm', 'duration': '3h 25m', 'company': 'Transavia France'}, {'_id': ObjectId('63fa058ea7fdc414d28e330d'), 'price': 72, 'date': '3/20', 'day': 'Mon', 'departure': '7:35 pm', 'arrival': '10:00 pm', 'duration': '3h 25m', 'company': 'Transavia France'}, {'_id': ObjectId('63fa058ea7fdc414d28e330e'), 'price': 71, 'date': '3/22', 'day': 'Wed', 'departure': '3:15 pm', 'arrival': '6:40 pm', 'duration': '4h 25m', 'company': 'easyJet'}, {'_id': ObjectId('63fa058ea7fdc414d28e330f'), 'price': 79, 'date': '3/24', 'day': 'Fri', 'departure': '6:55 pm', 'arrival': '9:10 pm', 'duration': '3h 15m', 'company': 'Ryanair'}, {'_id': ObjectId('63fa058ea7fdc414d28e3310'), 'price': 74, 'date': '3/23', 'day': 'Thu', 'departure': '10:40 am', 'arrival': '12:55 pm', 'duration': '3h 15m', 'company': 'Ryanair'}, {'_id': ObjectId('63fa058ea7fdc414d28e3311'), 'price': 70, 'date': '3/21', 'day': 'Tue', 'departure': '3:25 pm', 'arrival': '6:50 pm', 'duration': '4h 25m', 'company': 'easyJet'}, {'_id': ObjectId('63fa058ea7fdc414d28e3313'), 'price': 81, 'date': '3/20', 'day': 'Mon', 'departure': '6:35 am', 'arrival': '9:00 am', 'duration': '3h 25m', 'company': 'Transavia France'}, {'_id': ObjectId('63fa058ea7fdc414d28e3315'), 'price': 78, 'date': '3/20', 'day': 'Mon', 'departure': '3:25 pm', 'arrival': '6:50 pm', 'duration': '4h 25m', 'company': 'easyJet'}, {'_id': ObjectId('63fa058ea7fdc414d28e3317'), 'price': 81, 'date': '3/20', 'day': 'Mon', 'departure': '3:25 pm', 'arrival': '5:50 pm', 'duration': '3h 25m', 'company': 'Transavia France'}, {'_id': ObjectId('63fa058ea7fdc414d28e331a'), 'price': 83, 'date': '3/22', 'day': 'Wed', 'departure': '6:50 am', 'arrival': '9:15 am', 'duration': '3h 25m', 'company': 'Transavia France'}, {'_id': ObjectId('63fa058ea7fdc414d28e331c'), 'price': 83, 'date': '3/22', 'day': 'Wed', 'departure': '3:25 pm', 'arrival': '5:50 pm', 'duration': '3h 25m', 'company': 'Transavia France'}, {'_id': ObjectId('63fa04869409584ee6b795aa'), 'price': 43, 'date': '3/21', 'day': 'Tue', 'departure': '7:00 am', 'arrival': '8:50 am', 'duration': '1h 50m', 'company': 'Transavia France'}, {'_id': ObjectId('63fa04869409584ee6b795ab'), 'price': 49, 'date': '3/23', 'day': 'Thu', 'departure': '6:40 am', 'arrival': '8:25 am', 'duration': '1h 45m', 'company': 'easyJet'}, {'_id': ObjectId('63fa04869409584ee6b795ac'), 'price': 55, 'date': '3/22', 'day': 'Wed', 'departure': '9:45 am', 'arrival': '11:35 am', 'duration': '1h 50m', 'company': 'easyJet'}, {'_id': ObjectId('63fa04869409584ee6b795ad'), 'price': 55, 'date': '3/21', 'day': 'Tue', 'departure': '6:15 pm', 'arrival': '8:05 pm', 'duration': '1h 50m', 'company': 'easyJet'}, {'_id': ObjectId('63fa04869409584ee6b795ae'), 'price': 64, 'date': '3/22', 'day': 'Wed', 'departure': '6:15 pm', 'arrival': '8:05 pm', 'duration': '1h 50m', 'company': 'easyJet'}, {'_id': ObjectId('63fa04869409584ee6b795af'), 'price': 60, 'date': '3/25', 'day': 'Sat', 'departure': '11:35 am', 'arrival': '1:20 pm', 'duration': '1h 45m', 'company': 'easyJet'}, {'_id': ObjectId('63fa04869409584ee6b795b0'), 'price': 54, 'date': '3/21', 'day': 'Tue', 'departure': '6:30 am', 'arrival': '8:15 am', 'duration': '1h 45m', 'company': 'easyJet'}, {'_id': ObjectId('63fa04869409584ee6b795b1'), 'price': 67, 'date': '3/22', 'day': 'Wed', 'departure': '6:15 pm', 'arrival': '8:00 pm', 'duration': '1h 45m', 'company': 'easyJet'}, {'_id': ObjectId('63fa04869409584ee6b795b2'), 'price': 72, 'date': '3/25', 'day': 'Sat', 'departure': '4:30 pm', 'arrival': '6:15 pm', 'duration': '1h 45m', 'company': 'easyJet'}, {'_id': ObjectId('63fa04869409584ee6b795b3'), 'price': 60, 'date': '3/22', 'day': 'Wed', 'departure': '6:40 am', 'arrival': '8:25 am', 'duration': '1h 45m', 'company': 'easyJet'}, {'_id': ObjectId('63fa04869409584ee6b795b4'), 'price': 77, 'date': '3/25', 'day': 'Sat', 'departure': '12:30 pm', 'arrival': '2:20 pm', 'duration': '1h 50m', 'company': 'Transavia France'}, {'_id': ObjectId('63fa04869409584ee6b795b5'), 'price': 73, 'date': '3/23', 'day': 'Thu', 'departure': '6:05 pm', 'arrival': '7:50 pm', 'duration': '1h 45m', 'company': 'easyJet'}, {'_id': ObjectId('63fa04869409584ee6b795b6'), 'price': 69, 'date': '3/21', 'day': 'Tue', 'departure': '6:15 pm', 'arrival': '8:00 pm', 'duration': '1h 45m', 'company': 'easyJet'}, {'_id': ObjectId('63fa04869409584ee6b795b7'), 'price': 65, 'date': '3/22', 'day': 'Wed', 'departure': '5:10 pm', 'arrival': '9:50 pm', 'duration': '4h 40m', 'company': 'Ryanair'}, {'_id': ObjectId('63fa04869409584ee6b795b8'), 'price': 71, 'date': '3/22', 'day': 'Wed', 'departure': '9:45 am', 'arrival': '11:35 am', 'duration': '1h 50m', 'company': 'easyJet Europe'}, {'_id': ObjectId('63fa04869409584ee6b795b9'), 'price': 66, 'date': '3/21', 'day': 'Tue', 'departure': '9:45 am', 'arrival': '11:35 am', 'duration': '1h 50m', 'company': 'easyJet'}, {'_id': ObjectId('63fa04869409584ee6b795ba'), 'price': 77, 'date': '3/23', 'day': 'Thu', 'departure': '12:40 pm', 'arrival': '2:30 pm', 'duration': '1h 50m', 'company': 'Transavia France'}, {'_id': ObjectId('63fa04869409584ee6b795bb'), 'price': 80, 'date': '3/22', 'day': 'Wed', 'departure': '6:15 pm', 'arrival': '8:05 pm', 'duration': '1h 50m', 'company': 'easyJet Europe'}, {'_id': ObjectId('63fa04869409584ee6b795bc'), 'price': 71, 'date': '3/25', 'day': 'Sat', 'departure': '9:40 am', 'arrival': '11:30 am', 'duration': '1h 50m', 'company': 'easyJet'}, {'_id': ObjectId('63fa04869409584ee6b795bd'), 'price': 84, 'date': '3/22', 'day': 'Wed', 'departure': '6:15 pm', 'arrival': '8:00 pm', 'duration': '1h 45m', 'company': 'easyJet Europe'}, {'_id': ObjectId('63fa04869409584ee6b795be'), 'price': 82, 'date': '3/22', 'day': 'Wed', 'departure': '6:40 am', 'arrival': '8:25 am', 'duration': '1h 45m', 'company': 'easyJet Europe'}, {'_id': ObjectId('63fa04869409584ee6b795bf'), 'price': 82, 'date': '3/24', 'day': 'Fri', 'departure': '6:40 am', 'arrival': '8:25 am', 'duration': '1h 45m', 'company': 'easyJet'}, {'_id': ObjectId('63fa058ea7fdc414d28e32a9'), 'price': 43, 'date': '3/21', 'day': 'Tue', 'departure': '7:00 am', 'arrival': '8:50 am', 'duration': '1h 50m', 'company': 'Transavia France'}, {'_id': ObjectId('63fa058ea7fdc414d28e32aa'), 'price': 49, 'date': '3/23', 'day': 'Thu', 'departure': '6:40 am', 'arrival': '8:25 am', 'duration': '1h 45m', 'company': 'easyJet'}, {'_id': ObjectId('63fa058ea7fdc414d28e32ab'), 'price': 55, 'date': '3/22', 'day': 'Wed', 'departure': '9:45 am', 'arrival': '11:35 am', 'duration': '1h 50m', 'company': 'easyJet'}, {'_id': ObjectId('63fa058ea7fdc414d28e32ac'), 'price': 55, 'date': '3/21', 'day': 'Tue', 'departure': '6:15 pm', 'arrival': '8:05 pm', 'duration': '1h 50m', 'company': 'easyJet'}, {'_id': ObjectId('63fa058ea7fdc414d28e32ad'), 'price': 64, 'date': '3/22', 'day': 'Wed', 'departure': '6:15 pm', 'arrival': '8:05 pm', 'duration': '1h 50m', 'company': 'easyJet'}, {'_id': ObjectId('63fa058ea7fdc414d28e32ae'), 'price': 60, 'date': '3/25', 'day': 'Sat', 'departure': '11:35 am', 'arrival': '1:20 pm', 'duration': '1h 45m', 'company': 'easyJet'}, {'_id': ObjectId('63fa058ea7fdc414d28e32af'), 'price': 54, 'date': '3/21', 'day': 'Tue', 'departure': '6:30 am', 'arrival': '8:15 am', 'duration': '1h 45m', 'company': 'easyJet'}, {'_id': ObjectId('63fa058ea7fdc414d28e32b0'), 'price': 67, 'date': '3/22', 'day': 'Wed', 'departure': '6:15 pm', 'arrival': '8:00 pm', 'duration': '1h 45m', 'company': 'easyJet'}, {'_id': ObjectId('63fa058ea7fdc414d28e32b1'), 'price': 72, 'date': '3/25', 'day': 'Sat', 'departure': '4:30 pm', 'arrival': '6:15 pm', 'duration': '1h 45m', 'company': 'easyJet'}, {'_id': ObjectId('63fa058ea7fdc414d28e32b2'), 'price': 60, 'date': '3/22', 'day': 'Wed', 'departure': '6:40 am', 'arrival': '8:25 am', 'duration': '1h 45m', 'company': 'easyJet'}, {'_id': ObjectId('63fa058ea7fdc414d28e32b3'), 'price': 77, 'date': '3/25', 'day': 'Sat', 'departure': '12:30 pm', 'arrival': '2:20 pm', 'duration': '1h 50m', 'company': 'Transavia France'}, {'_id': ObjectId('63fa058ea7fdc414d28e32b4'), 'price': 73, 'date': '3/23', 'day': 'Thu', 'departure': '6:05 pm', 'arrival': '7:50 pm', 'duration': '1h 45m', 'company': 'easyJet'}, {'_id': ObjectId('63fa058ea7fdc414d28e32b5'), 'price': 69, 'date': '3/21', 'day': 'Tue', 'departure': '6:15 pm', 'arrival': '8:00 pm', 'duration': '1h 45m', 'company': 'easyJet'}, {'_id': ObjectId('63fa058ea7fdc414d28e32b6'), 'price': 65, 'date': '3/22', 'day': 'Wed', 'departure': '5:10 pm', 'arrival': '9:50 pm', 'duration': '4h 40m', 'company': 'Ryanair'}, {'_id': ObjectId('63fa058ea7fdc414d28e32b7'), 'price': 71, 'date': '3/22', 'day': 'Wed', 'departure': '9:45 am', 'arrival': '11:35 am', 'duration': '1h 50m', 'company': 'easyJet Europe'}, {'_id': ObjectId('63fa058ea7fdc414d28e32b8'), 'price': 66, 'date': '3/21', 'day': 'Tue', 'departure': '9:45 am', 'arrival': '11:35 am', 'duration': '1h 50m', 'company': 'easyJet'}, {'_id': ObjectId('63fa058ea7fdc414d28e32b9'), 'price': 77, 'date': '3/23', 'day': 'Thu', 'departure': '12:40 pm', 'arrival': '2:30 pm', 'duration': '1h 50m', 'company': 'Transavia France'}, {'_id': ObjectId('63fa058ea7fdc414d28e32ba'), 'price': 80, 'date': '3/22', 'day': 'Wed', 'departure': '6:15 pm', 'arrival': '8:05 pm', 'duration': '1h 50m', 'company': 'easyJet Europe'}, {'_id': ObjectId('63fa058ea7fdc414d28e32bb'), 'price': 71, 'date': '3/25', 'day': 'Sat', 'departure': '9:40 am', 'arrival': '11:30 am', 'duration': '1h 50m', 'company': 'easyJet'}, {'_id': ObjectId('63fa058ea7fdc414d28e32bc'), 'price': 84, 'date': '3/22', 'day': 'Wed', 'departure': '6:15 pm', 'arrival': '8:00 pm', 'duration': '1h 45m', 'company': 'easyJet Europe'}, {'_id': ObjectId('63fa058ea7fdc414d28e32bd'), 'price': 82, 'date': '3/22', 'day': 'Wed', 'departure': '6:40 am', 'arrival': '8:25 am', 'duration': '1h 45m', 'company': 'easyJet Europe'}, {'_id': ObjectId('63fa058ea7fdc414d28e32be'), 'price': 82, 'date': '3/24', 'day': 'Fri', 'departure': '6:40 am', 'arrival': '8:25 am', 'duration': '1h 45m', 'company': 'easyJet'}, {'_id': ObjectId('63fa04869409584ee6b79699'), 'price': 17, 'date': '3/22', 'day': 'Wed', 'departure': '1:10 pm', 'arrival': '2:45 pm', 'duration': '1h 35m', 'company': 'Ryanair'}, {'_id': ObjectId('63fa04869409584ee6b7969a'), 'price': 25, 'date': '3/23', 'day': 'Thu', 'departure': '7:20 am', 'arrival': '9:00 am', 'duration': '1h 40m', 'company': 'easyJet'}, {'_id': ObjectId('63fa04869409584ee6b7969b'), 'price': 27, 'date': '3/23', 'day': 'Thu', 'departure': '11:20 am', 'arrival': '12:55 pm', 'duration': '1h 35m', 'company': 'Ryanair'}, {'_id': ObjectId('63fa04869409584ee6b7969c'), 'price': 28, 'date': '3/24', 'day': 'Fri', 'departure': '6:00 am', 'arrival': '7:35 am', 'duration': '1h 35m', 'company': 'Ryanair'}, {'_id': ObjectId('63fa04869409584ee6b7969d'), 'price': 28, 'date': '3/22', 'day': 'Wed', 'departure': '7:00 am', 'arrival': '8:40 am', 'duration': '1h 40m', 'company': 'easyJet'}, {'_id': ObjectId('63fa04869409584ee6b7969e'), 'price': 37, 'date': '3/22', 'day': 'Wed', 'departure': '4:20 pm', 'arrival': '5:55 pm', 'duration': '1h 35m', 'company': 'easyJet'}, {'_id': ObjectId('63fa04869409584ee6b7969f'), 'price': 37, 'date': '3/21', 'day': 'Tue', 'departure': '6:20 pm', 'arrival': '7:55 pm', 'duration': '1h 35m', 'company': 'easyJet'}, {'_id': ObjectId('63fa04869409584ee6b796a0'), 'price': 44, 'date': '3/22', 'day': 'Wed', 'departure': '6:20 pm', 'arrival': '7:55 pm', 'duration': '1h 35m', 'company': 'easyJet'}, {'_id': ObjectId('63fa04869409584ee6b796a1'), 'price': 39, 'date': '3/21', 'day': 'Tue', 'departure': '4:10 pm', 'arrival': '5:45 pm', 'duration': '1h 35m', 'company': 'easyJet'}, {'_id': ObjectId('63fa04869409584ee6b796a2'), 'price': 42, 'date': '3/22', 'day': 'Wed', 'departure': '7:00 am', 'arrival': '8:40 am', 'duration': '1h 40m', 'company': 'easyJet Europe'}, {'_id': ObjectId('63fa04869409584ee6b796a3'), 'price': 44, 'date': '3/22', 'day': 'Wed', 'departure': '8:00 pm', 'arrival': '9:40 pm', 'duration': '1h 40m', 'company': 'easyJet'}, {'_id': ObjectId('63fa04869409584ee6b796a4'), 'price': 49, 'date': '3/20', 'day': 'Mon', 'departure': '6:30 pm', 'arrival': '8:05 pm', 'duration': '1h 35m', 'company': 'Ryanair'}, {'_id': ObjectId('63fa04869409584ee6b796a5'), 'price': 39, 'date': '3/23', 'day': 'Thu', 'departure': '7:20 am', 'arrival': '8:55 am', 'duration': '1h 35m', 'company': 'easyJet'}, {'_id': ObjectId('63fa04869409584ee6b796a6'), 'price': 44, 'date': '3/22', 'day': 'Wed', 'departure': '7:20 am', 'arrival': '8:55 am', 'duration': '1h 35m', 'company': 'easyJet'}, {'_id': ObjectId('63fa04869409584ee6b796a7'), 'price': 54, 'date': '3/25', 'day': 'Sat', 'departure': '2:05 pm', 'arrival': '3:40 pm', 'duration': '1h 35m', 'company': 'Ryanair'}, {'_id': ObjectId('63fa04869409584ee6b796a8'), 'price': 51, 'date': '3/22', 'day': 'Wed', 'departure': '4:20 pm', 'arrival': '5:55 pm', 'duration': '1h 35m', 'company': 'easyJet Europe'}, {'_id': ObjectId('63fa04869409584ee6b796a9'), 'price': 34, 'date': '3/21', 'day': 'Tue', 'departure': '8:25 am', 'arrival': '2:45 pm', 'duration': '6h 20m', 'company': 'Ryanair, Itabus'}, {'_id': ObjectId('63fa04869409584ee6b796aa'), 'price': 49, 'date': '3/21', 'day': 'Tue', 'departure': '8:50 pm', 'arrival': '10:30 pm', 'duration': '1h 40m', 'company': 'easyJet'}, {'_id': ObjectId('63fa04869409584ee6b796ab'), 'price': 57, 'date': '3/20', 'day': 'Mon', 'departure': '8:50 pm', 'arrival': '10:30 pm', 'duration': '1h 40m', 'company': 'easyJet'}, {'_id': ObjectId('63fa04869409584ee6b796ac'), 'price': 53, 'date': '3/22', 'day': 'Wed', 'departure': '9:30 am', 'arrival': '11:10 am', 'duration': '1h 40m', 'company': 'easyJet'}, {'_id': ObjectId('63fa04869409584ee6b796ad'), 'price': 59, 'date': '3/22', 'day': 'Wed', 'departure': '6:20 pm', 'arrival': '7:55 pm', 'duration': '1h 35m', 'company': 'easyJet Europe'}, {'_id': ObjectId('63fa04869409584ee6b796ae'), 'price': 53, 'date': '3/23', 'day': 'Thu', 'departure': '4:35 pm', 'arrival': '6:15 pm', 'duration': '1h 40m', 'company': 'easyJet'}, {'_id': ObjectId('63fa04869409584ee6b796af'), 'price': 57, 'date': '3/24', 'day': 'Fri', 'departure': '4:45 pm', 'arrival': '6:25 pm', 'duration': '1h 40m', 'company': 'easyJet'}, {'_id': ObjectId('63fa04869409584ee6b796b0'), 'price': 57, 'date': '3/23', 'day': 'Thu', 'departure': '6:35 pm', 'arrival': '8:10 pm', 'duration': '1h 35m', 'company': 'easyJet'}, {'_id': ObjectId('63fa04869409584ee6b796b1'), 'price': 66, 'date': '3/24', 'day': 'Fri', 'departure': '1:15 pm', 'arrival': '2:50 pm', 'duration': '1h 35m', 'company': 'easyJet'}, {'_id': ObjectId('63fa04869409584ee6b796b2'), 'price': 59, 'date': '3/22', 'day': 'Wed', 'departure': '7:20 am', 'arrival': '8:55 am', 'duration': '1h 35m', 'company': 'easyJet Europe'}, {'_id': ObjectId('63fa04869409584ee6b796b3'), 'price': 61, 'date': '3/20', 'day': 'Mon', 'departure': '6:35 pm', 'arrival': '8:10 pm', 'duration': '1h 35m', 'company': 'easyJet'}, {'_id': ObjectId('63fa04869409584ee6b796b4'), 'price': 54, 'date': '3/21', 'day': 'Tue', 'departure': '7:20 am', 'arrival': '8:55 am', 'duration': '1h 35m', 'company': 'easyJet'}, {'_id': ObjectId('63fa04869409584ee6b796b5'), 'price': 61, 'date': '3/24', 'day': 'Fri', 'departure': '8:55 pm', 'arrival': '10:35 pm', 'duration': '1h 40m', 'company': 'easyJet'}, {'_id': ObjectId('63fa058ea7fdc414d28e3398'), 'price': 17, 'date': '3/22', 'day': 'Wed', 'departure': '1:10 pm', 'arrival': '2:45 pm', 'duration': '1h 35m', 'company': 'Ryanair'}, {'_id': ObjectId('63fa058ea7fdc414d28e3399'), 'price': 25, 'date': '3/23', 'day': 'Thu', 'departure': '7:20 am', 'arrival': '9:00 am', 'duration': '1h 40m', 'company': 'easyJet'}, {'_id': ObjectId('63fa058ea7fdc414d28e339a'), 'price': 27, 'date': '3/23', 'day': 'Thu', 'departure': '11:20 am', 'arrival': '12:55 pm', 'duration': '1h 35m', 'company': 'Ryanair'}, {'_id': ObjectId('63fa058ea7fdc414d28e339b'), 'price': 28, 'date': '3/24', 'day': 'Fri', 'departure': '6:00 am', 'arrival': '7:35 am', 'duration': '1h 35m', 'company': 'Ryanair'}, {'_id': ObjectId('63fa058ea7fdc414d28e339c'), 'price': 28, 'date': '3/22', 'day': 'Wed', 'departure': '7:00 am', 'arrival': '8:40 am', 'duration': '1h 40m', 'company': 'easyJet'}, {'_id': ObjectId('63fa058ea7fdc414d28e339d'), 'price': 37, 'date': '3/22', 'day': 'Wed', 'departure': '4:20 pm', 'arrival': '5:55 pm', 'duration': '1h 35m', 'company': 'easyJet'}, {'_id': ObjectId('63fa058ea7fdc414d28e339e'), 'price': 37, 'date': '3/21', 'day': 'Tue', 'departure': '6:20 pm', 'arrival': '7:55 pm', 'duration': '1h 35m', 'company': 'easyJet'}, {'_id': ObjectId('63fa058ea7fdc414d28e339f'), 'price': 44, 'date': '3/22', 'day': 'Wed', 'departure': '6:20 pm', 'arrival': '7:55 pm', 'duration': '1h 35m', 'company': 'easyJet'}, {'_id': ObjectId('63fa058ea7fdc414d28e33a0'), 'price': 39, 'date': '3/21', 'day': 'Tue', 'departure': '4:10 pm', 'arrival': '5:45 pm', 'duration': '1h 35m', 'company': 'easyJet'}, {'_id': ObjectId('63fa058ea7fdc414d28e33a1'), 'price': 42, 'date': '3/22', 'day': 'Wed', 'departure': '7:00 am', 'arrival': '8:40 am', 'duration': '1h 40m', 'company': 'easyJet Europe'}, {'_id': ObjectId('63fa058ea7fdc414d28e33a2'), 'price': 44, 'date': '3/22', 'day': 'Wed', 'departure': '8:00 pm', 'arrival': '9:40 pm', 'duration': '1h 40m', 'company': 'easyJet'}, {'_id': ObjectId('63fa058ea7fdc414d28e33a3'), 'price': 49, 'date': '3/20', 'day': 'Mon', 'departure': '6:30 pm', 'arrival': '8:05 pm', 'duration': '1h 35m', 'company': 'Ryanair'}, {'_id': ObjectId('63fa058ea7fdc414d28e33a4'), 'price': 39, 'date': '3/23', 'day': 'Thu', 'departure': '7:20 am', 'arrival': '8:55 am', 'duration': '1h 35m', 'company': 'easyJet'}, {'_id': ObjectId('63fa058ea7fdc414d28e33a5'), 'price': 44, 'date': '3/22', 'day': 'Wed', 'departure': '7:20 am', 'arrival': '8:55 am', 'duration': '1h 35m', 'company': 'easyJet'}, {'_id': ObjectId('63fa058ea7fdc414d28e33a6'), 'price': 54, 'date': '3/25', 'day': 'Sat', 'departure': '2:05 pm', 'arrival': '3:40 pm', 'duration': '1h 35m', 'company': 'Ryanair'}, {'_id': ObjectId('63fa058ea7fdc414d28e33a7'), 'price': 51, 'date': '3/22', 'day': 'Wed', 'departure': '4:20 pm', 'arrival': '5:55 pm', 'duration': '1h 35m', 'company': 'easyJet Europe'}, {'_id': ObjectId('63fa058ea7fdc414d28e33a8'), 'price': 34, 'date': '3/21', 'day': 'Tue', 'departure': '8:25 am', 'arrival': '2:45 pm', 'duration': '6h 20m', 'company': 'Ryanair, Itabus'}, {'_id': ObjectId('63fa058ea7fdc414d28e33a9'), 'price': 49, 'date': '3/21', 'day': 'Tue', 'departure': '8:50 pm', 'arrival': '10:30 pm', 'duration': '1h 40m', 'company': 'easyJet'}, {'_id': ObjectId('63fa058ea7fdc414d28e33aa'), 'price': 57, 'date': '3/20', 'day': 'Mon', 'departure': '8:50 pm', 'arrival': '10:30 pm', 'duration': '1h 40m', 'company': 'easyJet'}, {'_id': ObjectId('63fa058ea7fdc414d28e33ab'), 'price': 53, 'date': '3/22', 'day': 'Wed', 'departure': '9:30 am', 'arrival': '11:10 am', 'duration': '1h 40m', 'company': 'easyJet'}, {'_id': ObjectId('63fa058ea7fdc414d28e33ac'), 'price': 59, 'date': '3/22', 'day': 'Wed', 'departure': '6:20 pm', 'arrival': '7:55 pm', 'duration': '1h 35m', 'company': 'easyJet Europe'}, {'_id': ObjectId('63fa058ea7fdc414d28e33ad'), 'price': 53, 'date': '3/23', 'day': 'Thu', 'departure': '4:35 pm', 'arrival': '6:15 pm', 'duration': '1h 40m', 'company': 'easyJet'}, {'_id': ObjectId('63fa058ea7fdc414d28e33ae'), 'price': 57, 'date': '3/24', 'day': 'Fri', 'departure': '4:45 pm', 'arrival': '6:25 pm', 'duration': '1h 40m', 'company': 'easyJet'}, {'_id': ObjectId('63fa058ea7fdc414d28e33af'), 'price': 57, 'date': '3/23', 'day': 'Thu', 'departure': '6:35 pm', 'arrival': '8:10 pm', 'duration': '1h 35m', 'company': 'easyJet'}, {'_id': ObjectId('63fa058ea7fdc414d28e33b0'), 'price': 66, 'date': '3/24', 'day': 'Fri', 'departure': '1:15 pm', 'arrival': '2:50 pm', 'duration': '1h 35m', 'company': 'easyJet'}, {'_id': ObjectId('63fa058ea7fdc414d28e33b1'), 'price': 59, 'date': '3/22', 'day': 'Wed', 'departure': '7:20 am', 'arrival': '8:55 am', 'duration': '1h 35m', 'company': 'easyJet Europe'}, {'_id': ObjectId('63fa058ea7fdc414d28e33b2'), 'price': 61, 'date': '3/20', 'day': 'Mon', 'departure': '6:35 pm', 'arrival': '8:10 pm', 'duration': '1h 35m', 'company': 'easyJet'}, {'_id': ObjectId('63fa058ea7fdc414d28e33b3'), 'price': 54, 'date': '3/21', 'day': 'Tue', 'departure': '7:20 am', 'arrival': '8:55 am', 'duration': '1h 35m', 'company': 'easyJet'}, {'_id': ObjectId('63fa058ea7fdc414d28e33b4'), 'price': 61, 'date': '3/24', 'day': 'Fri', 'departure': '8:55 pm', 'arrival': '10:35 pm', 'duration': '1h 40m', 'company': 'easyJet'}, {'_id': ObjectId('63fa04869409584ee6b7965c'), 'price': 61, 'date': '3/24', 'day': 'Fri', 'departure': '3:40 pm', 'arrival': '8:30 pm', 'duration': '4h 50m', 'company': 'Wizz Air, Ryanair'}, {'_id': ObjectId('63fa04869409584ee6b7965d'), 'price': 40, 'date': '3/21', 'day': 'Tue', 'departure': '6:05 pm', 'arrival': '5:50 pm+1', 'duration': '23h 45m', 'company': 'Ryanair'}, {'_id': ObjectId('63fa04869409584ee6b7965f'), 'price': 66, 'date': '3/24', 'day': 'Fri', 'departure': '8:55 am', 'arrival': '3:15 pm', 'duration': '6h 20m', 'company': 'Ryanair'}, {'_id': ObjectId('63fa058ea7fdc414d28e335b'), 'price': 61, 'date': '3/24', 'day': 'Fri', 'departure': '3:40 pm', 'arrival': '8:30 pm', 'duration': '4h 50m', 'company': 'Wizz Air, Ryanair'}, {'_id': ObjectId('63fa058ea7fdc414d28e335c'), 'price': 40, 'date': '3/21', 'day': 'Tue', 'departure': '6:05 pm', 'arrival': '5:50 pm+1', 'duration': '23h 45m', 'company': 'Ryanair'}, {'_id': ObjectId('63fa058ea7fdc414d28e335e'), 'price': 66, 'date': '3/24', 'day': 'Fri', 'departure': '8:55 am', 'arrival': '3:15 pm', 'duration': '6h 20m', 'company': 'Ryanair'}, {'_id': ObjectId('63fa04869409584ee6b795e4'), 'price': 26, 'date': '3/25', 'day': 'Sat', 'departure': '3:40 pm', 'arrival': '10:00 am+1', 'duration': '17h 20m', 'company': 'Ryanair'}, {'_id': ObjectId('63fa04869409584ee6b795e5'), 'price': 44, 'date': '3/22', 'day': 'Wed', 'departure': '12:30 pm', 'arrival': '2:50 pm', 'duration': '2h 20m', 'company': 'easyJet'}, {'_id': ObjectId('63fa04869409584ee6b795e6'), 'price': 48, 'date': '3/24', 'day': 'Fri', 'departure': '2:00 pm', 'arrival': '4:05 pm', 'duration': '2h 05m', 'company': 'Ryanair'}, {'_id': ObjectId('63fa04869409584ee6b795e7'), 'price': 49, 'date': '3/22', 'day': 'Wed', 'departure': '6:20 am', 'arrival': '8:25 am', 'duration': '2h 05m', 'company': 'Transavia France'}, {'_id': ObjectId('63fa04869409584ee6b795e8'), 'price': 58, 'date': '3/22', 'day': 'Wed', 'departure': '2:00 pm', 'arrival': '4:05 pm', 'duration': '2h 05m', 'company': 'Transavia France'}, {'_id': ObjectId('63fa04869409584ee6b795e9'), 'price': 55, 'date': '3/23', 'day': 'Thu', 'departure': '6:20 am', 'arrival': '8:25 am', 'duration': '2h 05m', 'company': 'Transavia France'}, {'_id': ObjectId('63fa04869409584ee6b795ea'), 'price': 57, 'date': '3/23', 'day': 'Thu', 'departure': '7:10 am', 'arrival': '9:25 am', 'duration': '2h 15m', 'company': 'easyJet'}, {'_id': ObjectId('63fa04869409584ee6b795eb'), 'price': 78, 'date': '3/25', 'day': 'Sat', 'departure': '7:40 pm', 'arrival': '9:40 pm', 'duration': '2h 00m', 'company': 'Air Europa'}, {'_id': ObjectId('63fa04869409584ee6b795ec'), 'price': 69, 'date': '3/23', 'day': 'Thu', 'departure': '3:15 pm', 'arrival': '5:20 pm', 'duration': '2h 05m', 'company': 'Ryanair'}, {'_id': ObjectId('63fa04869409584ee6b795ed'), 'price': 59, 'date': '3/22', 'day': 'Wed', 'departure': '7:30 am', 'arrival': '9:45 am', 'duration': '2h 15m', 'company': 'Iberia'}, {'_id': ObjectId('63fa04869409584ee6b795ee'), 'price': 58, 'date': '3/22', 'day': 'Wed', 'departure': '10:40 am', 'arrival': '12:45 pm', 'duration': '2h 05m', 'company': 'Transavia France'}, {'_id': ObjectId('63fa04869409584ee6b795ef'), 'price': 59, 'date': '3/22', 'day': 'Wed', 'departure': '7:30 am', 'arrival': '9:45 am', 'duration': '2h 15m', 'company': 'Iberia Express'}, {'_id': ObjectId('63fa04869409584ee6b795f0'), 'price': 59, 'date': '3/22', 'day': 'Wed', 'departure': '12:30 pm', 'arrival': '2:50 pm', 'duration': '2h 20m', 'company': 'easyJet Europe'}, {'_id': ObjectId('63fa04869409584ee6b795f1'), 'price': 69, 'date': '3/19', 'day': 'Sun', 'departure': '2:55 pm', 'arrival': '5:00 pm', 'duration': '2h 05m', 'company': 'Ryanair'}, {'_id': ObjectId('63fa04869409584ee6b795f3'), 'price': 64, 'date': '3/22', 'day': 'Wed', 'departure': '11:40 am', 'arrival': '1:55 pm', 'duration': '2h 15m', 'company': 'Iberia'}, {'_id': ObjectId('63fa04869409584ee6b795f4'), 'price': 62, 'date': '3/21', 'day': 'Tue', 'departure': '6:40 am', 'arrival': '8:45 am', 'duration': '2h 05m', 'company': 'Ryanair'}, {'_id': ObjectId('63fa04869409584ee6b795f5'), 'price': 68, 'date': '3/22', 'day': 'Wed', 'departure': '12:40 pm', 'arrival': '2:45 pm', 'duration': '2h 05m', 'company': 'Iberia'}, {'_id': ObjectId('63fa04869409584ee6b795f6'), 'price': 78, 'date': '3/23', 'day': 'Thu', 'departure': '7:30 am', 'arrival': '9:35 am', 'duration': '2h 05m', 'company': 'Iberia'}, {'_id': ObjectId('63fa04869409584ee6b795f7'), 'price': 64, 'date': '3/22', 'day': 'Wed', 'departure': '11:40 am', 'arrival': '1:55 pm', 'duration': '2h 15m', 'company': 'Iberia Express'}, {'_id': ObjectId('63fa04869409584ee6b795f8'), 'price': 68, 'date': '3/22', 'day': 'Wed', 'departure': '10:15 am', 'arrival': '12:20 pm', 'duration': '2h 05m', 'company': 'Iberia'}, {'_id': ObjectId('63fa04869409584ee6b795fa'), 'price': 72, 'date': '3/22', 'day': 'Wed', 'departure': '7:30 am', 'arrival': '9:35 am', 'duration': '2h 05m', 'company': 'Iberia'}, {'_id': ObjectId('63fa04869409584ee6b795fc'), 'price': 84, 'date': '3/24', 'day': 'Fri', 'departure': '4:30 pm', 'arrival': '6:40 pm', 'duration': '2h 10m', 'company': 'Transavia France'}, {'_id': ObjectId('63fa058ea7fdc414d28e32e3'), 'price': 26, 'date': '3/25', 'day': 'Sat', 'departure': '3:40 pm', 'arrival': '10:00 am+1', 'duration': '17h 20m', 'company': 'Ryanair'}, {'_id': ObjectId('63fa058ea7fdc414d28e32e4'), 'price': 44, 'date': '3/22', 'day': 'Wed', 'departure': '12:30 pm', 'arrival': '2:50 pm', 'duration': '2h 20m', 'company': 'easyJet'}, {'_id': ObjectId('63fa058ea7fdc414d28e32e5'), 'price': 48, 'date': '3/24', 'day': 'Fri', 'departure': '2:00 pm', 'arrival': '4:05 pm', 'duration': '2h 05m', 'company': 'Ryanair'}, {'_id': ObjectId('63fa058ea7fdc414d28e32e6'), 'price': 49, 'date': '3/22', 'day': 'Wed', 'departure': '6:20 am', 'arrival': '8:25 am', 'duration': '2h 05m', 'company': 'Transavia France'}, {'_id': ObjectId('63fa058ea7fdc414d28e32e7'), 'price': 58, 'date': '3/22', 'day': 'Wed', 'departure': '2:00 pm', 'arrival': '4:05 pm', 'duration': '2h 05m', 'company': 'Transavia France'}, {'_id': ObjectId('63fa058ea7fdc414d28e32e8'), 'price': 55, 'date': '3/23', 'day': 'Thu', 'departure': '6:20 am', 'arrival': '8:25 am', 'duration': '2h 05m', 'company': 'Transavia France'}, {'_id': ObjectId('63fa058ea7fdc414d28e32e9'), 'price': 57, 'date': '3/23', 'day': 'Thu', 'departure': '7:10 am', 'arrival': '9:25 am', 'duration': '2h 15m', 'company': 'easyJet'}, {'_id': ObjectId('63fa058ea7fdc414d28e32ea'), 'price': 78, 'date': '3/25', 'day': 'Sat', 'departure': '7:40 pm', 'arrival': '9:40 pm', 'duration': '2h 00m', 'company': 'Air Europa'}, {'_id': ObjectId('63fa058ea7fdc414d28e32eb'), 'price': 69, 'date': '3/23', 'day': 'Thu', 'departure': '3:15 pm', 'arrival': '5:20 pm', 'duration': '2h 05m', 'company': 'Ryanair'}, {'_id': ObjectId('63fa058ea7fdc414d28e32ec'), 'price': 59, 'date': '3/22', 'day': 'Wed', 'departure': '7:30 am', 'arrival': '9:45 am', 'duration': '2h 15m', 'company': 'Iberia'}, {'_id': ObjectId('63fa058ea7fdc414d28e32ed'), 'price': 58, 'date': '3/22', 'day': 'Wed', 'departure': '10:40 am', 'arrival': '12:45 pm', 'duration': '2h 05m', 'company': 'Transavia France'}, {'_id': ObjectId('63fa058ea7fdc414d28e32ee'), 'price': 59, 'date': '3/22', 'day': 'Wed', 'departure': '7:30 am', 'arrival': '9:45 am', 'duration': '2h 15m', 'company': 'Iberia Express'}, {'_id': ObjectId('63fa058ea7fdc414d28e32ef'), 'price': 59, 'date': '3/22', 'day': 'Wed', 'departure': '12:30 pm', 'arrival': '2:50 pm', 'duration': '2h 20m', 'company': 'easyJet Europe'}, {'_id': ObjectId('63fa058ea7fdc414d28e32f0'), 'price': 69, 'date': '3/19', 'day': 'Sun', 'departure': '2:55 pm', 'arrival': '5:00 pm', 'duration': '2h 05m', 'company': 'Ryanair'}, {'_id': ObjectId('63fa058ea7fdc414d28e32f2'), 'price': 64, 'date': '3/22', 'day': 'Wed', 'departure': '11:40 am', 'arrival': '1:55 pm', 'duration': '2h 15m', 'company': 'Iberia'}, {'_id': ObjectId('63fa058ea7fdc414d28e32f3'), 'price': 62, 'date': '3/21', 'day': 'Tue', 'departure': '6:40 am', 'arrival': '8:45 am', 'duration': '2h 05m', 'company': 'Ryanair'}, {'_id': ObjectId('63fa058ea7fdc414d28e32f4'), 'price': 68, 'date': '3/22', 'day': 'Wed', 'departure': '12:40 pm', 'arrival': '2:45 pm', 'duration': '2h 05m', 'company': 'Iberia'}, {'_id': ObjectId('63fa058ea7fdc414d28e32f5'), 'price': 78, 'date': '3/23', 'day': 'Thu', 'departure': '7:30 am', 'arrival': '9:35 am', 'duration': '2h 05m', 'company': 'Iberia'}, {'_id': ObjectId('63fa058ea7fdc414d28e32f6'), 'price': 64, 'date': '3/22', 'day': 'Wed', 'departure': '11:40 am', 'arrival': '1:55 pm', 'duration': '2h 15m', 'company': 'Iberia Express'}, {'_id': ObjectId('63fa058ea7fdc414d28e32f7'), 'price': 68, 'date': '3/22', 'day': 'Wed', 'departure': '10:15 am', 'arrival': '12:20 pm', 'duration': '2h 05m', 'company': 'Iberia'}, {'_id': ObjectId('63fa058ea7fdc414d28e32f9'), 'price': 72, 'date': '3/22', 'day': 'Wed', 'departure': '7:30 am', 'arrival': '9:35 am', 'duration': '2h 05m', 'company': 'Iberia'}, {'_id': ObjectId('63fa058ea7fdc414d28e32fb'), 'price': 84, 'date': '3/24', 'day': 'Fri', 'departure': '4:30 pm', 'arrival': '6:40 pm', 'duration': '2h 10m', 'company': 'Transavia France'}, {'_id': ObjectId('63fa04869409584ee6b7967b'), 'price': 73, 'date': '3/19', 'day': 'Sun', 'departure': '6:15 am', 'arrival': '8:45 am', 'duration': '2h 30m', 'company': 'Transavia France'}, {'_id': ObjectId('63fa04869409584ee6b7967c'), 'price': 83, 'date': '3/22', 'day': 'Wed', 'departure': '8:50 pm', 'arrival': '11:15 pm', 'duration': '2h 25m', 'company': 'Tunisair'}, {'_id': ObjectId('63fa04869409584ee6b7967d'), 'price': 73, 'date': '3/21', 'day': 'Tue', 'departure': '6:25 am', 'arrival': '8:55 am', 'duration': '2h 30m', 'company': 'Transavia France'}, {'_id': ObjectId('63fa04869409584ee6b7967e'), 'price': 83, 'date': '3/22', 'day': 'Wed', 'departure': '9:45 am', 'arrival': '12:10 pm', 'duration': '2h 25m', 'company': 'Tunisair'}, {'_id': ObjectId('63fa04869409584ee6b7967f'), 'price': 73, 'date': '3/20', 'day': 'Mon', 'departure': '6:25 am', 'arrival': '8:55 am', 'duration': '2h 30m', 'company': 'Transavia France'}, {'_id': ObjectId('63fa04869409584ee6b79680'), 'price': 77, 'date': '3/21', 'day': 'Tue', 'departure': '4:15 pm', 'arrival': '6:45 pm', 'duration': '2h 30m', 'company': 'Transavia France'}, {'_id': ObjectId('63fa04869409584ee6b79681'), 'price': 77, 'date': '3/21', 'day': 'Tue', 'departure': '9:40 am', 'arrival': '12:10 pm', 'duration': '2h 30m', 'company': 'Transavia France'}, {'_id': ObjectId('63fa04869409584ee6b79682'), 'price': 73, 'date': '3/22', 'day': 'Wed', 'departure': '6:25 am', 'arrival': '8:55 am', 'duration': '2h 30m', 'company': 'Transavia France'}, {'_id': ObjectId('63fa04869409584ee6b79686'), 'price': 80, 'date': '3/22', 'day': 'Wed', 'departure': '9:25 am', 'arrival': '11:55 am', 'duration': '2h 30m', 'company': 'Transavia France'}, {'_id': ObjectId('63fa04869409584ee6b79687'), 'price': 80, 'date': '3/22', 'day': 'Wed', 'departure': '4:15 pm', 'arrival': '6:45 pm', 'duration': '2h 30m', 'company': 'Transavia France'}, {'_id': ObjectId('63fa04869409584ee6b79689'), 'price': 84, 'date': '3/20', 'day': 'Mon', 'departure': '10:15 am', 'arrival': '12:45 pm', 'duration': '2h 30m', 'company': 'Transavia France'}, {'_id': ObjectId('63fa058ea7fdc414d28e337a'), 'price': 73, 'date': '3/19', 'day': 'Sun', 'departure': '6:15 am', 'arrival': '8:45 am', 'duration': '2h 30m', 'company': 'Transavia France'}, {'_id': ObjectId('63fa058ea7fdc414d28e337b'), 'price': 83, 'date': '3/22', 'day': 'Wed', 'departure': '8:50 pm', 'arrival': '11:15 pm', 'duration': '2h 25m', 'company': 'Tunisair'}, {'_id': ObjectId('63fa058ea7fdc414d28e337c'), 'price': 73, 'date': '3/21', 'day': 'Tue', 'departure': '6:25 am', 'arrival': '8:55 am', 'duration': '2h 30m', 'company': 'Transavia France'}, {'_id': ObjectId('63fa058ea7fdc414d28e337d'), 'price': 83, 'date': '3/22', 'day': 'Wed', 'departure': '9:45 am', 'arrival': '12:10 pm', 'duration': '2h 25m', 'company': 'Tunisair'}, {'_id': ObjectId('63fa058ea7fdc414d28e337e'), 'price': 73, 'date': '3/20', 'day': 'Mon', 'departure': '6:25 am', 'arrival': '8:55 am', 'duration': '2h 30m', 'company': 'Transavia France'}, {'_id': ObjectId('63fa058ea7fdc414d28e337f'), 'price': 77, 'date': '3/21', 'day': 'Tue', 'departure': '4:15 pm', 'arrival': '6:45 pm', 'duration': '2h 30m', 'company': 'Transavia France'}, {'_id': ObjectId('63fa058ea7fdc414d28e3380'), 'price': 77, 'date': '3/21', 'day': 'Tue', 'departure': '9:40 am', 'arrival': '12:10 pm', 'duration': '2h 30m', 'company': 'Transavia France'}, {'_id': ObjectId('63fa058ea7fdc414d28e3381'), 'price': 73, 'date': '3/22', 'day': 'Wed', 'departure': '6:25 am', 'arrival': '8:55 am', 'duration': '2h 30m', 'company': 'Transavia France'}, {'_id': ObjectId('63fa058ea7fdc414d28e3385'), 'price': 80, 'date': '3/22', 'day': 'Wed', 'departure': '9:25 am', 'arrival': '11:55 am', 'duration': '2h 30m', 'company': 'Transavia France'}, {'_id': ObjectId('63fa058ea7fdc414d28e3386'), 'price': 80, 'date': '3/22', 'day': 'Wed', 'departure': '4:15 pm', 'arrival': '6:45 pm', 'duration': '2h 30m', 'company': 'Transavia France'}, {'_id': ObjectId('63fa058ea7fdc414d28e3388'), 'price': 84, 'date': '3/20', 'day': 'Mon', 'departure': '10:15 am', 'arrival': '12:45 pm', 'duration': '2h 30m', 'company': 'Transavia France'}, {'_id': ObjectId('63fa04869409584ee6b795c7'), 'price': 33, 'date': '3/21', 'day': 'Tue', 'departure': '7:15 pm', 'arrival': '7:20 pm', 'duration': '1h 05m', 'company': 'Vueling'}, {'_id': ObjectId('63fa04869409584ee6b795c8'), 'price': 28, 'date': '3/22', 'day': 'Wed', 'departure': '7:20 am', 'arrival': '7:35 am', 'duration': '1h 15m', 'company': 'easyJet'}, {'_id': ObjectId('63fa04869409584ee6b795c9'), 'price': 58, 'date': '3/22', 'day': 'Wed', 'departure': '5:13 pm', 'arrival': '6:30 pm', 'duration': '2h 17m', 'company': 'Eurostar'}, {'_id': ObjectId('63fa04869409584ee6b795ca'), 'price': 32, 'date': '3/21', 'day': 'Tue', 'departure': '7:20 am', 'arrival': '7:35 am', 'duration': '1h 15m', 'company': 'easyJet'}, {'_id': ObjectId('63fa04869409584ee6b795cb'), 'price': 36, 'date': '3/21', 'day': 'Tue', 'departure': '2:15 pm', 'arrival': '2:30 pm', 'duration': '1h 15m', 'company': 'easyJet'}, {'_id': ObjectId('63fa04869409584ee6b795cc'), 'price': 31, 'date': '3/24', 'day': 'Fri', 'departure': '7:20 am', 'arrival': '7:35 am', 'duration': '1h 15m', 'company': 'easyJet'}, {'_id': ObjectId('63fa04869409584ee6b795cd'), 'price': 34, 'date': '3/21', 'day': 'Tue', 'departure': '10:00 am', 'arrival': '10:20 am', 'duration': '1h 20m', 'company': 'easyJet'}, {'_id': ObjectId('63fa04869409584ee6b795ce'), 'price': 43, 'date': '3/22', 'day': 'Wed', 'departure': '6:35 pm', 'arrival': '6:40 pm', 'duration': '1h 05m', 'company': 'Vueling'}, {'_id': ObjectId('63fa04869409584ee6b795cf'), 'price': 38, 'date': '3/25', 'day': 'Sat', 'departure': '7:15 am', 'arrival': '7:30 am', 'duration': '1h 15m', 'company': 'easyJet'}, {'_id': ObjectId('63fa04869409584ee6b795d0'), 'price': 39, 'date': '3/24', 'day': 'Fri', 'departure': '12:55 pm', 'arrival': '1:10 pm', 'duration': '1h 15m', 'company': 'easyJet'}, {'_id': ObjectId('63fa04869409584ee6b795d1'), 'price': 49, 'date': '3/25', 'day': 'Sat', 'departure': '7:35 pm', 'arrival': '7:40 pm', 'duration': '1h 05m', 'company': 'Vueling'}, {'_id': ObjectId('63fa04869409584ee6b795d2'), 'price': 37, 'date': '3/22', 'day': 'Wed', 'departure': '10:00 am', 'arrival': '10:20 am', 'duration': '1h 20m', 'company': 'easyJet'}, {'_id': ObjectId('63fa04869409584ee6b795d3'), 'price': 39, 'date': '3/21', 'day': 'Tue', 'departure': '9:25 pm', 'arrival': '9:40 pm', 'duration': '1h 15m', 'company': 'easyJet'}, {'_id': ObjectId('63fa04869409584ee6b795d4'), 'price': 33, 'date': '3/23', 'day': 'Thu', 'departure': '7:20 am', 'arrival': '7:35 am', 'duration': '1h 15m', 'company': 'easyJet'}, {'_id': ObjectId('63fa04869409584ee6b795d5'), 'price': 42, 'date': '3/22', 'day': 'Wed', 'departure': '7:20 am', 'arrival': '7:35 am', 'duration': '1h 15m', 'company': 'easyJet Europe'}, {'_id': ObjectId('63fa04869409584ee6b795d6'), 'price': 49, 'date': '3/23', 'day': 'Thu', 'departure': '6:20 pm', 'arrival': '6:25 pm', 'duration': '1h 05m', 'company': 'Vueling'}, {'_id': ObjectId('63fa04869409584ee6b795d7'), 'price': 49, 'date': '3/24', 'day': 'Fri', 'departure': '4:25 pm', 'arrival': '4:40 pm', 'duration': '1h 15m', 'company': 'easyJet'}, {'_id': ObjectId('63fa04869409584ee6b795d8'), 'price': 49, 'date': '3/24', 'day': 'Fri', 'departure': '5:55 pm', 'arrival': '6:10 pm', 'duration': '1h 15m', 'company': 'easyJet'}, {'_id': ObjectId('63fa04869409584ee6b795d9'), 'price': 49, 'date': '3/22', 'day': 'Wed', 'departure': '5:35 pm', 'arrival': '5:50 pm', 'duration': '1h 15m', 'company': 'easyJet'}, {'_id': ObjectId('63fa04869409584ee6b795da'), 'price': 50, 'date': '3/19', 'day': 'Sun', 'departure': '7:00 am', 'arrival': '7:05 am', 'duration': '1h 05m', 'company': 'Vueling'}, {'_id': ObjectId('63fa04869409584ee6b795db'), 'price': 48, 'date': '3/22', 'day': 'Wed', 'departure': '9:25 pm', 'arrival': '9:40 pm', 'duration': '1h 15m', 'company': 'easyJet'}, {'_id': ObjectId('63fa04869409584ee6b795dc'), 'price': 56, 'date': '3/25', 'day': 'Sat', 'departure': '2:45 pm', 'arrival': '2:55 pm', 'duration': '1h 10m', 'company': 'easyJet'}, {'_id': ObjectId('63fa04869409584ee6b795dd'), 'price': 59, 'date': '3/24', 'day': 'Fri', 'departure': '7:35 pm', 'arrival': '7:40 pm', 'duration': '1h 05m', 'company': 'Vueling'}, {'_id': ObjectId('63fa04869409584ee6b795de'), 'price': 54, 'date': '3/24', 'day': 'Fri', 'departure': '12:25 pm', 'arrival': '12:30 pm', 'duration': '1h 05m', 'company': 'Vueling'}, {'_id': ObjectId('63fa04869409584ee6b795df'), 'price': 48, 'date': '3/24', 'day': 'Fri', 'departure': '10:00 am', 'arrival': '10:20 am', 'duration': '1h 20m', 'company': 'easyJet'}, {'_id': ObjectId('63fa04869409584ee6b795e0'), 'price': 59, 'date': '3/25', 'day': 'Sat', 'departure': '11:50 am', 'arrival': '11:55 am', 'duration': '1h 05m', 'company': 'Vueling'}, {'_id': ObjectId('63fa04869409584ee6b795e1'), 'price': 62, 'date': '3/23', 'day': 'Thu', 'departure': '4:15 pm', 'arrival': '4:30 pm', 'duration': '1h 15m', 'company': 'British Airways'}, {'_id': ObjectId('63fa04869409584ee6b795e2'), 'price': 67, 'date': '3/22', 'day': 'Wed', 'departure': '4:35 pm', 'arrival': '4:40 pm', 'duration': '1h 05m', 'company': 'easyJet'}, {'_id': ObjectId('63fa04869409584ee6b795e3'), 'price': 65, 'date': '3/20', 'day': 'Mon', 'departure': '12:25 pm', 'arrival': '12:30 pm', 'duration': '1h 05m', 'company': 'Vueling'}, {'_id': ObjectId('63fa058ea7fdc414d28e32c6'), 'price': 33, 'date': '3/21', 'day': 'Tue', 'departure': '7:15 pm', 'arrival': '7:20 pm', 'duration': '1h 05m', 'company': 'Vueling'}, {'_id': ObjectId('63fa058ea7fdc414d28e32c7'), 'price': 28, 'date': '3/22', 'day': 'Wed', 'departure': '7:20 am', 'arrival': '7:35 am', 'duration': '1h 15m', 'company': 'easyJet'}, {'_id': ObjectId('63fa058ea7fdc414d28e32c8'), 'price': 58, 'date': '3/22', 'day': 'Wed', 'departure': '5:13 pm', 'arrival': '6:30 pm', 'duration': '2h 17m', 'company': 'Eurostar'}, {'_id': ObjectId('63fa058ea7fdc414d28e32c9'), 'price': 32, 'date': '3/21', 'day': 'Tue', 'departure': '7:20 am', 'arrival': '7:35 am', 'duration': '1h 15m', 'company': 'easyJet'}, {'_id': ObjectId('63fa058ea7fdc414d28e32ca'), 'price': 36, 'date': '3/21', 'day': 'Tue', 'departure': '2:15 pm', 'arrival': '2:30 pm', 'duration': '1h 15m', 'company': 'easyJet'}, {'_id': ObjectId('63fa058ea7fdc414d28e32cb'), 'price': 31, 'date': '3/24', 'day': 'Fri', 'departure': '7:20 am', 'arrival': '7:35 am', 'duration': '1h 15m', 'company': 'easyJet'}, {'_id': ObjectId('63fa058ea7fdc414d28e32cc'), 'price': 34, 'date': '3/21', 'day': 'Tue', 'departure': '10:00 am', 'arrival': '10:20 am', 'duration': '1h 20m', 'company': 'easyJet'}, {'_id': ObjectId('63fa058ea7fdc414d28e32cd'), 'price': 43, 'date': '3/22', 'day': 'Wed', 'departure': '6:35 pm', 'arrival': '6:40 pm', 'duration': '1h 05m', 'company': 'Vueling'}, {'_id': ObjectId('63fa058ea7fdc414d28e32ce'), 'price': 38, 'date': '3/25', 'day': 'Sat', 'departure': '7:15 am', 'arrival': '7:30 am', 'duration': '1h 15m', 'company': 'easyJet'}, {'_id': ObjectId('63fa058ea7fdc414d28e32cf'), 'price': 39, 'date': '3/24', 'day': 'Fri', 'departure': '12:55 pm', 'arrival': '1:10 pm', 'duration': '1h 15m', 'company': 'easyJet'}, {'_id': ObjectId('63fa058ea7fdc414d28e32d0'), 'price': 49, 'date': '3/25', 'day': 'Sat', 'departure': '7:35 pm', 'arrival': '7:40 pm', 'duration': '1h 05m', 'company': 'Vueling'}, {'_id': ObjectId('63fa058ea7fdc414d28e32d1'), 'price': 37, 'date': '3/22', 'day': 'Wed', 'departure': '10:00 am', 'arrival': '10:20 am', 'duration': '1h 20m', 'company': 'easyJet'}, {'_id': ObjectId('63fa058ea7fdc414d28e32d2'), 'price': 39, 'date': '3/21', 'day': 'Tue', 'departure': '9:25 pm', 'arrival': '9:40 pm', 'duration': '1h 15m', 'company': 'easyJet'}, {'_id': ObjectId('63fa058ea7fdc414d28e32d3'), 'price': 33, 'date': '3/23', 'day': 'Thu', 'departure': '7:20 am', 'arrival': '7:35 am', 'duration': '1h 15m', 'company': 'easyJet'}, {'_id': ObjectId('63fa058ea7fdc414d28e32d4'), 'price': 42, 'date': '3/22', 'day': 'Wed', 'departure': '7:20 am', 'arrival': '7:35 am', 'duration': '1h 15m', 'company': 'easyJet Europe'}, {'_id': ObjectId('63fa058ea7fdc414d28e32d5'), 'price': 49, 'date': '3/23', 'day': 'Thu', 'departure': '6:20 pm', 'arrival': '6:25 pm', 'duration': '1h 05m', 'company': 'Vueling'}, {'_id': ObjectId('63fa058ea7fdc414d28e32d6'), 'price': 49, 'date': '3/24', 'day': 'Fri', 'departure': '4:25 pm', 'arrival': '4:40 pm', 'duration': '1h 15m', 'company': 'easyJet'}, {'_id': ObjectId('63fa058ea7fdc414d28e32d7'), 'price': 49, 'date': '3/24', 'day': 'Fri', 'departure': '5:55 pm', 'arrival': '6:10 pm', 'duration': '1h 15m', 'company': 'easyJet'}, {'_id': ObjectId('63fa058ea7fdc414d28e32d8'), 'price': 49, 'date': '3/22', 'day': 'Wed', 'departure': '5:35 pm', 'arrival': '5:50 pm', 'duration': '1h 15m', 'company': 'easyJet'}, {'_id': ObjectId('63fa058ea7fdc414d28e32d9'), 'price': 50, 'date': '3/19', 'day': 'Sun', 'departure': '7:00 am', 'arrival': '7:05 am', 'duration': '1h 05m', 'company': 'Vueling'}, {'_id': ObjectId('63fa058ea7fdc414d28e32da'), 'price': 48, 'date': '3/22', 'day': 'Wed', 'departure': '9:25 pm', 'arrival': '9:40 pm', 'duration': '1h 15m', 'company': 'easyJet'}, {'_id': ObjectId('63fa058ea7fdc414d28e32db'), 'price': 56, 'date': '3/25', 'day': 'Sat', 'departure': '2:45 pm', 'arrival': '2:55 pm', 'duration': '1h 10m', 'company': 'easyJet'}, {'_id': ObjectId('63fa058ea7fdc414d28e32dc'), 'price': 59, 'date': '3/24', 'day': 'Fri', 'departure': '7:35 pm', 'arrival': '7:40 pm', 'duration': '1h 05m', 'company': 'Vueling'}, {'_id': ObjectId('63fa058ea7fdc414d28e32dd'), 'price': 54, 'date': '3/24', 'day': 'Fri', 'departure': '12:25 pm', 'arrival': '12:30 pm', 'duration': '1h 05m', 'company': 'Vueling'}, {'_id': ObjectId('63fa058ea7fdc414d28e32de'), 'price': 48, 'date': '3/24', 'day': 'Fri', 'departure': '10:00 am', 'arrival': '10:20 am', 'duration': '1h 20m', 'company': 'easyJet'}, {'_id': ObjectId('63fa058ea7fdc414d28e32df'), 'price': 59, 'date': '3/25', 'day': 'Sat', 'departure': '11:50 am', 'arrival': '11:55 am', 'duration': '1h 05m', 'company': 'Vueling'}, {'_id': ObjectId('63fa058ea7fdc414d28e32e0'), 'price': 62, 'date': '3/23', 'day': 'Thu', 'departure': '4:15 pm', 'arrival': '4:30 pm', 'duration': '1h 15m', 'company': 'British Airways'}, {'_id': ObjectId('63fa058ea7fdc414d28e32e1'), 'price': 67, 'date': '3/22', 'day': 'Wed', 'departure': '4:35 pm', 'arrival': '4:40 pm', 'duration': '1h 05m', 'company': 'easyJet'}, {'_id': ObjectId('63fa058ea7fdc414d28e32e2'), 'price': 65, 'date': '3/20', 'day': 'Mon', 'departure': '12:25 pm', 'arrival': '12:30 pm', 'duration': '1h 05m', 'company': 'Vueling'}]\n"
     ]
    }
   ],
   "source": [
    "flights = find_flights_by_price(db, 85)\n",
    "print(flights)\n"
   ]
  },
  {
   "cell_type": "code",
   "execution_count": null,
   "metadata": {},
   "outputs": [],
   "source": []
  }
 ],
 "metadata": {
  "kernelspec": {
   "display_name": "Python 3 (ipykernel)",
   "language": "python",
   "name": "python3"
  },
  "language_info": {
   "codemirror_mode": {
    "name": "ipython",
    "version": 3
   },
   "file_extension": ".py",
   "mimetype": "text/x-python",
   "name": "python",
   "nbconvert_exporter": "python",
   "pygments_lexer": "ipython3",
   "version": "3.8.16"
  }
 },
 "nbformat": 4,
 "nbformat_minor": 2
}
